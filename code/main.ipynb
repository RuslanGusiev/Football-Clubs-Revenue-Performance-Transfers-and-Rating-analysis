{
 "cells": [
  {
   "cell_type": "code",
   "execution_count": 1,
   "metadata": {},
   "outputs": [
    {
     "data": {
      "text/html": [
       "        <script type=\"text/javascript\">\n",
       "        window.PlotlyConfig = {MathJaxConfig: 'local'};\n",
       "        if (window.MathJax) {MathJax.Hub.Config({SVG: {font: \"STIX-Web\"}});}\n",
       "        if (typeof require !== 'undefined') {\n",
       "        require.undef(\"plotly\");\n",
       "        requirejs.config({\n",
       "            paths: {\n",
       "                'plotly': ['https://cdn.plot.ly/plotly-latest.min']\n",
       "            }\n",
       "        });\n",
       "        require(['plotly'], function(Plotly) {\n",
       "            window._Plotly = Plotly;\n",
       "        });\n",
       "        }\n",
       "        </script>\n",
       "        "
      ]
     },
     "metadata": {},
     "output_type": "display_data"
    }
   ],
   "source": [
    "'''\n",
    "L.S. Nice and clean analysis of the data. Despite the problems relatig to the difficulty of finding good data in this\n",
    "domain, you managed to get an interesting result. Moreover, the analysis was solid. The presentation was nice. For next time, I would spend some\n",
    "more time on the actual visualisation so that you captivate the audience a bit more. It was a clever idea to scrape some data\n",
    "from Wikipedia and merge this with the other data. \n",
    "'''\n",
    "\n",
    "\n",
    "\n",
    "import json\n",
    "import requests\n",
    "import pandas as pd\n",
    "import seaborn as sns\n",
    "import json\n",
    "import requests\n",
    "import pandas as pd\n",
    "import seaborn as sns\n",
    "import pandas as pd\n",
    "import chart_studio.plotly as py\n",
    "import cufflinks as cf\n",
    "from ipywidgets import interact\n",
    "%matplotlib inline\n",
    "import numpy as np\n",
    "import pandas as pd\n",
    "import matplotlib.pyplot as plt\n",
    "import pandas as pd\n",
    "import chart_studio.plotly as py\n",
    "import cufflinks as cf\n",
    "from ipywidgets import interact\n",
    "\n",
    "cf.go_offline()"
   ]
  },
  {
   "cell_type": "code",
   "execution_count": 2,
   "metadata": {},
   "outputs": [
    {
     "data": {
      "text/html": [
       "<div>\n",
       "<style scoped>\n",
       "    .dataframe tbody tr th:only-of-type {\n",
       "        vertical-align: middle;\n",
       "    }\n",
       "\n",
       "    .dataframe tbody tr th {\n",
       "        vertical-align: top;\n",
       "    }\n",
       "\n",
       "    .dataframe thead th {\n",
       "        text-align: right;\n",
       "    }\n",
       "</style>\n",
       "<table border=\"1\" class=\"dataframe\">\n",
       "  <thead>\n",
       "    <tr style=\"text-align: right;\">\n",
       "      <th></th>\n",
       "      <th>PLAYER</th>\n",
       "      <th>WINDOW</th>\n",
       "      <th>POSITION</th>\n",
       "      <th>COUNTRY</th>\n",
       "      <th>FROM</th>\n",
       "      <th>TO</th>\n",
       "      <th>DESCRIPTION</th>\n",
       "      <th>PRICE</th>\n",
       "      <th>LEAGUE</th>\n",
       "      <th>SEASON</th>\n",
       "    </tr>\n",
       "  </thead>\n",
       "  <tbody>\n",
       "    <tr>\n",
       "      <th>0</th>\n",
       "      <td>Paul Pogba</td>\n",
       "      <td>Pre-Season</td>\n",
       "      <td>Midfielder</td>\n",
       "      <td>France</td>\n",
       "      <td>Juventus</td>\n",
       "      <td>Manchester United</td>\n",
       "      <td>Sold</td>\n",
       "      <td>105000000.0</td>\n",
       "      <td>EPL</td>\n",
       "      <td>16/17</td>\n",
       "    </tr>\n",
       "    <tr>\n",
       "      <th>1</th>\n",
       "      <td>Gareth Bale</td>\n",
       "      <td>Pre-Season</td>\n",
       "      <td>Midfielder</td>\n",
       "      <td>Wales</td>\n",
       "      <td>Tottenham</td>\n",
       "      <td>Real Madrid</td>\n",
       "      <td>Sold</td>\n",
       "      <td>100000000.0</td>\n",
       "      <td>La Liga</td>\n",
       "      <td>13/14</td>\n",
       "    </tr>\n",
       "    <tr>\n",
       "      <th>2</th>\n",
       "      <td>Luis Suarez</td>\n",
       "      <td>Pre-Season</td>\n",
       "      <td>Attacker</td>\n",
       "      <td>Uruguay</td>\n",
       "      <td>Liverpool</td>\n",
       "      <td>Barcelona</td>\n",
       "      <td>Sold</td>\n",
       "      <td>95000000.0</td>\n",
       "      <td>La Liga</td>\n",
       "      <td>14/15</td>\n",
       "    </tr>\n",
       "    <tr>\n",
       "      <th>3</th>\n",
       "      <td>Ronaldo</td>\n",
       "      <td>Pre-Season</td>\n",
       "      <td>NaN</td>\n",
       "      <td>NaN</td>\n",
       "      <td>Manchester United</td>\n",
       "      <td>Real Madrid</td>\n",
       "      <td>Sold</td>\n",
       "      <td>93900000.0</td>\n",
       "      <td>La Liga</td>\n",
       "      <td>09/10</td>\n",
       "    </tr>\n",
       "    <tr>\n",
       "      <th>4</th>\n",
       "      <td>Gonzalo Higuain</td>\n",
       "      <td>Pre-Season</td>\n",
       "      <td>Attacker</td>\n",
       "      <td>Argentina</td>\n",
       "      <td>Napoli</td>\n",
       "      <td>Juventus</td>\n",
       "      <td>Sold</td>\n",
       "      <td>90000000.0</td>\n",
       "      <td>Serie A</td>\n",
       "      <td>16/17</td>\n",
       "    </tr>\n",
       "    <tr>\n",
       "      <th>5</th>\n",
       "      <td>James Rodriguez</td>\n",
       "      <td>Pre-Season</td>\n",
       "      <td>Midfielder</td>\n",
       "      <td>Colombia</td>\n",
       "      <td>Monaco</td>\n",
       "      <td>Real Madrid</td>\n",
       "      <td>Sold</td>\n",
       "      <td>80000000.0</td>\n",
       "      <td>La Liga</td>\n",
       "      <td>14/15</td>\n",
       "    </tr>\n",
       "    <tr>\n",
       "      <th>6</th>\n",
       "      <td>Kevin De Bruyne</td>\n",
       "      <td>Pre-Season</td>\n",
       "      <td>Midfielder</td>\n",
       "      <td>Belgium</td>\n",
       "      <td>Wolfsburg</td>\n",
       "      <td>Manchester City</td>\n",
       "      <td>Sold</td>\n",
       "      <td>76000000.0</td>\n",
       "      <td>EPL</td>\n",
       "      <td>15/16</td>\n",
       "    </tr>\n",
       "    <tr>\n",
       "      <th>7</th>\n",
       "      <td>Angel Di Maria</td>\n",
       "      <td>Pre-Season</td>\n",
       "      <td>Midfielder</td>\n",
       "      <td>Argentina</td>\n",
       "      <td>Real Madrid</td>\n",
       "      <td>Manchester United</td>\n",
       "      <td>Sold</td>\n",
       "      <td>75000000.0</td>\n",
       "      <td>EPL</td>\n",
       "      <td>14/15</td>\n",
       "    </tr>\n",
       "    <tr>\n",
       "      <th>8</th>\n",
       "      <td>Raheem Sterling</td>\n",
       "      <td>Pre-Season</td>\n",
       "      <td>Midfielder</td>\n",
       "      <td>England</td>\n",
       "      <td>Liverpool</td>\n",
       "      <td>Manchester City</td>\n",
       "      <td>Sold</td>\n",
       "      <td>69400000.0</td>\n",
       "      <td>EPL</td>\n",
       "      <td>15/16</td>\n",
       "    </tr>\n",
       "    <tr>\n",
       "      <th>9</th>\n",
       "      <td>Zlatan Ibrahimovic</td>\n",
       "      <td>Pre-Season</td>\n",
       "      <td>NaN</td>\n",
       "      <td>NaN</td>\n",
       "      <td>Inter Milan</td>\n",
       "      <td>Barcelona</td>\n",
       "      <td>Sold</td>\n",
       "      <td>69000000.0</td>\n",
       "      <td>La Liga</td>\n",
       "      <td>09/10</td>\n",
       "    </tr>\n",
       "  </tbody>\n",
       "</table>\n",
       "</div>"
      ],
      "text/plain": [
       "               PLAYER      WINDOW    POSITION    COUNTRY               FROM  \\\n",
       "0          Paul Pogba  Pre-Season  Midfielder     France           Juventus   \n",
       "1         Gareth Bale  Pre-Season  Midfielder      Wales          Tottenham   \n",
       "2         Luis Suarez  Pre-Season    Attacker    Uruguay          Liverpool   \n",
       "3             Ronaldo  Pre-Season         NaN        NaN  Manchester United   \n",
       "4     Gonzalo Higuain  Pre-Season    Attacker  Argentina             Napoli   \n",
       "5     James Rodriguez  Pre-Season  Midfielder   Colombia             Monaco   \n",
       "6     Kevin De Bruyne  Pre-Season  Midfielder    Belgium          Wolfsburg   \n",
       "7      Angel Di Maria  Pre-Season  Midfielder  Argentina        Real Madrid   \n",
       "8     Raheem Sterling  Pre-Season  Midfielder    England          Liverpool   \n",
       "9  Zlatan Ibrahimovic  Pre-Season         NaN        NaN        Inter Milan   \n",
       "\n",
       "                  TO DESCRIPTION        PRICE   LEAGUE SEASON  \n",
       "0  Manchester United        Sold  105000000.0      EPL  16/17  \n",
       "1        Real Madrid        Sold  100000000.0  La Liga  13/14  \n",
       "2          Barcelona        Sold   95000000.0  La Liga  14/15  \n",
       "3        Real Madrid        Sold   93900000.0  La Liga  09/10  \n",
       "4           Juventus        Sold   90000000.0  Serie A  16/17  \n",
       "5        Real Madrid        Sold   80000000.0  La Liga  14/15  \n",
       "6    Manchester City        Sold   76000000.0      EPL  15/16  \n",
       "7  Manchester United        Sold   75000000.0      EPL  14/15  \n",
       "8    Manchester City        Sold   69400000.0      EPL  15/16  \n",
       "9          Barcelona        Sold   69000000.0  La Liga  09/10  "
      ]
     },
     "execution_count": 2,
     "metadata": {},
     "output_type": "execute_result"
    }
   ],
   "source": [
    "data3 = pd.read_csv('./transfer_data.csv')\n",
    "data3.head(10)"
   ]
  },
  {
   "cell_type": "code",
   "execution_count": 3,
   "metadata": {},
   "outputs": [
    {
     "data": {
      "text/html": [
       "<div>\n",
       "<style scoped>\n",
       "    .dataframe tbody tr th:only-of-type {\n",
       "        vertical-align: middle;\n",
       "    }\n",
       "\n",
       "    .dataframe tbody tr th {\n",
       "        vertical-align: top;\n",
       "    }\n",
       "\n",
       "    .dataframe thead th {\n",
       "        text-align: right;\n",
       "    }\n",
       "</style>\n",
       "<table border=\"1\" class=\"dataframe\">\n",
       "  <thead>\n",
       "    <tr style=\"text-align: right;\">\n",
       "      <th></th>\n",
       "      <th>PLAYER</th>\n",
       "      <th>POSITION</th>\n",
       "      <th>COUNTRY</th>\n",
       "      <th>FROM</th>\n",
       "      <th>TO</th>\n",
       "      <th>PRICE</th>\n",
       "      <th>LEAGUE</th>\n",
       "      <th>SEASON</th>\n",
       "    </tr>\n",
       "  </thead>\n",
       "  <tbody>\n",
       "    <tr>\n",
       "      <th>0</th>\n",
       "      <td>Paul Pogba</td>\n",
       "      <td>Midfielder</td>\n",
       "      <td>France</td>\n",
       "      <td>Juventus</td>\n",
       "      <td>Manchester United</td>\n",
       "      <td>105000000.0</td>\n",
       "      <td>EPL</td>\n",
       "      <td>16/17</td>\n",
       "    </tr>\n",
       "    <tr>\n",
       "      <th>1</th>\n",
       "      <td>Gareth Bale</td>\n",
       "      <td>Midfielder</td>\n",
       "      <td>Wales</td>\n",
       "      <td>Tottenham</td>\n",
       "      <td>Real Madrid</td>\n",
       "      <td>100000000.0</td>\n",
       "      <td>La Liga</td>\n",
       "      <td>13/14</td>\n",
       "    </tr>\n",
       "    <tr>\n",
       "      <th>2</th>\n",
       "      <td>Luis Suarez</td>\n",
       "      <td>Attacker</td>\n",
       "      <td>Uruguay</td>\n",
       "      <td>Liverpool</td>\n",
       "      <td>Barcelona</td>\n",
       "      <td>95000000.0</td>\n",
       "      <td>La Liga</td>\n",
       "      <td>14/15</td>\n",
       "    </tr>\n",
       "    <tr>\n",
       "      <th>3</th>\n",
       "      <td>Ronaldo</td>\n",
       "      <td>NaN</td>\n",
       "      <td>NaN</td>\n",
       "      <td>Manchester United</td>\n",
       "      <td>Real Madrid</td>\n",
       "      <td>93900000.0</td>\n",
       "      <td>La Liga</td>\n",
       "      <td>09/10</td>\n",
       "    </tr>\n",
       "    <tr>\n",
       "      <th>4</th>\n",
       "      <td>Gonzalo Higuain</td>\n",
       "      <td>Attacker</td>\n",
       "      <td>Argentina</td>\n",
       "      <td>Napoli</td>\n",
       "      <td>Juventus</td>\n",
       "      <td>90000000.0</td>\n",
       "      <td>Serie A</td>\n",
       "      <td>16/17</td>\n",
       "    </tr>\n",
       "    <tr>\n",
       "      <th>5</th>\n",
       "      <td>James Rodriguez</td>\n",
       "      <td>Midfielder</td>\n",
       "      <td>Colombia</td>\n",
       "      <td>Monaco</td>\n",
       "      <td>Real Madrid</td>\n",
       "      <td>80000000.0</td>\n",
       "      <td>La Liga</td>\n",
       "      <td>14/15</td>\n",
       "    </tr>\n",
       "    <tr>\n",
       "      <th>6</th>\n",
       "      <td>Kevin De Bruyne</td>\n",
       "      <td>Midfielder</td>\n",
       "      <td>Belgium</td>\n",
       "      <td>Wolfsburg</td>\n",
       "      <td>Manchester City</td>\n",
       "      <td>76000000.0</td>\n",
       "      <td>EPL</td>\n",
       "      <td>15/16</td>\n",
       "    </tr>\n",
       "    <tr>\n",
       "      <th>7</th>\n",
       "      <td>Angel Di Maria</td>\n",
       "      <td>Midfielder</td>\n",
       "      <td>Argentina</td>\n",
       "      <td>Real Madrid</td>\n",
       "      <td>Manchester United</td>\n",
       "      <td>75000000.0</td>\n",
       "      <td>EPL</td>\n",
       "      <td>14/15</td>\n",
       "    </tr>\n",
       "    <tr>\n",
       "      <th>8</th>\n",
       "      <td>Raheem Sterling</td>\n",
       "      <td>Midfielder</td>\n",
       "      <td>England</td>\n",
       "      <td>Liverpool</td>\n",
       "      <td>Manchester City</td>\n",
       "      <td>69400000.0</td>\n",
       "      <td>EPL</td>\n",
       "      <td>15/16</td>\n",
       "    </tr>\n",
       "    <tr>\n",
       "      <th>9</th>\n",
       "      <td>Zlatan Ibrahimovic</td>\n",
       "      <td>NaN</td>\n",
       "      <td>NaN</td>\n",
       "      <td>Inter Milan</td>\n",
       "      <td>Barcelona</td>\n",
       "      <td>69000000.0</td>\n",
       "      <td>La Liga</td>\n",
       "      <td>09/10</td>\n",
       "    </tr>\n",
       "  </tbody>\n",
       "</table>\n",
       "</div>"
      ],
      "text/plain": [
       "               PLAYER    POSITION    COUNTRY               FROM  \\\n",
       "0          Paul Pogba  Midfielder     France           Juventus   \n",
       "1         Gareth Bale  Midfielder      Wales          Tottenham   \n",
       "2         Luis Suarez    Attacker    Uruguay          Liverpool   \n",
       "3             Ronaldo         NaN        NaN  Manchester United   \n",
       "4     Gonzalo Higuain    Attacker  Argentina             Napoli   \n",
       "5     James Rodriguez  Midfielder   Colombia             Monaco   \n",
       "6     Kevin De Bruyne  Midfielder    Belgium          Wolfsburg   \n",
       "7      Angel Di Maria  Midfielder  Argentina        Real Madrid   \n",
       "8     Raheem Sterling  Midfielder    England          Liverpool   \n",
       "9  Zlatan Ibrahimovic         NaN        NaN        Inter Milan   \n",
       "\n",
       "                  TO        PRICE   LEAGUE SEASON  \n",
       "0  Manchester United  105000000.0      EPL  16/17  \n",
       "1        Real Madrid  100000000.0  La Liga  13/14  \n",
       "2          Barcelona   95000000.0  La Liga  14/15  \n",
       "3        Real Madrid   93900000.0  La Liga  09/10  \n",
       "4           Juventus   90000000.0  Serie A  16/17  \n",
       "5        Real Madrid   80000000.0  La Liga  14/15  \n",
       "6    Manchester City   76000000.0      EPL  15/16  \n",
       "7  Manchester United   75000000.0      EPL  14/15  \n",
       "8    Manchester City   69400000.0      EPL  15/16  \n",
       "9          Barcelona   69000000.0  La Liga  09/10  "
      ]
     },
     "execution_count": 3,
     "metadata": {},
     "output_type": "execute_result"
    }
   ],
   "source": [
    "data1 = data3.drop('DESCRIPTION', axis=1)\n",
    "data4 = data1.drop('WINDOW', axis=1)\n",
    "data2 = data4[data1.SEASON != '15']\n",
    "data = data2[data2.SEASON != '16']\n",
    "data.head(10)"
   ]
  },
  {
   "cell_type": "code",
   "execution_count": 4,
   "metadata": {},
   "outputs": [
    {
     "data": {
      "text/html": [
       "<div>\n",
       "<style scoped>\n",
       "    .dataframe tbody tr th:only-of-type {\n",
       "        vertical-align: middle;\n",
       "    }\n",
       "\n",
       "    .dataframe tbody tr th {\n",
       "        vertical-align: top;\n",
       "    }\n",
       "\n",
       "    .dataframe thead th {\n",
       "        text-align: right;\n",
       "    }\n",
       "</style>\n",
       "<table border=\"1\" class=\"dataframe\">\n",
       "  <thead>\n",
       "    <tr style=\"text-align: right;\">\n",
       "      <th></th>\n",
       "      <th>Placement</th>\n",
       "      <th>TO</th>\n",
       "      <th>Revenue</th>\n",
       "      <th>SEASON</th>\n",
       "    </tr>\n",
       "  </thead>\n",
       "  <tbody>\n",
       "    <tr>\n",
       "      <th>0</th>\n",
       "      <td>1</td>\n",
       "      <td>Manchester United</td>\n",
       "      <td>689000000.0</td>\n",
       "      <td>16/17</td>\n",
       "    </tr>\n",
       "    <tr>\n",
       "      <th>1</th>\n",
       "      <td>2</td>\n",
       "      <td>Barcelona</td>\n",
       "      <td>620200000.0</td>\n",
       "      <td>16/17</td>\n",
       "    </tr>\n",
       "    <tr>\n",
       "      <th>2</th>\n",
       "      <td>3</td>\n",
       "      <td>Real Madrid</td>\n",
       "      <td>620100000.0</td>\n",
       "      <td>16/17</td>\n",
       "    </tr>\n",
       "    <tr>\n",
       "      <th>3</th>\n",
       "      <td>4</td>\n",
       "      <td>Bayern Munich</td>\n",
       "      <td>592000000.0</td>\n",
       "      <td>16/17</td>\n",
       "    </tr>\n",
       "    <tr>\n",
       "      <th>4</th>\n",
       "      <td>5</td>\n",
       "      <td>Manchester City</td>\n",
       "      <td>524900000.0</td>\n",
       "      <td>16/17</td>\n",
       "    </tr>\n",
       "    <tr>\n",
       "      <th>5</th>\n",
       "      <td>6</td>\n",
       "      <td>Paris Saint‑Germain</td>\n",
       "      <td>520900000.0</td>\n",
       "      <td>16/17</td>\n",
       "    </tr>\n",
       "    <tr>\n",
       "      <th>6</th>\n",
       "      <td>7</td>\n",
       "      <td>Arsenal</td>\n",
       "      <td>468500000.0</td>\n",
       "      <td>16/17</td>\n",
       "    </tr>\n",
       "    <tr>\n",
       "      <th>7</th>\n",
       "      <td>8</td>\n",
       "      <td>Chelsea</td>\n",
       "      <td>447400000.0</td>\n",
       "      <td>16/17</td>\n",
       "    </tr>\n",
       "    <tr>\n",
       "      <th>8</th>\n",
       "      <td>9</td>\n",
       "      <td>Liverpool</td>\n",
       "      <td>403800000.0</td>\n",
       "      <td>16/17</td>\n",
       "    </tr>\n",
       "    <tr>\n",
       "      <th>9</th>\n",
       "      <td>10</td>\n",
       "      <td>Juventus</td>\n",
       "      <td>341100000.0</td>\n",
       "      <td>16/17</td>\n",
       "    </tr>\n",
       "  </tbody>\n",
       "</table>\n",
       "</div>"
      ],
      "text/plain": [
       "   Placement                   TO      Revenue SEASON\n",
       "0          1    Manchester United  689000000.0  16/17\n",
       "1          2            Barcelona  620200000.0  16/17\n",
       "2          3          Real Madrid  620100000.0  16/17\n",
       "3          4        Bayern Munich  592000000.0  16/17\n",
       "4          5      Manchester City  524900000.0  16/17\n",
       "5          6  Paris Saint‑Germain  520900000.0  16/17\n",
       "6          7              Arsenal  468500000.0  16/17\n",
       "7          8              Chelsea  447400000.0  16/17\n",
       "8          9            Liverpool  403800000.0  16/17\n",
       "9         10             Juventus  341100000.0  16/17"
      ]
     },
     "execution_count": 4,
     "metadata": {},
     "output_type": "execute_result"
    }
   ],
   "source": [
    "wiki = pd.read_csv('./wiki.csv')\n",
    "wiki.head(10)"
   ]
  },
  {
   "cell_type": "code",
   "execution_count": 5,
   "metadata": {},
   "outputs": [],
   "source": [
    "rating = pd.read_csv('./rating.csv')\n",
    "\n",
    "rating.fillna = 0"
   ]
  },
  {
   "cell_type": "code",
   "execution_count": 6,
   "metadata": {},
   "outputs": [
    {
     "data": {
      "text/html": [
       "<div>\n",
       "<style scoped>\n",
       "    .dataframe tbody tr th:only-of-type {\n",
       "        vertical-align: middle;\n",
       "    }\n",
       "\n",
       "    .dataframe tbody tr th {\n",
       "        vertical-align: top;\n",
       "    }\n",
       "\n",
       "    .dataframe thead th {\n",
       "        text-align: right;\n",
       "    }\n",
       "</style>\n",
       "<table border=\"1\" class=\"dataframe\">\n",
       "  <thead>\n",
       "    <tr style=\"text-align: right;\">\n",
       "      <th></th>\n",
       "      <th>FROM</th>\n",
       "      <th>Rating</th>\n",
       "    </tr>\n",
       "  </thead>\n",
       "  <tbody>\n",
       "    <tr>\n",
       "      <th>50</th>\n",
       "      <td>Málaga CF</td>\n",
       "      <td>50.800000</td>\n",
       "    </tr>\n",
       "    <tr>\n",
       "      <th>51</th>\n",
       "      <td>Osasuna</td>\n",
       "      <td>48.500000</td>\n",
       "    </tr>\n",
       "    <tr>\n",
       "      <th>52</th>\n",
       "      <td>FC Twente Enschede</td>\n",
       "      <td>48.142857</td>\n",
       "    </tr>\n",
       "    <tr>\n",
       "      <th>53</th>\n",
       "      <td>Steaua Bucuresti</td>\n",
       "      <td>47.500000</td>\n",
       "    </tr>\n",
       "    <tr>\n",
       "      <th>54</th>\n",
       "      <td>Celtic</td>\n",
       "      <td>47.000000</td>\n",
       "    </tr>\n",
       "    <tr>\n",
       "      <th>55</th>\n",
       "      <td>Viktoria Plzen</td>\n",
       "      <td>47.000000</td>\n",
       "    </tr>\n",
       "    <tr>\n",
       "      <th>56</th>\n",
       "      <td>Athletic Bilbao</td>\n",
       "      <td>46.900000</td>\n",
       "    </tr>\n",
       "    <tr>\n",
       "      <th>57</th>\n",
       "      <td>Lille OSC</td>\n",
       "      <td>46.500000</td>\n",
       "    </tr>\n",
       "    <tr>\n",
       "      <th>58</th>\n",
       "      <td>Spartak Moscow</td>\n",
       "      <td>45.875000</td>\n",
       "    </tr>\n",
       "    <tr>\n",
       "      <th>59</th>\n",
       "      <td>Rapid Bucuresti</td>\n",
       "      <td>45.333333</td>\n",
       "    </tr>\n",
       "    <tr>\n",
       "      <th>60</th>\n",
       "      <td>Leicester City</td>\n",
       "      <td>45.000000</td>\n",
       "    </tr>\n",
       "    <tr>\n",
       "      <th>61</th>\n",
       "      <td>AS Monaco</td>\n",
       "      <td>44.166667</td>\n",
       "    </tr>\n",
       "    <tr>\n",
       "      <th>62</th>\n",
       "      <td>Newcastle United</td>\n",
       "      <td>43.777778</td>\n",
       "    </tr>\n",
       "    <tr>\n",
       "      <th>63</th>\n",
       "      <td>VfL Wolfsburg</td>\n",
       "      <td>43.555556</td>\n",
       "    </tr>\n",
       "    <tr>\n",
       "      <th>64</th>\n",
       "      <td>Bolton Wanderers</td>\n",
       "      <td>43.400000</td>\n",
       "    </tr>\n",
       "    <tr>\n",
       "      <th>65</th>\n",
       "      <td>AJ Auxerre</td>\n",
       "      <td>43.333333</td>\n",
       "    </tr>\n",
       "    <tr>\n",
       "      <th>66</th>\n",
       "      <td>Lazio</td>\n",
       "      <td>43.200000</td>\n",
       "    </tr>\n",
       "    <tr>\n",
       "      <th>67</th>\n",
       "      <td>Club Brugge</td>\n",
       "      <td>43.100000</td>\n",
       "    </tr>\n",
       "    <tr>\n",
       "      <th>68</th>\n",
       "      <td>Besiktas</td>\n",
       "      <td>42.000000</td>\n",
       "    </tr>\n",
       "    <tr>\n",
       "      <th>69</th>\n",
       "      <td>Hannover 96</td>\n",
       "      <td>42.000000</td>\n",
       "    </tr>\n",
       "    <tr>\n",
       "      <th>70</th>\n",
       "      <td>Racing Genk</td>\n",
       "      <td>41.800000</td>\n",
       "    </tr>\n",
       "    <tr>\n",
       "      <th>71</th>\n",
       "      <td>FC København</td>\n",
       "      <td>40.900000</td>\n",
       "    </tr>\n",
       "    <tr>\n",
       "      <th>72</th>\n",
       "      <td>Metalist Kharkiv</td>\n",
       "      <td>40.888889</td>\n",
       "    </tr>\n",
       "    <tr>\n",
       "      <th>73</th>\n",
       "      <td>Fulham FC</td>\n",
       "      <td>39.285714</td>\n",
       "    </tr>\n",
       "    <tr>\n",
       "      <th>74</th>\n",
       "      <td>Everton</td>\n",
       "      <td>38.600000</td>\n",
       "    </tr>\n",
       "    <tr>\n",
       "      <th>75</th>\n",
       "      <td>Dnipro Dnipropetrovsk</td>\n",
       "      <td>38.571429</td>\n",
       "    </tr>\n",
       "    <tr>\n",
       "      <th>76</th>\n",
       "      <td>PAOK Thessaloniki</td>\n",
       "      <td>38.500000</td>\n",
       "    </tr>\n",
       "    <tr>\n",
       "      <th>77</th>\n",
       "      <td>Borussia Mönchengladbach</td>\n",
       "      <td>38.400000</td>\n",
       "    </tr>\n",
       "    <tr>\n",
       "      <th>78</th>\n",
       "      <td>Udinese</td>\n",
       "      <td>37.666667</td>\n",
       "    </tr>\n",
       "    <tr>\n",
       "      <th>79</th>\n",
       "      <td>Celta de Vigo</td>\n",
       "      <td>35.800000</td>\n",
       "    </tr>\n",
       "  </tbody>\n",
       "</table>\n",
       "</div>"
      ],
      "text/plain": [
       "                        FROM     Rating\n",
       "50                 Málaga CF  50.800000\n",
       "51                   Osasuna  48.500000\n",
       "52        FC Twente Enschede  48.142857\n",
       "53          Steaua Bucuresti  47.500000\n",
       "54                    Celtic  47.000000\n",
       "55            Viktoria Plzen  47.000000\n",
       "56           Athletic Bilbao  46.900000\n",
       "57                 Lille OSC  46.500000\n",
       "58            Spartak Moscow  45.875000\n",
       "59           Rapid Bucuresti  45.333333\n",
       "60            Leicester City  45.000000\n",
       "61                 AS Monaco  44.166667\n",
       "62          Newcastle United  43.777778\n",
       "63             VfL Wolfsburg  43.555556\n",
       "64          Bolton Wanderers  43.400000\n",
       "65                AJ Auxerre  43.333333\n",
       "66                     Lazio  43.200000\n",
       "67               Club Brugge  43.100000\n",
       "68                  Besiktas  42.000000\n",
       "69               Hannover 96  42.000000\n",
       "70               Racing Genk  41.800000\n",
       "71              FC København  40.900000\n",
       "72          Metalist Kharkiv  40.888889\n",
       "73                 Fulham FC  39.285714\n",
       "74                   Everton  38.600000\n",
       "75     Dnipro Dnipropetrovsk  38.571429\n",
       "76         PAOK Thessaloniki  38.500000\n",
       "77  Borussia Mönchengladbach  38.400000\n",
       "78                   Udinese  37.666667\n",
       "79             Celta de Vigo  35.800000"
      ]
     },
     "execution_count": 6,
     "metadata": {},
     "output_type": "execute_result"
    }
   ],
   "source": [
    "#rat = rating.groupby(rating.TO)[\"Res_Rating\"].mean()\n",
    "\n",
    "rat = rating.groupby(by=\"TO\").mean().sort_values(by = \"Res_Rating\", ascending=False)\n",
    "rat1 = rat.drop('Rating', axis=1).reset_index()\n",
    "rat1.columns = [\"FROM\", \"Rating\"]\n",
    "rat1[50:80]\n",
    "#rat1[rat1.FROM == \"FC Monaco\"]"
   ]
  },
  {
   "cell_type": "code",
   "execution_count": 7,
   "metadata": {},
   "outputs": [
    {
     "data": {
      "text/plain": [
       "SEASON\n",
       "07/08    257\n",
       "08/09    131\n",
       "09/10    537\n",
       "10/11    561\n",
       "11/12    661\n",
       "12/13    633\n",
       "13/14    823\n",
       "14/15    773\n",
       "15/16    866\n",
       "16/17    648\n",
       "Name: PLAYER, dtype: int64"
      ]
     },
     "execution_count": 7,
     "metadata": {},
     "output_type": "execute_result"
    }
   ],
   "source": [
    "data.groupby(data.SEASON)['PLAYER'].count()"
   ]
  },
  {
   "cell_type": "code",
   "execution_count": 8,
   "metadata": {},
   "outputs": [
    {
     "data": {
      "text/plain": [
       "LEAGUE\n",
       "Bundesliga     468\n",
       "EPL           1338\n",
       "La Liga       1138\n",
       "ROE           1171\n",
       "Serie A       1775\n",
       "Name: PLAYER, dtype: int64"
      ]
     },
     "execution_count": 8,
     "metadata": {},
     "output_type": "execute_result"
    }
   ],
   "source": [
    "data.groupby(data.LEAGUE)['PLAYER'].count()"
   ]
  },
  {
   "cell_type": "code",
   "execution_count": 9,
   "metadata": {},
   "outputs": [
    {
     "data": {
      "text/html": [
       "<div>\n",
       "<style scoped>\n",
       "    .dataframe tbody tr th:only-of-type {\n",
       "        vertical-align: middle;\n",
       "    }\n",
       "\n",
       "    .dataframe tbody tr th {\n",
       "        vertical-align: top;\n",
       "    }\n",
       "\n",
       "    .dataframe thead th {\n",
       "        text-align: right;\n",
       "    }\n",
       "</style>\n",
       "<table border=\"1\" class=\"dataframe\">\n",
       "  <thead>\n",
       "    <tr style=\"text-align: right;\">\n",
       "      <th></th>\n",
       "      <th>FROM</th>\n",
       "      <th>Sell</th>\n",
       "    </tr>\n",
       "  </thead>\n",
       "  <tbody>\n",
       "    <tr>\n",
       "      <th>0</th>\n",
       "      <td>Porto</td>\n",
       "      <td>503100000.0</td>\n",
       "    </tr>\n",
       "    <tr>\n",
       "      <th>1</th>\n",
       "      <td>Liverpool</td>\n",
       "      <td>490900000.0</td>\n",
       "    </tr>\n",
       "    <tr>\n",
       "      <th>2</th>\n",
       "      <td>Benfica</td>\n",
       "      <td>439000000.0</td>\n",
       "    </tr>\n",
       "  </tbody>\n",
       "</table>\n",
       "</div>"
      ],
      "text/plain": [
       "        FROM         Sell\n",
       "0      Porto  503100000.0\n",
       "1  Liverpool  490900000.0\n",
       "2    Benfica  439000000.0"
      ]
     },
     "execution_count": 9,
     "metadata": {},
     "output_type": "execute_result"
    }
   ],
   "source": [
    "#data_from = data.groupby(data.FROM)['PRICE'].sum().sort_values(ascending=False)\n",
    "#data_from.head(30)\n",
    "data_from = data.groupby(by=\"FROM\").sum().sort_values(by = \"PRICE\", ascending=False)\n",
    "data_from1 = data_from.reset_index()\n",
    "data_from1.columns = ['FROM', 'Sell']\n",
    "data_from1.head(3)"
   ]
  },
  {
   "cell_type": "code",
   "execution_count": 10,
   "metadata": {},
   "outputs": [
    {
     "data": {
      "text/html": [
       "<div>\n",
       "<style scoped>\n",
       "    .dataframe tbody tr th:only-of-type {\n",
       "        vertical-align: middle;\n",
       "    }\n",
       "\n",
       "    .dataframe tbody tr th {\n",
       "        vertical-align: top;\n",
       "    }\n",
       "\n",
       "    .dataframe thead th {\n",
       "        text-align: right;\n",
       "    }\n",
       "</style>\n",
       "<table border=\"1\" class=\"dataframe\">\n",
       "  <thead>\n",
       "    <tr style=\"text-align: right;\">\n",
       "      <th></th>\n",
       "      <th>FROM</th>\n",
       "      <th>Buy</th>\n",
       "    </tr>\n",
       "  </thead>\n",
       "  <tbody>\n",
       "    <tr>\n",
       "      <th>0</th>\n",
       "      <td>Manchester City</td>\n",
       "      <td>1.067575e+09</td>\n",
       "    </tr>\n",
       "    <tr>\n",
       "      <th>1</th>\n",
       "      <td>Real Madrid</td>\n",
       "      <td>1.005800e+09</td>\n",
       "    </tr>\n",
       "    <tr>\n",
       "      <th>2</th>\n",
       "      <td>Barcelona</td>\n",
       "      <td>8.769000e+08</td>\n",
       "    </tr>\n",
       "  </tbody>\n",
       "</table>\n",
       "</div>"
      ],
      "text/plain": [
       "              FROM           Buy\n",
       "0  Manchester City  1.067575e+09\n",
       "1      Real Madrid  1.005800e+09\n",
       "2        Barcelona  8.769000e+08"
      ]
     },
     "execution_count": 10,
     "metadata": {},
     "output_type": "execute_result"
    }
   ],
   "source": [
    "data_to = data.groupby(by=\"TO\").sum().sort_values(by = \"PRICE\", ascending=False)\n",
    "data_to1 = data_to.reset_index()\n",
    "data_to1.columns = ['FROM', 'Buy']\n",
    "data_to1.head(3)"
   ]
  },
  {
   "cell_type": "code",
   "execution_count": 11,
   "metadata": {},
   "outputs": [
    {
     "data": {
      "text/html": [
       "<div>\n",
       "<style scoped>\n",
       "    .dataframe tbody tr th:only-of-type {\n",
       "        vertical-align: middle;\n",
       "    }\n",
       "\n",
       "    .dataframe tbody tr th {\n",
       "        vertical-align: top;\n",
       "    }\n",
       "\n",
       "    .dataframe thead th {\n",
       "        text-align: right;\n",
       "    }\n",
       "</style>\n",
       "<table border=\"1\" class=\"dataframe\">\n",
       "  <thead>\n",
       "    <tr style=\"text-align: right;\">\n",
       "      <th></th>\n",
       "      <th>FROM</th>\n",
       "      <th>Sell</th>\n",
       "      <th>Buy</th>\n",
       "    </tr>\n",
       "  </thead>\n",
       "  <tbody>\n",
       "    <tr>\n",
       "      <th>0</th>\n",
       "      <td>Porto</td>\n",
       "      <td>503100000.0</td>\n",
       "      <td>1.543000e+08</td>\n",
       "    </tr>\n",
       "    <tr>\n",
       "      <th>1</th>\n",
       "      <td>Liverpool</td>\n",
       "      <td>490900000.0</td>\n",
       "      <td>6.356300e+08</td>\n",
       "    </tr>\n",
       "    <tr>\n",
       "      <th>2</th>\n",
       "      <td>Benfica</td>\n",
       "      <td>439000000.0</td>\n",
       "      <td>1.044000e+08</td>\n",
       "    </tr>\n",
       "    <tr>\n",
       "      <th>3</th>\n",
       "      <td>Real Madrid</td>\n",
       "      <td>424400000.0</td>\n",
       "      <td>1.005800e+09</td>\n",
       "    </tr>\n",
       "    <tr>\n",
       "      <th>4</th>\n",
       "      <td>Valencia</td>\n",
       "      <td>421250000.0</td>\n",
       "      <td>2.732000e+08</td>\n",
       "    </tr>\n",
       "  </tbody>\n",
       "</table>\n",
       "</div>"
      ],
      "text/plain": [
       "          FROM         Sell           Buy\n",
       "0        Porto  503100000.0  1.543000e+08\n",
       "1    Liverpool  490900000.0  6.356300e+08\n",
       "2      Benfica  439000000.0  1.044000e+08\n",
       "3  Real Madrid  424400000.0  1.005800e+09\n",
       "4     Valencia  421250000.0  2.732000e+08"
      ]
     },
     "execution_count": 11,
     "metadata": {},
     "output_type": "execute_result"
    }
   ],
   "source": [
    "res = pd.merge(data_from1, data_to1, how='left', on=['FROM'])\n",
    "res1 = res.head(30)\n",
    "res1.head(5)"
   ]
  },
  {
   "cell_type": "code",
   "execution_count": 12,
   "metadata": {},
   "outputs": [
    {
     "data": {
      "application/vnd.plotly.v1+json": {
       "config": {
        "linkText": "Export to plot.ly",
        "plotlyServerURL": "https://plot.ly",
        "showLink": true
       },
       "data": [
        {
         "marker": {
          "color": "rgba(0, 128, 0, 0.6)",
          "line": {
           "color": "rgba(0, 128, 0, 1.0)",
           "width": 1
          }
         },
         "name": "Sell",
         "orientation": "v",
         "text": "",
         "type": "bar",
         "x": [
          "Porto",
          "Liverpool",
          "Benfica",
          "Real Madrid",
          "Valencia",
          "Atletico Madrid",
          "Chelsea",
          "Sevilla",
          "Roma",
          "Tottenham",
          "Juventus",
          "Barcelona",
          "Monaco",
          "Inter Milan",
          "Manchester United",
          "Southampton",
          "Ajax",
          "Napoli",
          "AC Milan",
          "Arsenal",
          "Lille",
          "Manchester City",
          "Lyon",
          "Newcastle",
          "Villarreal",
          "Udinese",
          "Wolfsburg",
          "Bor. Dortmund",
          "Bayern Munich",
          "Fiorentina"
         ],
         "y": [
          503100000,
          490900000,
          439000000,
          424400000,
          421250000,
          368700000,
          353600000,
          348250000,
          337800000,
          331450000,
          319100000,
          280600000,
          272200000,
          270200000,
          264150000,
          242900000,
          238450000,
          238250000,
          238100000,
          231200000,
          219900000,
          218000000,
          208000000,
          203100000,
          200600000,
          198250000,
          190800000,
          189050000,
          187000000,
          182000000
         ]
        },
        {
         "marker": {
          "color": "rgba(55, 128, 191, 0.6)",
          "line": {
           "color": "rgba(55, 128, 191, 1.0)",
           "width": 1
          }
         },
         "name": "Buy",
         "orientation": "v",
         "text": "",
         "type": "bar",
         "x": [
          "Porto",
          "Liverpool",
          "Benfica",
          "Real Madrid",
          "Valencia",
          "Atletico Madrid",
          "Chelsea",
          "Sevilla",
          "Roma",
          "Tottenham",
          "Juventus",
          "Barcelona",
          "Monaco",
          "Inter Milan",
          "Manchester United",
          "Southampton",
          "Ajax",
          "Napoli",
          "AC Milan",
          "Arsenal",
          "Lille",
          "Manchester City",
          "Lyon",
          "Newcastle",
          "Villarreal",
          "Udinese",
          "Wolfsburg",
          "Bor. Dortmund",
          "Bayern Munich",
          "Fiorentina"
         ],
         "y": [
          154300000,
          635630000,
          104400000,
          1005800000,
          273200000,
          555400000,
          798650000,
          197900000,
          435150000,
          413600000,
          658300000,
          876900000,
          294450000,
          389500000,
          738750000,
          223850000,
          17500000,
          282700000,
          272400000,
          408800000,
          32000000,
          1067575000,
          127700000,
          211100000,
          132750000,
          48450000,
          241700000,
          266800000,
          410000000,
          166700000
         ]
        }
       ],
       "layout": {
        "legend": {
         "bgcolor": "#F5F6F9",
         "font": {
          "color": "#4D5663"
         }
        },
        "paper_bgcolor": "#F5F6F9",
        "plot_bgcolor": "#F5F6F9",
        "template": {
         "data": {
          "bar": [
           {
            "error_x": {
             "color": "#2a3f5f"
            },
            "error_y": {
             "color": "#2a3f5f"
            },
            "marker": {
             "line": {
              "color": "#E5ECF6",
              "width": 0.5
             }
            },
            "type": "bar"
           }
          ],
          "barpolar": [
           {
            "marker": {
             "line": {
              "color": "#E5ECF6",
              "width": 0.5
             }
            },
            "type": "barpolar"
           }
          ],
          "carpet": [
           {
            "aaxis": {
             "endlinecolor": "#2a3f5f",
             "gridcolor": "white",
             "linecolor": "white",
             "minorgridcolor": "white",
             "startlinecolor": "#2a3f5f"
            },
            "baxis": {
             "endlinecolor": "#2a3f5f",
             "gridcolor": "white",
             "linecolor": "white",
             "minorgridcolor": "white",
             "startlinecolor": "#2a3f5f"
            },
            "type": "carpet"
           }
          ],
          "choropleth": [
           {
            "colorbar": {
             "outlinewidth": 0,
             "ticks": ""
            },
            "type": "choropleth"
           }
          ],
          "contour": [
           {
            "colorbar": {
             "outlinewidth": 0,
             "ticks": ""
            },
            "colorscale": [
             [
              0,
              "#0d0887"
             ],
             [
              0.1111111111111111,
              "#46039f"
             ],
             [
              0.2222222222222222,
              "#7201a8"
             ],
             [
              0.3333333333333333,
              "#9c179e"
             ],
             [
              0.4444444444444444,
              "#bd3786"
             ],
             [
              0.5555555555555556,
              "#d8576b"
             ],
             [
              0.6666666666666666,
              "#ed7953"
             ],
             [
              0.7777777777777778,
              "#fb9f3a"
             ],
             [
              0.8888888888888888,
              "#fdca26"
             ],
             [
              1,
              "#f0f921"
             ]
            ],
            "type": "contour"
           }
          ],
          "contourcarpet": [
           {
            "colorbar": {
             "outlinewidth": 0,
             "ticks": ""
            },
            "type": "contourcarpet"
           }
          ],
          "heatmap": [
           {
            "colorbar": {
             "outlinewidth": 0,
             "ticks": ""
            },
            "colorscale": [
             [
              0,
              "#0d0887"
             ],
             [
              0.1111111111111111,
              "#46039f"
             ],
             [
              0.2222222222222222,
              "#7201a8"
             ],
             [
              0.3333333333333333,
              "#9c179e"
             ],
             [
              0.4444444444444444,
              "#bd3786"
             ],
             [
              0.5555555555555556,
              "#d8576b"
             ],
             [
              0.6666666666666666,
              "#ed7953"
             ],
             [
              0.7777777777777778,
              "#fb9f3a"
             ],
             [
              0.8888888888888888,
              "#fdca26"
             ],
             [
              1,
              "#f0f921"
             ]
            ],
            "type": "heatmap"
           }
          ],
          "heatmapgl": [
           {
            "colorbar": {
             "outlinewidth": 0,
             "ticks": ""
            },
            "colorscale": [
             [
              0,
              "#0d0887"
             ],
             [
              0.1111111111111111,
              "#46039f"
             ],
             [
              0.2222222222222222,
              "#7201a8"
             ],
             [
              0.3333333333333333,
              "#9c179e"
             ],
             [
              0.4444444444444444,
              "#bd3786"
             ],
             [
              0.5555555555555556,
              "#d8576b"
             ],
             [
              0.6666666666666666,
              "#ed7953"
             ],
             [
              0.7777777777777778,
              "#fb9f3a"
             ],
             [
              0.8888888888888888,
              "#fdca26"
             ],
             [
              1,
              "#f0f921"
             ]
            ],
            "type": "heatmapgl"
           }
          ],
          "histogram": [
           {
            "marker": {
             "colorbar": {
              "outlinewidth": 0,
              "ticks": ""
             }
            },
            "type": "histogram"
           }
          ],
          "histogram2d": [
           {
            "colorbar": {
             "outlinewidth": 0,
             "ticks": ""
            },
            "colorscale": [
             [
              0,
              "#0d0887"
             ],
             [
              0.1111111111111111,
              "#46039f"
             ],
             [
              0.2222222222222222,
              "#7201a8"
             ],
             [
              0.3333333333333333,
              "#9c179e"
             ],
             [
              0.4444444444444444,
              "#bd3786"
             ],
             [
              0.5555555555555556,
              "#d8576b"
             ],
             [
              0.6666666666666666,
              "#ed7953"
             ],
             [
              0.7777777777777778,
              "#fb9f3a"
             ],
             [
              0.8888888888888888,
              "#fdca26"
             ],
             [
              1,
              "#f0f921"
             ]
            ],
            "type": "histogram2d"
           }
          ],
          "histogram2dcontour": [
           {
            "colorbar": {
             "outlinewidth": 0,
             "ticks": ""
            },
            "colorscale": [
             [
              0,
              "#0d0887"
             ],
             [
              0.1111111111111111,
              "#46039f"
             ],
             [
              0.2222222222222222,
              "#7201a8"
             ],
             [
              0.3333333333333333,
              "#9c179e"
             ],
             [
              0.4444444444444444,
              "#bd3786"
             ],
             [
              0.5555555555555556,
              "#d8576b"
             ],
             [
              0.6666666666666666,
              "#ed7953"
             ],
             [
              0.7777777777777778,
              "#fb9f3a"
             ],
             [
              0.8888888888888888,
              "#fdca26"
             ],
             [
              1,
              "#f0f921"
             ]
            ],
            "type": "histogram2dcontour"
           }
          ],
          "mesh3d": [
           {
            "colorbar": {
             "outlinewidth": 0,
             "ticks": ""
            },
            "type": "mesh3d"
           }
          ],
          "parcoords": [
           {
            "line": {
             "colorbar": {
              "outlinewidth": 0,
              "ticks": ""
             }
            },
            "type": "parcoords"
           }
          ],
          "scatter": [
           {
            "marker": {
             "colorbar": {
              "outlinewidth": 0,
              "ticks": ""
             }
            },
            "type": "scatter"
           }
          ],
          "scatter3d": [
           {
            "line": {
             "colorbar": {
              "outlinewidth": 0,
              "ticks": ""
             }
            },
            "marker": {
             "colorbar": {
              "outlinewidth": 0,
              "ticks": ""
             }
            },
            "type": "scatter3d"
           }
          ],
          "scattercarpet": [
           {
            "marker": {
             "colorbar": {
              "outlinewidth": 0,
              "ticks": ""
             }
            },
            "type": "scattercarpet"
           }
          ],
          "scattergeo": [
           {
            "marker": {
             "colorbar": {
              "outlinewidth": 0,
              "ticks": ""
             }
            },
            "type": "scattergeo"
           }
          ],
          "scattergl": [
           {
            "marker": {
             "colorbar": {
              "outlinewidth": 0,
              "ticks": ""
             }
            },
            "type": "scattergl"
           }
          ],
          "scattermapbox": [
           {
            "marker": {
             "colorbar": {
              "outlinewidth": 0,
              "ticks": ""
             }
            },
            "type": "scattermapbox"
           }
          ],
          "scatterpolar": [
           {
            "marker": {
             "colorbar": {
              "outlinewidth": 0,
              "ticks": ""
             }
            },
            "type": "scatterpolar"
           }
          ],
          "scatterpolargl": [
           {
            "marker": {
             "colorbar": {
              "outlinewidth": 0,
              "ticks": ""
             }
            },
            "type": "scatterpolargl"
           }
          ],
          "scatterternary": [
           {
            "marker": {
             "colorbar": {
              "outlinewidth": 0,
              "ticks": ""
             }
            },
            "type": "scatterternary"
           }
          ],
          "surface": [
           {
            "colorbar": {
             "outlinewidth": 0,
             "ticks": ""
            },
            "colorscale": [
             [
              0,
              "#0d0887"
             ],
             [
              0.1111111111111111,
              "#46039f"
             ],
             [
              0.2222222222222222,
              "#7201a8"
             ],
             [
              0.3333333333333333,
              "#9c179e"
             ],
             [
              0.4444444444444444,
              "#bd3786"
             ],
             [
              0.5555555555555556,
              "#d8576b"
             ],
             [
              0.6666666666666666,
              "#ed7953"
             ],
             [
              0.7777777777777778,
              "#fb9f3a"
             ],
             [
              0.8888888888888888,
              "#fdca26"
             ],
             [
              1,
              "#f0f921"
             ]
            ],
            "type": "surface"
           }
          ],
          "table": [
           {
            "cells": {
             "fill": {
              "color": "#EBF0F8"
             },
             "line": {
              "color": "white"
             }
            },
            "header": {
             "fill": {
              "color": "#C8D4E3"
             },
             "line": {
              "color": "white"
             }
            },
            "type": "table"
           }
          ]
         },
         "layout": {
          "annotationdefaults": {
           "arrowcolor": "#2a3f5f",
           "arrowhead": 0,
           "arrowwidth": 1
          },
          "colorscale": {
           "diverging": [
            [
             0,
             "#8e0152"
            ],
            [
             0.1,
             "#c51b7d"
            ],
            [
             0.2,
             "#de77ae"
            ],
            [
             0.3,
             "#f1b6da"
            ],
            [
             0.4,
             "#fde0ef"
            ],
            [
             0.5,
             "#f7f7f7"
            ],
            [
             0.6,
             "#e6f5d0"
            ],
            [
             0.7,
             "#b8e186"
            ],
            [
             0.8,
             "#7fbc41"
            ],
            [
             0.9,
             "#4d9221"
            ],
            [
             1,
             "#276419"
            ]
           ],
           "sequential": [
            [
             0,
             "#0d0887"
            ],
            [
             0.1111111111111111,
             "#46039f"
            ],
            [
             0.2222222222222222,
             "#7201a8"
            ],
            [
             0.3333333333333333,
             "#9c179e"
            ],
            [
             0.4444444444444444,
             "#bd3786"
            ],
            [
             0.5555555555555556,
             "#d8576b"
            ],
            [
             0.6666666666666666,
             "#ed7953"
            ],
            [
             0.7777777777777778,
             "#fb9f3a"
            ],
            [
             0.8888888888888888,
             "#fdca26"
            ],
            [
             1,
             "#f0f921"
            ]
           ],
           "sequentialminus": [
            [
             0,
             "#0d0887"
            ],
            [
             0.1111111111111111,
             "#46039f"
            ],
            [
             0.2222222222222222,
             "#7201a8"
            ],
            [
             0.3333333333333333,
             "#9c179e"
            ],
            [
             0.4444444444444444,
             "#bd3786"
            ],
            [
             0.5555555555555556,
             "#d8576b"
            ],
            [
             0.6666666666666666,
             "#ed7953"
            ],
            [
             0.7777777777777778,
             "#fb9f3a"
            ],
            [
             0.8888888888888888,
             "#fdca26"
            ],
            [
             1,
             "#f0f921"
            ]
           ]
          },
          "colorway": [
           "#636efa",
           "#EF553B",
           "#00cc96",
           "#ab63fa",
           "#FFA15A",
           "#19d3f3",
           "#FF6692",
           "#B6E880",
           "#FF97FF",
           "#FECB52"
          ],
          "font": {
           "color": "#2a3f5f"
          },
          "geo": {
           "bgcolor": "white",
           "lakecolor": "white",
           "landcolor": "#E5ECF6",
           "showlakes": true,
           "showland": true,
           "subunitcolor": "white"
          },
          "hoverlabel": {
           "align": "left"
          },
          "hovermode": "closest",
          "mapbox": {
           "style": "light"
          },
          "paper_bgcolor": "white",
          "plot_bgcolor": "#E5ECF6",
          "polar": {
           "angularaxis": {
            "gridcolor": "white",
            "linecolor": "white",
            "ticks": ""
           },
           "bgcolor": "#E5ECF6",
           "radialaxis": {
            "gridcolor": "white",
            "linecolor": "white",
            "ticks": ""
           }
          },
          "scene": {
           "xaxis": {
            "backgroundcolor": "#E5ECF6",
            "gridcolor": "white",
            "gridwidth": 2,
            "linecolor": "white",
            "showbackground": true,
            "ticks": "",
            "zerolinecolor": "white"
           },
           "yaxis": {
            "backgroundcolor": "#E5ECF6",
            "gridcolor": "white",
            "gridwidth": 2,
            "linecolor": "white",
            "showbackground": true,
            "ticks": "",
            "zerolinecolor": "white"
           },
           "zaxis": {
            "backgroundcolor": "#E5ECF6",
            "gridcolor": "white",
            "gridwidth": 2,
            "linecolor": "white",
            "showbackground": true,
            "ticks": "",
            "zerolinecolor": "white"
           }
          },
          "shapedefaults": {
           "line": {
            "color": "#2a3f5f"
           }
          },
          "ternary": {
           "aaxis": {
            "gridcolor": "white",
            "linecolor": "white",
            "ticks": ""
           },
           "baxis": {
            "gridcolor": "white",
            "linecolor": "white",
            "ticks": ""
           },
           "bgcolor": "#E5ECF6",
           "caxis": {
            "gridcolor": "white",
            "linecolor": "white",
            "ticks": ""
           }
          },
          "title": {
           "x": 0.05
          },
          "xaxis": {
           "automargin": true,
           "gridcolor": "white",
           "linecolor": "white",
           "ticks": "",
           "zerolinecolor": "white",
           "zerolinewidth": 2
          },
          "yaxis": {
           "automargin": true,
           "gridcolor": "white",
           "linecolor": "white",
           "ticks": "",
           "zerolinecolor": "white",
           "zerolinewidth": 2
          }
         }
        },
        "title": {
         "font": {
          "color": "#4D5663"
         },
         "text": "Total sell and buy"
        },
        "xaxis": {
         "gridcolor": "#E1E5ED",
         "showgrid": true,
         "tickfont": {
          "color": "#4D5663"
         },
         "title": {
          "font": {
           "color": "#4D5663"
          },
          "text": "Club"
         },
         "zerolinecolor": "#E1E5ED"
        },
        "yaxis": {
         "gridcolor": "#E1E5ED",
         "showgrid": true,
         "tickfont": {
          "color": "#4D5663"
         },
         "title": {
          "font": {
           "color": "#4D5663"
          },
          "text": "Price"
         },
         "zerolinecolor": "#E1E5ED"
        }
       }
      },
      "text/html": [
       "<div>\n",
       "        \n",
       "        \n",
       "            <div id=\"2d4f66d9-b732-4f45-85e9-fd53a323dea8\" class=\"plotly-graph-div\" style=\"height:525px; width:100%;\"></div>\n",
       "            <script type=\"text/javascript\">\n",
       "                require([\"plotly\"], function(Plotly) {\n",
       "                    window.PLOTLYENV=window.PLOTLYENV || {};\n",
       "                    window.PLOTLYENV.BASE_URL='https://plot.ly';\n",
       "                    \n",
       "                if (document.getElementById(\"2d4f66d9-b732-4f45-85e9-fd53a323dea8\")) {\n",
       "                    Plotly.newPlot(\n",
       "                        '2d4f66d9-b732-4f45-85e9-fd53a323dea8',\n",
       "                        [{\"marker\": {\"color\": \"rgba(0, 128, 0, 0.6)\", \"line\": {\"color\": \"rgba(0, 128, 0, 1.0)\", \"width\": 1}}, \"name\": \"Sell\", \"orientation\": \"v\", \"text\": \"\", \"type\": \"bar\", \"x\": [\"Porto\", \"Liverpool\", \"Benfica\", \"Real Madrid\", \"Valencia\", \"Atletico Madrid\", \"Chelsea\", \"Sevilla\", \"Roma\", \"Tottenham\", \"Juventus\", \"Barcelona\", \"Monaco\", \"Inter Milan\", \"Manchester United\", \"Southampton\", \"Ajax\", \"Napoli\", \"AC Milan\", \"Arsenal\", \"Lille\", \"Manchester City\", \"Lyon\", \"Newcastle\", \"Villarreal\", \"Udinese\", \"Wolfsburg\", \"Bor. Dortmund\", \"Bayern Munich\", \"Fiorentina\"], \"y\": [503100000.0, 490900000.0, 439000000.0, 424400000.0, 421250000.0, 368700000.0, 353600000.0, 348250000.0, 337800000.0, 331450000.0, 319100000.0, 280600000.0, 272200000.0, 270200000.0, 264150000.0, 242900000.0, 238450000.0, 238250000.0, 238100000.0, 231200000.0, 219900000.0, 218000000.0, 208000000.0, 203100000.0, 200600000.0, 198250000.0, 190800000.0, 189050000.0, 187000000.0, 182000000.0]}, {\"marker\": {\"color\": \"rgba(55, 128, 191, 0.6)\", \"line\": {\"color\": \"rgba(55, 128, 191, 1.0)\", \"width\": 1}}, \"name\": \"Buy\", \"orientation\": \"v\", \"text\": \"\", \"type\": \"bar\", \"x\": [\"Porto\", \"Liverpool\", \"Benfica\", \"Real Madrid\", \"Valencia\", \"Atletico Madrid\", \"Chelsea\", \"Sevilla\", \"Roma\", \"Tottenham\", \"Juventus\", \"Barcelona\", \"Monaco\", \"Inter Milan\", \"Manchester United\", \"Southampton\", \"Ajax\", \"Napoli\", \"AC Milan\", \"Arsenal\", \"Lille\", \"Manchester City\", \"Lyon\", \"Newcastle\", \"Villarreal\", \"Udinese\", \"Wolfsburg\", \"Bor. Dortmund\", \"Bayern Munich\", \"Fiorentina\"], \"y\": [154300000.0, 635630000.0, 104400000.0, 1005800000.0, 273200000.0, 555400000.0, 798650000.0, 197900000.0, 435150000.0, 413600000.0, 658300000.0, 876900000.0, 294450000.0, 389500000.0, 738750000.0, 223850000.0, 17500000.0, 282700000.0, 272400000.0, 408800000.0, 32000000.0, 1067575000.0, 127700000.0, 211100000.0, 132750000.0, 48450000.0, 241700000.0, 266800000.0, 410000000.0, 166700000.0]}],\n",
       "                        {\"legend\": {\"bgcolor\": \"#F5F6F9\", \"font\": {\"color\": \"#4D5663\"}}, \"paper_bgcolor\": \"#F5F6F9\", \"plot_bgcolor\": \"#F5F6F9\", \"template\": {\"data\": {\"bar\": [{\"error_x\": {\"color\": \"#2a3f5f\"}, \"error_y\": {\"color\": \"#2a3f5f\"}, \"marker\": {\"line\": {\"color\": \"#E5ECF6\", \"width\": 0.5}}, \"type\": \"bar\"}], \"barpolar\": [{\"marker\": {\"line\": {\"color\": \"#E5ECF6\", \"width\": 0.5}}, \"type\": \"barpolar\"}], \"carpet\": [{\"aaxis\": {\"endlinecolor\": \"#2a3f5f\", \"gridcolor\": \"white\", \"linecolor\": \"white\", \"minorgridcolor\": \"white\", \"startlinecolor\": \"#2a3f5f\"}, \"baxis\": {\"endlinecolor\": \"#2a3f5f\", \"gridcolor\": \"white\", \"linecolor\": \"white\", \"minorgridcolor\": \"white\", \"startlinecolor\": \"#2a3f5f\"}, \"type\": \"carpet\"}], \"choropleth\": [{\"colorbar\": {\"outlinewidth\": 0, \"ticks\": \"\"}, \"type\": \"choropleth\"}], \"contour\": [{\"colorbar\": {\"outlinewidth\": 0, \"ticks\": \"\"}, \"colorscale\": [[0.0, \"#0d0887\"], [0.1111111111111111, \"#46039f\"], [0.2222222222222222, \"#7201a8\"], [0.3333333333333333, \"#9c179e\"], [0.4444444444444444, \"#bd3786\"], [0.5555555555555556, \"#d8576b\"], [0.6666666666666666, \"#ed7953\"], [0.7777777777777778, \"#fb9f3a\"], [0.8888888888888888, \"#fdca26\"], [1.0, \"#f0f921\"]], \"type\": \"contour\"}], \"contourcarpet\": [{\"colorbar\": {\"outlinewidth\": 0, \"ticks\": \"\"}, \"type\": \"contourcarpet\"}], \"heatmap\": [{\"colorbar\": {\"outlinewidth\": 0, \"ticks\": \"\"}, \"colorscale\": [[0.0, \"#0d0887\"], [0.1111111111111111, \"#46039f\"], [0.2222222222222222, \"#7201a8\"], [0.3333333333333333, \"#9c179e\"], [0.4444444444444444, \"#bd3786\"], [0.5555555555555556, \"#d8576b\"], [0.6666666666666666, \"#ed7953\"], [0.7777777777777778, \"#fb9f3a\"], [0.8888888888888888, \"#fdca26\"], [1.0, \"#f0f921\"]], \"type\": \"heatmap\"}], \"heatmapgl\": [{\"colorbar\": {\"outlinewidth\": 0, \"ticks\": \"\"}, \"colorscale\": [[0.0, \"#0d0887\"], [0.1111111111111111, \"#46039f\"], [0.2222222222222222, \"#7201a8\"], [0.3333333333333333, \"#9c179e\"], [0.4444444444444444, \"#bd3786\"], [0.5555555555555556, \"#d8576b\"], [0.6666666666666666, \"#ed7953\"], [0.7777777777777778, \"#fb9f3a\"], [0.8888888888888888, \"#fdca26\"], [1.0, \"#f0f921\"]], \"type\": \"heatmapgl\"}], \"histogram\": [{\"marker\": {\"colorbar\": {\"outlinewidth\": 0, \"ticks\": \"\"}}, \"type\": \"histogram\"}], \"histogram2d\": [{\"colorbar\": {\"outlinewidth\": 0, \"ticks\": \"\"}, \"colorscale\": [[0.0, \"#0d0887\"], [0.1111111111111111, \"#46039f\"], [0.2222222222222222, \"#7201a8\"], [0.3333333333333333, \"#9c179e\"], [0.4444444444444444, \"#bd3786\"], [0.5555555555555556, \"#d8576b\"], [0.6666666666666666, \"#ed7953\"], [0.7777777777777778, \"#fb9f3a\"], [0.8888888888888888, \"#fdca26\"], [1.0, \"#f0f921\"]], \"type\": \"histogram2d\"}], \"histogram2dcontour\": [{\"colorbar\": {\"outlinewidth\": 0, \"ticks\": \"\"}, \"colorscale\": [[0.0, \"#0d0887\"], [0.1111111111111111, \"#46039f\"], [0.2222222222222222, \"#7201a8\"], [0.3333333333333333, \"#9c179e\"], [0.4444444444444444, \"#bd3786\"], [0.5555555555555556, \"#d8576b\"], [0.6666666666666666, \"#ed7953\"], [0.7777777777777778, \"#fb9f3a\"], [0.8888888888888888, \"#fdca26\"], [1.0, \"#f0f921\"]], \"type\": \"histogram2dcontour\"}], \"mesh3d\": [{\"colorbar\": {\"outlinewidth\": 0, \"ticks\": \"\"}, \"type\": \"mesh3d\"}], \"parcoords\": [{\"line\": {\"colorbar\": {\"outlinewidth\": 0, \"ticks\": \"\"}}, \"type\": \"parcoords\"}], \"scatter\": [{\"marker\": {\"colorbar\": {\"outlinewidth\": 0, \"ticks\": \"\"}}, \"type\": \"scatter\"}], \"scatter3d\": [{\"line\": {\"colorbar\": {\"outlinewidth\": 0, \"ticks\": \"\"}}, \"marker\": {\"colorbar\": {\"outlinewidth\": 0, \"ticks\": \"\"}}, \"type\": \"scatter3d\"}], \"scattercarpet\": [{\"marker\": {\"colorbar\": {\"outlinewidth\": 0, \"ticks\": \"\"}}, \"type\": \"scattercarpet\"}], \"scattergeo\": [{\"marker\": {\"colorbar\": {\"outlinewidth\": 0, \"ticks\": \"\"}}, \"type\": \"scattergeo\"}], \"scattergl\": [{\"marker\": {\"colorbar\": {\"outlinewidth\": 0, \"ticks\": \"\"}}, \"type\": \"scattergl\"}], \"scattermapbox\": [{\"marker\": {\"colorbar\": {\"outlinewidth\": 0, \"ticks\": \"\"}}, \"type\": \"scattermapbox\"}], \"scatterpolar\": [{\"marker\": {\"colorbar\": {\"outlinewidth\": 0, \"ticks\": \"\"}}, \"type\": \"scatterpolar\"}], \"scatterpolargl\": [{\"marker\": {\"colorbar\": {\"outlinewidth\": 0, \"ticks\": \"\"}}, \"type\": \"scatterpolargl\"}], \"scatterternary\": [{\"marker\": {\"colorbar\": {\"outlinewidth\": 0, \"ticks\": \"\"}}, \"type\": \"scatterternary\"}], \"surface\": [{\"colorbar\": {\"outlinewidth\": 0, \"ticks\": \"\"}, \"colorscale\": [[0.0, \"#0d0887\"], [0.1111111111111111, \"#46039f\"], [0.2222222222222222, \"#7201a8\"], [0.3333333333333333, \"#9c179e\"], [0.4444444444444444, \"#bd3786\"], [0.5555555555555556, \"#d8576b\"], [0.6666666666666666, \"#ed7953\"], [0.7777777777777778, \"#fb9f3a\"], [0.8888888888888888, \"#fdca26\"], [1.0, \"#f0f921\"]], \"type\": \"surface\"}], \"table\": [{\"cells\": {\"fill\": {\"color\": \"#EBF0F8\"}, \"line\": {\"color\": \"white\"}}, \"header\": {\"fill\": {\"color\": \"#C8D4E3\"}, \"line\": {\"color\": \"white\"}}, \"type\": \"table\"}]}, \"layout\": {\"annotationdefaults\": {\"arrowcolor\": \"#2a3f5f\", \"arrowhead\": 0, \"arrowwidth\": 1}, \"colorscale\": {\"diverging\": [[0, \"#8e0152\"], [0.1, \"#c51b7d\"], [0.2, \"#de77ae\"], [0.3, \"#f1b6da\"], [0.4, \"#fde0ef\"], [0.5, \"#f7f7f7\"], [0.6, \"#e6f5d0\"], [0.7, \"#b8e186\"], [0.8, \"#7fbc41\"], [0.9, \"#4d9221\"], [1, \"#276419\"]], \"sequential\": [[0.0, \"#0d0887\"], [0.1111111111111111, \"#46039f\"], [0.2222222222222222, \"#7201a8\"], [0.3333333333333333, \"#9c179e\"], [0.4444444444444444, \"#bd3786\"], [0.5555555555555556, \"#d8576b\"], [0.6666666666666666, \"#ed7953\"], [0.7777777777777778, \"#fb9f3a\"], [0.8888888888888888, \"#fdca26\"], [1.0, \"#f0f921\"]], \"sequentialminus\": [[0.0, \"#0d0887\"], [0.1111111111111111, \"#46039f\"], [0.2222222222222222, \"#7201a8\"], [0.3333333333333333, \"#9c179e\"], [0.4444444444444444, \"#bd3786\"], [0.5555555555555556, \"#d8576b\"], [0.6666666666666666, \"#ed7953\"], [0.7777777777777778, \"#fb9f3a\"], [0.8888888888888888, \"#fdca26\"], [1.0, \"#f0f921\"]]}, \"colorway\": [\"#636efa\", \"#EF553B\", \"#00cc96\", \"#ab63fa\", \"#FFA15A\", \"#19d3f3\", \"#FF6692\", \"#B6E880\", \"#FF97FF\", \"#FECB52\"], \"font\": {\"color\": \"#2a3f5f\"}, \"geo\": {\"bgcolor\": \"white\", \"lakecolor\": \"white\", \"landcolor\": \"#E5ECF6\", \"showlakes\": true, \"showland\": true, \"subunitcolor\": \"white\"}, \"hoverlabel\": {\"align\": \"left\"}, \"hovermode\": \"closest\", \"mapbox\": {\"style\": \"light\"}, \"paper_bgcolor\": \"white\", \"plot_bgcolor\": \"#E5ECF6\", \"polar\": {\"angularaxis\": {\"gridcolor\": \"white\", \"linecolor\": \"white\", \"ticks\": \"\"}, \"bgcolor\": \"#E5ECF6\", \"radialaxis\": {\"gridcolor\": \"white\", \"linecolor\": \"white\", \"ticks\": \"\"}}, \"scene\": {\"xaxis\": {\"backgroundcolor\": \"#E5ECF6\", \"gridcolor\": \"white\", \"gridwidth\": 2, \"linecolor\": \"white\", \"showbackground\": true, \"ticks\": \"\", \"zerolinecolor\": \"white\"}, \"yaxis\": {\"backgroundcolor\": \"#E5ECF6\", \"gridcolor\": \"white\", \"gridwidth\": 2, \"linecolor\": \"white\", \"showbackground\": true, \"ticks\": \"\", \"zerolinecolor\": \"white\"}, \"zaxis\": {\"backgroundcolor\": \"#E5ECF6\", \"gridcolor\": \"white\", \"gridwidth\": 2, \"linecolor\": \"white\", \"showbackground\": true, \"ticks\": \"\", \"zerolinecolor\": \"white\"}}, \"shapedefaults\": {\"line\": {\"color\": \"#2a3f5f\"}}, \"ternary\": {\"aaxis\": {\"gridcolor\": \"white\", \"linecolor\": \"white\", \"ticks\": \"\"}, \"baxis\": {\"gridcolor\": \"white\", \"linecolor\": \"white\", \"ticks\": \"\"}, \"bgcolor\": \"#E5ECF6\", \"caxis\": {\"gridcolor\": \"white\", \"linecolor\": \"white\", \"ticks\": \"\"}}, \"title\": {\"x\": 0.05}, \"xaxis\": {\"automargin\": true, \"gridcolor\": \"white\", \"linecolor\": \"white\", \"ticks\": \"\", \"zerolinecolor\": \"white\", \"zerolinewidth\": 2}, \"yaxis\": {\"automargin\": true, \"gridcolor\": \"white\", \"linecolor\": \"white\", \"ticks\": \"\", \"zerolinecolor\": \"white\", \"zerolinewidth\": 2}}}, \"title\": {\"font\": {\"color\": \"#4D5663\"}, \"text\": \"Total sell and buy\"}, \"xaxis\": {\"gridcolor\": \"#E1E5ED\", \"showgrid\": true, \"tickfont\": {\"color\": \"#4D5663\"}, \"title\": {\"font\": {\"color\": \"#4D5663\"}, \"text\": \"Club\"}, \"zerolinecolor\": \"#E1E5ED\"}, \"yaxis\": {\"gridcolor\": \"#E1E5ED\", \"showgrid\": true, \"tickfont\": {\"color\": \"#4D5663\"}, \"title\": {\"font\": {\"color\": \"#4D5663\"}, \"text\": \"Price\"}, \"zerolinecolor\": \"#E1E5ED\"}},\n",
       "                        {\"showLink\": true, \"linkText\": \"Export to plot.ly\", \"plotlyServerURL\": \"https://plot.ly\", \"responsive\": true}\n",
       "                    ).then(function(){\n",
       "                            \n",
       "var gd = document.getElementById('2d4f66d9-b732-4f45-85e9-fd53a323dea8');\n",
       "var x = new MutationObserver(function (mutations, observer) {{\n",
       "        var display = window.getComputedStyle(gd).display;\n",
       "        if (!display || display === 'none') {{\n",
       "            console.log([gd, 'removed!']);\n",
       "            Plotly.purge(gd);\n",
       "            observer.disconnect();\n",
       "        }}\n",
       "}});\n",
       "\n",
       "// Listen for the removal of the full notebook cells\n",
       "var notebookContainer = gd.closest('#notebook-container');\n",
       "if (notebookContainer) {{\n",
       "    x.observe(notebookContainer, {childList: true});\n",
       "}}\n",
       "\n",
       "// Listen for the clearing of the current output cell\n",
       "var outputEl = gd.closest('.output');\n",
       "if (outputEl) {{\n",
       "    x.observe(outputEl, {childList: true});\n",
       "}}\n",
       "\n",
       "                        })\n",
       "                };\n",
       "                });\n",
       "            </script>\n",
       "        </div>"
      ]
     },
     "metadata": {},
     "output_type": "display_data"
    }
   ],
   "source": [
    "res1.iplot(kind='bar', x='FROM', xTitle='Club', color=['green', 'blue'], yTitle='Price', title='Total sell and buy')"
   ]
  },
  {
   "cell_type": "code",
   "execution_count": 13,
   "metadata": {},
   "outputs": [
    {
     "data": {
      "text/html": [
       "<div>\n",
       "<style scoped>\n",
       "    .dataframe tbody tr th:only-of-type {\n",
       "        vertical-align: middle;\n",
       "    }\n",
       "\n",
       "    .dataframe tbody tr th {\n",
       "        vertical-align: top;\n",
       "    }\n",
       "\n",
       "    .dataframe thead th {\n",
       "        text-align: right;\n",
       "    }\n",
       "</style>\n",
       "<table border=\"1\" class=\"dataframe\">\n",
       "  <thead>\n",
       "    <tr style=\"text-align: right;\">\n",
       "      <th></th>\n",
       "      <th>FROM</th>\n",
       "      <th>Sell</th>\n",
       "      <th>Buy</th>\n",
       "      <th>Strategy</th>\n",
       "    </tr>\n",
       "  </thead>\n",
       "  <tbody>\n",
       "    <tr>\n",
       "      <th>1</th>\n",
       "      <td>Liverpool</td>\n",
       "      <td>490900000.0</td>\n",
       "      <td>6.356300e+08</td>\n",
       "      <td>2</td>\n",
       "    </tr>\n",
       "    <tr>\n",
       "      <th>3</th>\n",
       "      <td>Real Madrid</td>\n",
       "      <td>424400000.0</td>\n",
       "      <td>1.005800e+09</td>\n",
       "      <td>2</td>\n",
       "    </tr>\n",
       "    <tr>\n",
       "      <th>5</th>\n",
       "      <td>Atletico Madrid</td>\n",
       "      <td>368700000.0</td>\n",
       "      <td>5.554000e+08</td>\n",
       "      <td>2</td>\n",
       "    </tr>\n",
       "    <tr>\n",
       "      <th>6</th>\n",
       "      <td>Chelsea</td>\n",
       "      <td>353600000.0</td>\n",
       "      <td>7.986500e+08</td>\n",
       "      <td>2</td>\n",
       "    </tr>\n",
       "    <tr>\n",
       "      <th>8</th>\n",
       "      <td>Roma</td>\n",
       "      <td>337800000.0</td>\n",
       "      <td>4.351500e+08</td>\n",
       "      <td>2</td>\n",
       "    </tr>\n",
       "    <tr>\n",
       "      <th>9</th>\n",
       "      <td>Tottenham</td>\n",
       "      <td>331450000.0</td>\n",
       "      <td>4.136000e+08</td>\n",
       "      <td>2</td>\n",
       "    </tr>\n",
       "    <tr>\n",
       "      <th>10</th>\n",
       "      <td>Juventus</td>\n",
       "      <td>319100000.0</td>\n",
       "      <td>6.583000e+08</td>\n",
       "      <td>2</td>\n",
       "    </tr>\n",
       "    <tr>\n",
       "      <th>11</th>\n",
       "      <td>Barcelona</td>\n",
       "      <td>280600000.0</td>\n",
       "      <td>8.769000e+08</td>\n",
       "      <td>2</td>\n",
       "    </tr>\n",
       "    <tr>\n",
       "      <th>12</th>\n",
       "      <td>Monaco</td>\n",
       "      <td>272200000.0</td>\n",
       "      <td>2.944500e+08</td>\n",
       "      <td>2</td>\n",
       "    </tr>\n",
       "    <tr>\n",
       "      <th>13</th>\n",
       "      <td>Inter Milan</td>\n",
       "      <td>270200000.0</td>\n",
       "      <td>3.895000e+08</td>\n",
       "      <td>2</td>\n",
       "    </tr>\n",
       "    <tr>\n",
       "      <th>14</th>\n",
       "      <td>Manchester United</td>\n",
       "      <td>264150000.0</td>\n",
       "      <td>7.387500e+08</td>\n",
       "      <td>2</td>\n",
       "    </tr>\n",
       "    <tr>\n",
       "      <th>17</th>\n",
       "      <td>Napoli</td>\n",
       "      <td>238250000.0</td>\n",
       "      <td>2.827000e+08</td>\n",
       "      <td>2</td>\n",
       "    </tr>\n",
       "    <tr>\n",
       "      <th>18</th>\n",
       "      <td>AC Milan</td>\n",
       "      <td>238100000.0</td>\n",
       "      <td>2.724000e+08</td>\n",
       "      <td>2</td>\n",
       "    </tr>\n",
       "    <tr>\n",
       "      <th>19</th>\n",
       "      <td>Arsenal</td>\n",
       "      <td>231200000.0</td>\n",
       "      <td>4.088000e+08</td>\n",
       "      <td>2</td>\n",
       "    </tr>\n",
       "    <tr>\n",
       "      <th>21</th>\n",
       "      <td>Manchester City</td>\n",
       "      <td>218000000.0</td>\n",
       "      <td>1.067575e+09</td>\n",
       "      <td>2</td>\n",
       "    </tr>\n",
       "    <tr>\n",
       "      <th>23</th>\n",
       "      <td>Newcastle</td>\n",
       "      <td>203100000.0</td>\n",
       "      <td>2.111000e+08</td>\n",
       "      <td>2</td>\n",
       "    </tr>\n",
       "    <tr>\n",
       "      <th>26</th>\n",
       "      <td>Wolfsburg</td>\n",
       "      <td>190800000.0</td>\n",
       "      <td>2.417000e+08</td>\n",
       "      <td>2</td>\n",
       "    </tr>\n",
       "    <tr>\n",
       "      <th>27</th>\n",
       "      <td>Bor. Dortmund</td>\n",
       "      <td>189050000.0</td>\n",
       "      <td>2.668000e+08</td>\n",
       "      <td>2</td>\n",
       "    </tr>\n",
       "    <tr>\n",
       "      <th>28</th>\n",
       "      <td>Bayern Munich</td>\n",
       "      <td>187000000.0</td>\n",
       "      <td>4.100000e+08</td>\n",
       "      <td>2</td>\n",
       "    </tr>\n",
       "  </tbody>\n",
       "</table>\n",
       "</div>"
      ],
      "text/plain": [
       "                 FROM         Sell           Buy  Strategy\n",
       "1           Liverpool  490900000.0  6.356300e+08         2\n",
       "3         Real Madrid  424400000.0  1.005800e+09         2\n",
       "5     Atletico Madrid  368700000.0  5.554000e+08         2\n",
       "6             Chelsea  353600000.0  7.986500e+08         2\n",
       "8                Roma  337800000.0  4.351500e+08         2\n",
       "9           Tottenham  331450000.0  4.136000e+08         2\n",
       "10           Juventus  319100000.0  6.583000e+08         2\n",
       "11          Barcelona  280600000.0  8.769000e+08         2\n",
       "12             Monaco  272200000.0  2.944500e+08         2\n",
       "13        Inter Milan  270200000.0  3.895000e+08         2\n",
       "14  Manchester United  264150000.0  7.387500e+08         2\n",
       "17             Napoli  238250000.0  2.827000e+08         2\n",
       "18           AC Milan  238100000.0  2.724000e+08         2\n",
       "19            Arsenal  231200000.0  4.088000e+08         2\n",
       "21    Manchester City  218000000.0  1.067575e+09         2\n",
       "23          Newcastle  203100000.0  2.111000e+08         2\n",
       "26          Wolfsburg  190800000.0  2.417000e+08         2\n",
       "27      Bor. Dortmund  189050000.0  2.668000e+08         2\n",
       "28      Bayern Munich  187000000.0  4.100000e+08         2"
      ]
     },
     "execution_count": 13,
     "metadata": {},
     "output_type": "execute_result"
    }
   ],
   "source": [
    "res1['Strategy'] = 1\n",
    "res1.Strategy.loc[(res1.Sell < res1.Buy)] = 2\n",
    "a = res1[res1.Strategy == 1]\n",
    "b = res1[res1.Strategy == 2]\n",
    "b"
   ]
  },
  {
   "cell_type": "code",
   "execution_count": 14,
   "metadata": {},
   "outputs": [
    {
     "data": {
      "text/html": [
       "<div>\n",
       "<style scoped>\n",
       "    .dataframe tbody tr th:only-of-type {\n",
       "        vertical-align: middle;\n",
       "    }\n",
       "\n",
       "    .dataframe tbody tr th {\n",
       "        vertical-align: top;\n",
       "    }\n",
       "\n",
       "    .dataframe thead th {\n",
       "        text-align: right;\n",
       "    }\n",
       "</style>\n",
       "<table border=\"1\" class=\"dataframe\">\n",
       "  <thead>\n",
       "    <tr style=\"text-align: right;\">\n",
       "      <th></th>\n",
       "      <th>FROM</th>\n",
       "      <th>Sell</th>\n",
       "      <th>Buy</th>\n",
       "      <th>Strategy</th>\n",
       "      <th>Rating</th>\n",
       "    </tr>\n",
       "  </thead>\n",
       "  <tbody>\n",
       "    <tr>\n",
       "      <th>0</th>\n",
       "      <td>Porto</td>\n",
       "      <td>503100000.0</td>\n",
       "      <td>1.543000e+08</td>\n",
       "      <td>1</td>\n",
       "      <td>88.7</td>\n",
       "    </tr>\n",
       "    <tr>\n",
       "      <th>1</th>\n",
       "      <td>Liverpool</td>\n",
       "      <td>490900000.0</td>\n",
       "      <td>6.356300e+08</td>\n",
       "      <td>2</td>\n",
       "      <td>82.3</td>\n",
       "    </tr>\n",
       "    <tr>\n",
       "      <th>2</th>\n",
       "      <td>Benfica</td>\n",
       "      <td>439000000.0</td>\n",
       "      <td>1.044000e+08</td>\n",
       "      <td>1</td>\n",
       "      <td>88.6</td>\n",
       "    </tr>\n",
       "    <tr>\n",
       "      <th>3</th>\n",
       "      <td>Real Madrid</td>\n",
       "      <td>424400000.0</td>\n",
       "      <td>1.005800e+09</td>\n",
       "      <td>2</td>\n",
       "      <td>95.4</td>\n",
       "    </tr>\n",
       "    <tr>\n",
       "      <th>4</th>\n",
       "      <td>Valencia</td>\n",
       "      <td>421250000.0</td>\n",
       "      <td>2.732000e+08</td>\n",
       "      <td>1</td>\n",
       "      <td>85.8</td>\n",
       "    </tr>\n",
       "    <tr>\n",
       "      <th>5</th>\n",
       "      <td>Atletico Madrid</td>\n",
       "      <td>368700000.0</td>\n",
       "      <td>5.554000e+08</td>\n",
       "      <td>2</td>\n",
       "      <td>81.3</td>\n",
       "    </tr>\n",
       "    <tr>\n",
       "      <th>6</th>\n",
       "      <td>Chelsea</td>\n",
       "      <td>353600000.0</td>\n",
       "      <td>7.986500e+08</td>\n",
       "      <td>2</td>\n",
       "      <td>97.2</td>\n",
       "    </tr>\n",
       "    <tr>\n",
       "      <th>7</th>\n",
       "      <td>Sevilla</td>\n",
       "      <td>348250000.0</td>\n",
       "      <td>1.979000e+08</td>\n",
       "      <td>1</td>\n",
       "      <td>84.5</td>\n",
       "    </tr>\n",
       "    <tr>\n",
       "      <th>8</th>\n",
       "      <td>Roma</td>\n",
       "      <td>337800000.0</td>\n",
       "      <td>4.351500e+08</td>\n",
       "      <td>2</td>\n",
       "      <td>69.2</td>\n",
       "    </tr>\n",
       "    <tr>\n",
       "      <th>9</th>\n",
       "      <td>Tottenham</td>\n",
       "      <td>331450000.0</td>\n",
       "      <td>4.136000e+08</td>\n",
       "      <td>2</td>\n",
       "      <td>76.6</td>\n",
       "    </tr>\n",
       "  </tbody>\n",
       "</table>\n",
       "</div>"
      ],
      "text/plain": [
       "              FROM         Sell           Buy  Strategy  Rating\n",
       "0            Porto  503100000.0  1.543000e+08         1    88.7\n",
       "1        Liverpool  490900000.0  6.356300e+08         2    82.3\n",
       "2          Benfica  439000000.0  1.044000e+08         1    88.6\n",
       "3      Real Madrid  424400000.0  1.005800e+09         2    95.4\n",
       "4         Valencia  421250000.0  2.732000e+08         1    85.8\n",
       "5  Atletico Madrid  368700000.0  5.554000e+08         2    81.3\n",
       "6          Chelsea  353600000.0  7.986500e+08         2    97.2\n",
       "7          Sevilla  348250000.0  1.979000e+08         1    84.5\n",
       "8             Roma  337800000.0  4.351500e+08         2    69.2\n",
       "9        Tottenham  331450000.0  4.136000e+08         2    76.6"
      ]
     },
     "execution_count": 14,
     "metadata": {},
     "output_type": "execute_result"
    }
   ],
   "source": [
    "res2 = pd.merge(res1, rat1, how='left', on=['FROM'])\n",
    "res2.Rating[0] = 88.7\n",
    "res2.Rating[5] = 81.3\n",
    "res2.Rating[8] = 69.2\n",
    "res2.Rating[9] = 76.6\n",
    "res2.Rating[11] = 99\n",
    "res2.Rating[12] = 44.1\n",
    "res2.Rating[13] = 84.6\n",
    "res2.Rating[15] = 9\n",
    "res2.Rating[20] = 46.5\n",
    "res2.Rating[26] = 43.5\n",
    "res2.Rating[27] = 68.7\n",
    "res2.Rating[28] = 96.5\n",
    "res2.Rating[22] = 85.9\n",
    "res2.Rating[23] = 43.7\n",
    "\n",
    "a = res2[res2.Strategy == 1]\n",
    "b = res2[res2.Strategy == 2]\n",
    "\n",
    "res2.head(10)"
   ]
  },
  {
   "cell_type": "code",
   "execution_count": 15,
   "metadata": {},
   "outputs": [
    {
     "data": {
      "text/html": [
       "<div>\n",
       "<style scoped>\n",
       "    .dataframe tbody tr th:only-of-type {\n",
       "        vertical-align: middle;\n",
       "    }\n",
       "\n",
       "    .dataframe tbody tr th {\n",
       "        vertical-align: top;\n",
       "    }\n",
       "\n",
       "    .dataframe thead th {\n",
       "        text-align: right;\n",
       "    }\n",
       "</style>\n",
       "<table border=\"1\" class=\"dataframe\">\n",
       "  <thead>\n",
       "    <tr style=\"text-align: right;\">\n",
       "      <th></th>\n",
       "      <th>Sell</th>\n",
       "      <th>Buy</th>\n",
       "      <th>Strategy</th>\n",
       "      <th>Rating</th>\n",
       "    </tr>\n",
       "  </thead>\n",
       "  <tbody>\n",
       "    <tr>\n",
       "      <th>Sell</th>\n",
       "      <td>1.000000</td>\n",
       "      <td>0.258475</td>\n",
       "      <td>-0.033148</td>\n",
       "      <td>0.427585</td>\n",
       "    </tr>\n",
       "    <tr>\n",
       "      <th>Buy</th>\n",
       "      <td>0.258475</td>\n",
       "      <td>1.000000</td>\n",
       "      <td>0.662698</td>\n",
       "      <td>0.417117</td>\n",
       "    </tr>\n",
       "    <tr>\n",
       "      <th>Strategy</th>\n",
       "      <td>-0.033148</td>\n",
       "      <td>0.662698</td>\n",
       "      <td>1.000000</td>\n",
       "      <td>0.221395</td>\n",
       "    </tr>\n",
       "    <tr>\n",
       "      <th>Rating</th>\n",
       "      <td>0.427585</td>\n",
       "      <td>0.417117</td>\n",
       "      <td>0.221395</td>\n",
       "      <td>1.000000</td>\n",
       "    </tr>\n",
       "  </tbody>\n",
       "</table>\n",
       "</div>"
      ],
      "text/plain": [
       "              Sell       Buy  Strategy    Rating\n",
       "Sell      1.000000  0.258475 -0.033148  0.427585\n",
       "Buy       0.258475  1.000000  0.662698  0.417117\n",
       "Strategy -0.033148  0.662698  1.000000  0.221395\n",
       "Rating    0.427585  0.417117  0.221395  1.000000"
      ]
     },
     "execution_count": 15,
     "metadata": {},
     "output_type": "execute_result"
    }
   ],
   "source": [
    "res2.corr()"
   ]
  },
  {
   "cell_type": "code",
   "execution_count": 16,
   "metadata": {},
   "outputs": [
    {
     "data": {
      "text/plain": [
       "<seaborn.axisgrid.FacetGrid at 0x227f7727a58>"
      ]
     },
     "execution_count": 16,
     "metadata": {},
     "output_type": "execute_result"
    },
    {
     "data": {
      "image/png": "[encoded data removed]",
      "text/plain": [
       "<Figure size 410.625x360 with 1 Axes>"
      ]
     },
     "metadata": {
      "needs_background": "light"
     },
     "output_type": "display_data"
    }
   ],
   "source": [
    "ax = sns.catplot(x=\"Rating\", y=\"FROM\", hue=\"Strategy\",data=res2)\n",
    "ax"
   ]
  },
  {
   "cell_type": "code",
   "execution_count": 17,
   "metadata": {},
   "outputs": [
    {
     "data": {
      "text/plain": [
       "POSITION\n",
       "Attacker      1295\n",
       "Defender      1376\n",
       "Goalkeeper     336\n",
       "Midfielder    1756\n",
       "Name: PLAYER, dtype: int64"
      ]
     },
     "execution_count": 17,
     "metadata": {},
     "output_type": "execute_result"
    }
   ],
   "source": [
    "data.groupby(data.POSITION)['PLAYER'].count()"
   ]
  },
  {
   "cell_type": "code",
   "execution_count": 18,
   "metadata": {},
   "outputs": [
    {
     "data": {
      "text/plain": [
       "TO\n",
       "Roma               116\n",
       "Genoa              110\n",
       "Fiorentina         107\n",
       "Juventus           101\n",
       "Sampdoria           99\n",
       "AC Milan            99\n",
       "Sunderland          89\n",
       "Palermo             85\n",
       "Udinese             84\n",
       "Parma               82\n",
       "Sevilla             81\n",
       "Malaga              81\n",
       "Inter Milan         79\n",
       "West Ham            79\n",
       "Atletico Madrid     76\n",
       "Napoli              75\n",
       "Torino              70\n",
       "Valencia            69\n",
       "Chievo              68\n",
       "Liverpool           66\n",
       "Atalanta            64\n",
       "Lazio               63\n",
       "Manchester City     62\n",
       "Granada             62\n",
       "Bologna             61\n",
       "Chelsea             59\n",
       "Everton             54\n",
       "Espanyol            54\n",
       "Tottenham           54\n",
       "Real Madrid         53\n",
       "Name: PLAYER, dtype: int64"
      ]
     },
     "execution_count": 18,
     "metadata": {},
     "output_type": "execute_result"
    }
   ],
   "source": [
    "data_teams = data.groupby(data.TO)['PLAYER'].count().sort_values(ascending=False)\n",
    "data_teams[:30]"
   ]
  },
  {
   "cell_type": "code",
   "execution_count": null,
   "metadata": {},
   "outputs": [],
   "source": []
  },
  {
   "cell_type": "code",
   "execution_count": 19,
   "metadata": {},
   "outputs": [
    {
     "data": {
      "text/plain": [
       "17192435000.0"
      ]
     },
     "execution_count": 19,
     "metadata": {},
     "output_type": "execute_result"
    }
   ],
   "source": [
    "data.PRICE.sum()"
   ]
  },
  {
   "cell_type": "code",
   "execution_count": 20,
   "metadata": {},
   "outputs": [
    {
     "data": {
      "text/plain": [
       "COUNTRY\n",
       "Italy      523\n",
       "Spain      509\n",
       "France     395\n",
       "England    337\n",
       "Brazil     314\n",
       "Name: PLAYER, dtype: int64"
      ]
     },
     "execution_count": 20,
     "metadata": {},
     "output_type": "execute_result"
    }
   ],
   "source": [
    "data.groupby(data.COUNTRY)['PLAYER'].count().sort_values(ascending=False).head()"
   ]
  },
  {
   "cell_type": "code",
   "execution_count": null,
   "metadata": {},
   "outputs": [],
   "source": []
  },
  {
   "cell_type": "code",
   "execution_count": null,
   "metadata": {},
   "outputs": [],
   "source": []
  }
 ],
 "metadata": {
  "kernelspec": {
   "display_name": "Python 3",
   "language": "python",
   "name": "python3"
  },
  "language_info": {
   "codemirror_mode": {
    "name": "ipython",
    "version": 3
   },
   "file_extension": ".py",
   "mimetype": "text/x-python",
   "name": "python",
   "nbconvert_exporter": "python",
   "pygments_lexer": "ipython3",
   "version": "3.6.4"
  }
 },
 "nbformat": 4,
 "nbformat_minor": 2
}
