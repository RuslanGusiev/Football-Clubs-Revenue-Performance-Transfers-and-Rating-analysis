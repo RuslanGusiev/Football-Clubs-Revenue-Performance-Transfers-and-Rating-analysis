{
 "cells": [
  {
   "cell_type": "code",
   "execution_count": 182,
   "metadata": {},
   "outputs": [
    {
     "data": {
      "text/html": [
       "        <script type=\"text/javascript\">\n",
       "        window.PlotlyConfig = {MathJaxConfig: 'local'};\n",
       "        if (window.MathJax) {MathJax.Hub.Config({SVG: {font: \"STIX-Web\"}});}\n",
       "        if (typeof require !== 'undefined') {\n",
       "        require.undef(\"plotly\");\n",
       "        requirejs.config({\n",
       "            paths: {\n",
       "                'plotly': ['https://cdn.plot.ly/plotly-latest.min']\n",
       "            }\n",
       "        });\n",
       "        require(['plotly'], function(Plotly) {\n",
       "            window._Plotly = Plotly;\n",
       "        });\n",
       "        }\n",
       "        </script>\n",
       "        "
      ]
     },
     "metadata": {},
     "output_type": "display_data"
    }
   ],
   "source": [
    "import json\n",
    "import requests\n",
    "import pandas as pd\n",
    "import seaborn as sns\n",
    "import json\n",
    "import requests\n",
    "import pandas as pd\n",
    "import seaborn as sns\n",
    "import pandas as pd\n",
    "import chart_studio.plotly as py\n",
    "import cufflinks as cf\n",
    "from ipywidgets import interact\n",
    "%matplotlib inline\n",
    "import numpy as np\n",
    "import pandas as pd\n",
    "import matplotlib.pyplot as plt\n",
    "import pandas as pd\n",
    "import chart_studio.plotly as py\n",
    "import cufflinks as cf\n",
    "from ipywidgets import interact\n",
    "\n",
    "cf.go_offline()"
   ]
  },
  {
   "cell_type": "code",
   "execution_count": 183,
   "metadata": {},
   "outputs": [
    {
     "data": {
      "text/html": [
       "<div>\n",
       "<style scoped>\n",
       "    .dataframe tbody tr th:only-of-type {\n",
       "        vertical-align: middle;\n",
       "    }\n",
       "\n",
       "    .dataframe tbody tr th {\n",
       "        vertical-align: top;\n",
       "    }\n",
       "\n",
       "    .dataframe thead th {\n",
       "        text-align: right;\n",
       "    }\n",
       "</style>\n",
       "<table border=\"1\" class=\"dataframe\">\n",
       "  <thead>\n",
       "    <tr style=\"text-align: right;\">\n",
       "      <th></th>\n",
       "      <th>PLAYER</th>\n",
       "      <th>WINDOW</th>\n",
       "      <th>POSITION</th>\n",
       "      <th>COUNTRY</th>\n",
       "      <th>FROM</th>\n",
       "      <th>TO</th>\n",
       "      <th>DESCRIPTION</th>\n",
       "      <th>PRICE</th>\n",
       "      <th>LEAGUE</th>\n",
       "      <th>SEASON</th>\n",
       "    </tr>\n",
       "  </thead>\n",
       "  <tbody>\n",
       "    <tr>\n",
       "      <th>0</th>\n",
       "      <td>Paul Pogba</td>\n",
       "      <td>Pre-Season</td>\n",
       "      <td>Midfielder</td>\n",
       "      <td>France</td>\n",
       "      <td>Juventus</td>\n",
       "      <td>Manchester United</td>\n",
       "      <td>Sold</td>\n",
       "      <td>105000000.0</td>\n",
       "      <td>EPL</td>\n",
       "      <td>16/17</td>\n",
       "    </tr>\n",
       "    <tr>\n",
       "      <th>1</th>\n",
       "      <td>Gareth Bale</td>\n",
       "      <td>Pre-Season</td>\n",
       "      <td>Midfielder</td>\n",
       "      <td>Wales</td>\n",
       "      <td>Tottenham</td>\n",
       "      <td>Real Madrid</td>\n",
       "      <td>Sold</td>\n",
       "      <td>100000000.0</td>\n",
       "      <td>La Liga</td>\n",
       "      <td>13/14</td>\n",
       "    </tr>\n",
       "    <tr>\n",
       "      <th>2</th>\n",
       "      <td>Luis Suarez</td>\n",
       "      <td>Pre-Season</td>\n",
       "      <td>Attacker</td>\n",
       "      <td>Uruguay</td>\n",
       "      <td>Liverpool</td>\n",
       "      <td>Barcelona</td>\n",
       "      <td>Sold</td>\n",
       "      <td>95000000.0</td>\n",
       "      <td>La Liga</td>\n",
       "      <td>14/15</td>\n",
       "    </tr>\n",
       "    <tr>\n",
       "      <th>3</th>\n",
       "      <td>Ronaldo</td>\n",
       "      <td>Pre-Season</td>\n",
       "      <td>NaN</td>\n",
       "      <td>NaN</td>\n",
       "      <td>Manchester United</td>\n",
       "      <td>Real Madrid</td>\n",
       "      <td>Sold</td>\n",
       "      <td>93900000.0</td>\n",
       "      <td>La Liga</td>\n",
       "      <td>09/10</td>\n",
       "    </tr>\n",
       "    <tr>\n",
       "      <th>4</th>\n",
       "      <td>Gonzalo Higuain</td>\n",
       "      <td>Pre-Season</td>\n",
       "      <td>Attacker</td>\n",
       "      <td>Argentina</td>\n",
       "      <td>Napoli</td>\n",
       "      <td>Juventus</td>\n",
       "      <td>Sold</td>\n",
       "      <td>90000000.0</td>\n",
       "      <td>Serie A</td>\n",
       "      <td>16/17</td>\n",
       "    </tr>\n",
       "    <tr>\n",
       "      <th>5</th>\n",
       "      <td>James Rodriguez</td>\n",
       "      <td>Pre-Season</td>\n",
       "      <td>Midfielder</td>\n",
       "      <td>Colombia</td>\n",
       "      <td>Monaco</td>\n",
       "      <td>Real Madrid</td>\n",
       "      <td>Sold</td>\n",
       "      <td>80000000.0</td>\n",
       "      <td>La Liga</td>\n",
       "      <td>14/15</td>\n",
       "    </tr>\n",
       "    <tr>\n",
       "      <th>6</th>\n",
       "      <td>Kevin De Bruyne</td>\n",
       "      <td>Pre-Season</td>\n",
       "      <td>Midfielder</td>\n",
       "      <td>Belgium</td>\n",
       "      <td>Wolfsburg</td>\n",
       "      <td>Manchester City</td>\n",
       "      <td>Sold</td>\n",
       "      <td>76000000.0</td>\n",
       "      <td>EPL</td>\n",
       "      <td>15/16</td>\n",
       "    </tr>\n",
       "    <tr>\n",
       "      <th>7</th>\n",
       "      <td>Angel Di Maria</td>\n",
       "      <td>Pre-Season</td>\n",
       "      <td>Midfielder</td>\n",
       "      <td>Argentina</td>\n",
       "      <td>Real Madrid</td>\n",
       "      <td>Manchester United</td>\n",
       "      <td>Sold</td>\n",
       "      <td>75000000.0</td>\n",
       "      <td>EPL</td>\n",
       "      <td>14/15</td>\n",
       "    </tr>\n",
       "    <tr>\n",
       "      <th>8</th>\n",
       "      <td>Raheem Sterling</td>\n",
       "      <td>Pre-Season</td>\n",
       "      <td>Midfielder</td>\n",
       "      <td>England</td>\n",
       "      <td>Liverpool</td>\n",
       "      <td>Manchester City</td>\n",
       "      <td>Sold</td>\n",
       "      <td>69400000.0</td>\n",
       "      <td>EPL</td>\n",
       "      <td>15/16</td>\n",
       "    </tr>\n",
       "    <tr>\n",
       "      <th>9</th>\n",
       "      <td>Zlatan Ibrahimovic</td>\n",
       "      <td>Pre-Season</td>\n",
       "      <td>NaN</td>\n",
       "      <td>NaN</td>\n",
       "      <td>Inter Milan</td>\n",
       "      <td>Barcelona</td>\n",
       "      <td>Sold</td>\n",
       "      <td>69000000.0</td>\n",
       "      <td>La Liga</td>\n",
       "      <td>09/10</td>\n",
       "    </tr>\n",
       "  </tbody>\n",
       "</table>\n",
       "</div>"
      ],
      "text/plain": [
       "               PLAYER      WINDOW    POSITION    COUNTRY               FROM  \\\n",
       "0          Paul Pogba  Pre-Season  Midfielder     France           Juventus   \n",
       "1         Gareth Bale  Pre-Season  Midfielder      Wales          Tottenham   \n",
       "2         Luis Suarez  Pre-Season    Attacker    Uruguay          Liverpool   \n",
       "3             Ronaldo  Pre-Season         NaN        NaN  Manchester United   \n",
       "4     Gonzalo Higuain  Pre-Season    Attacker  Argentina             Napoli   \n",
       "5     James Rodriguez  Pre-Season  Midfielder   Colombia             Monaco   \n",
       "6     Kevin De Bruyne  Pre-Season  Midfielder    Belgium          Wolfsburg   \n",
       "7      Angel Di Maria  Pre-Season  Midfielder  Argentina        Real Madrid   \n",
       "8     Raheem Sterling  Pre-Season  Midfielder    England          Liverpool   \n",
       "9  Zlatan Ibrahimovic  Pre-Season         NaN        NaN        Inter Milan   \n",
       "\n",
       "                  TO DESCRIPTION        PRICE   LEAGUE SEASON  \n",
       "0  Manchester United        Sold  105000000.0      EPL  16/17  \n",
       "1        Real Madrid        Sold  100000000.0  La Liga  13/14  \n",
       "2          Barcelona        Sold   95000000.0  La Liga  14/15  \n",
       "3        Real Madrid        Sold   93900000.0  La Liga  09/10  \n",
       "4           Juventus        Sold   90000000.0  Serie A  16/17  \n",
       "5        Real Madrid        Sold   80000000.0  La Liga  14/15  \n",
       "6    Manchester City        Sold   76000000.0      EPL  15/16  \n",
       "7  Manchester United        Sold   75000000.0      EPL  14/15  \n",
       "8    Manchester City        Sold   69400000.0      EPL  15/16  \n",
       "9          Barcelona        Sold   69000000.0  La Liga  09/10  "
      ]
     },
     "execution_count": 183,
     "metadata": {},
     "output_type": "execute_result"
    }
   ],
   "source": [
    "data3 = pd.read_csv('./transfer_data.csv')\n",
    "data3.head(10)"
   ]
  },
  {
   "cell_type": "code",
   "execution_count": 184,
   "metadata": {},
   "outputs": [
    {
     "data": {
      "text/html": [
       "<div>\n",
       "<style scoped>\n",
       "    .dataframe tbody tr th:only-of-type {\n",
       "        vertical-align: middle;\n",
       "    }\n",
       "\n",
       "    .dataframe tbody tr th {\n",
       "        vertical-align: top;\n",
       "    }\n",
       "\n",
       "    .dataframe thead th {\n",
       "        text-align: right;\n",
       "    }\n",
       "</style>\n",
       "<table border=\"1\" class=\"dataframe\">\n",
       "  <thead>\n",
       "    <tr style=\"text-align: right;\">\n",
       "      <th></th>\n",
       "      <th>PLAYER</th>\n",
       "      <th>POSITION</th>\n",
       "      <th>COUNTRY</th>\n",
       "      <th>FROM</th>\n",
       "      <th>TO</th>\n",
       "      <th>PRICE</th>\n",
       "      <th>LEAGUE</th>\n",
       "      <th>SEASON</th>\n",
       "    </tr>\n",
       "  </thead>\n",
       "  <tbody>\n",
       "    <tr>\n",
       "      <th>0</th>\n",
       "      <td>Paul Pogba</td>\n",
       "      <td>Midfielder</td>\n",
       "      <td>France</td>\n",
       "      <td>Juventus</td>\n",
       "      <td>Manchester United</td>\n",
       "      <td>105000000.0</td>\n",
       "      <td>EPL</td>\n",
       "      <td>16/17</td>\n",
       "    </tr>\n",
       "    <tr>\n",
       "      <th>1</th>\n",
       "      <td>Gareth Bale</td>\n",
       "      <td>Midfielder</td>\n",
       "      <td>Wales</td>\n",
       "      <td>Tottenham</td>\n",
       "      <td>Real Madrid</td>\n",
       "      <td>100000000.0</td>\n",
       "      <td>La Liga</td>\n",
       "      <td>13/14</td>\n",
       "    </tr>\n",
       "    <tr>\n",
       "      <th>2</th>\n",
       "      <td>Luis Suarez</td>\n",
       "      <td>Attacker</td>\n",
       "      <td>Uruguay</td>\n",
       "      <td>Liverpool</td>\n",
       "      <td>Barcelona</td>\n",
       "      <td>95000000.0</td>\n",
       "      <td>La Liga</td>\n",
       "      <td>14/15</td>\n",
       "    </tr>\n",
       "    <tr>\n",
       "      <th>3</th>\n",
       "      <td>Ronaldo</td>\n",
       "      <td>NaN</td>\n",
       "      <td>NaN</td>\n",
       "      <td>Manchester United</td>\n",
       "      <td>Real Madrid</td>\n",
       "      <td>93900000.0</td>\n",
       "      <td>La Liga</td>\n",
       "      <td>09/10</td>\n",
       "    </tr>\n",
       "    <tr>\n",
       "      <th>4</th>\n",
       "      <td>Gonzalo Higuain</td>\n",
       "      <td>Attacker</td>\n",
       "      <td>Argentina</td>\n",
       "      <td>Napoli</td>\n",
       "      <td>Juventus</td>\n",
       "      <td>90000000.0</td>\n",
       "      <td>Serie A</td>\n",
       "      <td>16/17</td>\n",
       "    </tr>\n",
       "    <tr>\n",
       "      <th>5</th>\n",
       "      <td>James Rodriguez</td>\n",
       "      <td>Midfielder</td>\n",
       "      <td>Colombia</td>\n",
       "      <td>Monaco</td>\n",
       "      <td>Real Madrid</td>\n",
       "      <td>80000000.0</td>\n",
       "      <td>La Liga</td>\n",
       "      <td>14/15</td>\n",
       "    </tr>\n",
       "    <tr>\n",
       "      <th>6</th>\n",
       "      <td>Kevin De Bruyne</td>\n",
       "      <td>Midfielder</td>\n",
       "      <td>Belgium</td>\n",
       "      <td>Wolfsburg</td>\n",
       "      <td>Manchester City</td>\n",
       "      <td>76000000.0</td>\n",
       "      <td>EPL</td>\n",
       "      <td>15/16</td>\n",
       "    </tr>\n",
       "    <tr>\n",
       "      <th>7</th>\n",
       "      <td>Angel Di Maria</td>\n",
       "      <td>Midfielder</td>\n",
       "      <td>Argentina</td>\n",
       "      <td>Real Madrid</td>\n",
       "      <td>Manchester United</td>\n",
       "      <td>75000000.0</td>\n",
       "      <td>EPL</td>\n",
       "      <td>14/15</td>\n",
       "    </tr>\n",
       "    <tr>\n",
       "      <th>8</th>\n",
       "      <td>Raheem Sterling</td>\n",
       "      <td>Midfielder</td>\n",
       "      <td>England</td>\n",
       "      <td>Liverpool</td>\n",
       "      <td>Manchester City</td>\n",
       "      <td>69400000.0</td>\n",
       "      <td>EPL</td>\n",
       "      <td>15/16</td>\n",
       "    </tr>\n",
       "    <tr>\n",
       "      <th>9</th>\n",
       "      <td>Zlatan Ibrahimovic</td>\n",
       "      <td>NaN</td>\n",
       "      <td>NaN</td>\n",
       "      <td>Inter Milan</td>\n",
       "      <td>Barcelona</td>\n",
       "      <td>69000000.0</td>\n",
       "      <td>La Liga</td>\n",
       "      <td>09/10</td>\n",
       "    </tr>\n",
       "  </tbody>\n",
       "</table>\n",
       "</div>"
      ],
      "text/plain": [
       "               PLAYER    POSITION    COUNTRY               FROM  \\\n",
       "0          Paul Pogba  Midfielder     France           Juventus   \n",
       "1         Gareth Bale  Midfielder      Wales          Tottenham   \n",
       "2         Luis Suarez    Attacker    Uruguay          Liverpool   \n",
       "3             Ronaldo         NaN        NaN  Manchester United   \n",
       "4     Gonzalo Higuain    Attacker  Argentina             Napoli   \n",
       "5     James Rodriguez  Midfielder   Colombia             Monaco   \n",
       "6     Kevin De Bruyne  Midfielder    Belgium          Wolfsburg   \n",
       "7      Angel Di Maria  Midfielder  Argentina        Real Madrid   \n",
       "8     Raheem Sterling  Midfielder    England          Liverpool   \n",
       "9  Zlatan Ibrahimovic         NaN        NaN        Inter Milan   \n",
       "\n",
       "                  TO        PRICE   LEAGUE SEASON  \n",
       "0  Manchester United  105000000.0      EPL  16/17  \n",
       "1        Real Madrid  100000000.0  La Liga  13/14  \n",
       "2          Barcelona   95000000.0  La Liga  14/15  \n",
       "3        Real Madrid   93900000.0  La Liga  09/10  \n",
       "4           Juventus   90000000.0  Serie A  16/17  \n",
       "5        Real Madrid   80000000.0  La Liga  14/15  \n",
       "6    Manchester City   76000000.0      EPL  15/16  \n",
       "7  Manchester United   75000000.0      EPL  14/15  \n",
       "8    Manchester City   69400000.0      EPL  15/16  \n",
       "9          Barcelona   69000000.0  La Liga  09/10  "
      ]
     },
     "execution_count": 184,
     "metadata": {},
     "output_type": "execute_result"
    }
   ],
   "source": [
    "data1 = data3.drop('DESCRIPTION', axis=1)\n",
    "data4 = data1.drop('WINDOW', axis=1)\n",
    "data2 = data4[data1.SEASON != '15']\n",
    "data = data2[data2.SEASON != '16']\n",
    "data.head(10)"
   ]
  },
  {
   "cell_type": "code",
   "execution_count": 185,
   "metadata": {},
   "outputs": [
    {
     "data": {
      "text/html": [
       "<div>\n",
       "<style scoped>\n",
       "    .dataframe tbody tr th:only-of-type {\n",
       "        vertical-align: middle;\n",
       "    }\n",
       "\n",
       "    .dataframe tbody tr th {\n",
       "        vertical-align: top;\n",
       "    }\n",
       "\n",
       "    .dataframe thead th {\n",
       "        text-align: right;\n",
       "    }\n",
       "</style>\n",
       "<table border=\"1\" class=\"dataframe\">\n",
       "  <thead>\n",
       "    <tr style=\"text-align: right;\">\n",
       "      <th></th>\n",
       "      <th>Placement</th>\n",
       "      <th>TO</th>\n",
       "      <th>Revenue</th>\n",
       "      <th>SEASON</th>\n",
       "    </tr>\n",
       "  </thead>\n",
       "  <tbody>\n",
       "    <tr>\n",
       "      <th>0</th>\n",
       "      <td>1</td>\n",
       "      <td>Manchester United</td>\n",
       "      <td>689000000.0</td>\n",
       "      <td>16/17</td>\n",
       "    </tr>\n",
       "    <tr>\n",
       "      <th>1</th>\n",
       "      <td>2</td>\n",
       "      <td>Barcelona</td>\n",
       "      <td>620200000.0</td>\n",
       "      <td>16/17</td>\n",
       "    </tr>\n",
       "    <tr>\n",
       "      <th>2</th>\n",
       "      <td>3</td>\n",
       "      <td>Real Madrid</td>\n",
       "      <td>620100000.0</td>\n",
       "      <td>16/17</td>\n",
       "    </tr>\n",
       "    <tr>\n",
       "      <th>3</th>\n",
       "      <td>4</td>\n",
       "      <td>Bayern Munich</td>\n",
       "      <td>592000000.0</td>\n",
       "      <td>16/17</td>\n",
       "    </tr>\n",
       "    <tr>\n",
       "      <th>4</th>\n",
       "      <td>5</td>\n",
       "      <td>Manchester City</td>\n",
       "      <td>524900000.0</td>\n",
       "      <td>16/17</td>\n",
       "    </tr>\n",
       "    <tr>\n",
       "      <th>5</th>\n",
       "      <td>6</td>\n",
       "      <td>Paris Saint‑Germain</td>\n",
       "      <td>520900000.0</td>\n",
       "      <td>16/17</td>\n",
       "    </tr>\n",
       "    <tr>\n",
       "      <th>6</th>\n",
       "      <td>7</td>\n",
       "      <td>Arsenal</td>\n",
       "      <td>468500000.0</td>\n",
       "      <td>16/17</td>\n",
       "    </tr>\n",
       "    <tr>\n",
       "      <th>7</th>\n",
       "      <td>8</td>\n",
       "      <td>Chelsea</td>\n",
       "      <td>447400000.0</td>\n",
       "      <td>16/17</td>\n",
       "    </tr>\n",
       "    <tr>\n",
       "      <th>8</th>\n",
       "      <td>9</td>\n",
       "      <td>Liverpool</td>\n",
       "      <td>403800000.0</td>\n",
       "      <td>16/17</td>\n",
       "    </tr>\n",
       "    <tr>\n",
       "      <th>9</th>\n",
       "      <td>10</td>\n",
       "      <td>Juventus</td>\n",
       "      <td>341100000.0</td>\n",
       "      <td>16/17</td>\n",
       "    </tr>\n",
       "  </tbody>\n",
       "</table>\n",
       "</div>"
      ],
      "text/plain": [
       "   Placement                   TO      Revenue SEASON\n",
       "0          1    Manchester United  689000000.0  16/17\n",
       "1          2            Barcelona  620200000.0  16/17\n",
       "2          3          Real Madrid  620100000.0  16/17\n",
       "3          4        Bayern Munich  592000000.0  16/17\n",
       "4          5      Manchester City  524900000.0  16/17\n",
       "5          6  Paris Saint‑Germain  520900000.0  16/17\n",
       "6          7              Arsenal  468500000.0  16/17\n",
       "7          8              Chelsea  447400000.0  16/17\n",
       "8          9            Liverpool  403800000.0  16/17\n",
       "9         10             Juventus  341100000.0  16/17"
      ]
     },
     "execution_count": 185,
     "metadata": {},
     "output_type": "execute_result"
    }
   ],
   "source": [
    "wiki = pd.read_csv('./wiki.csv')\n",
    "wiki.head(10)"
   ]
  },
  {
   "cell_type": "code",
   "execution_count": 186,
   "metadata": {},
   "outputs": [],
   "source": [
    "rating = pd.read_csv('./rating.csv')\n",
    "\n",
    "rating.fillna = 0"
   ]
  },
  {
   "cell_type": "code",
   "execution_count": 210,
   "metadata": {},
   "outputs": [
    {
     "data": {
      "text/html": [
       "<div>\n",
       "<style scoped>\n",
       "    .dataframe tbody tr th:only-of-type {\n",
       "        vertical-align: middle;\n",
       "    }\n",
       "\n",
       "    .dataframe tbody tr th {\n",
       "        vertical-align: top;\n",
       "    }\n",
       "\n",
       "    .dataframe thead th {\n",
       "        text-align: right;\n",
       "    }\n",
       "</style>\n",
       "<table border=\"1\" class=\"dataframe\">\n",
       "  <thead>\n",
       "    <tr style=\"text-align: right;\">\n",
       "      <th></th>\n",
       "      <th>FROM</th>\n",
       "      <th>Rating</th>\n",
       "    </tr>\n",
       "  </thead>\n",
       "  <tbody>\n",
       "    <tr>\n",
       "      <th>0</th>\n",
       "      <td>FC Barcelona</td>\n",
       "      <td>99.000000</td>\n",
       "    </tr>\n",
       "    <tr>\n",
       "      <th>1</th>\n",
       "      <td>Chelsea</td>\n",
       "      <td>97.200000</td>\n",
       "    </tr>\n",
       "    <tr>\n",
       "      <th>2</th>\n",
       "      <td>Bayern München</td>\n",
       "      <td>96.500000</td>\n",
       "    </tr>\n",
       "    <tr>\n",
       "      <th>3</th>\n",
       "      <td>Real Madrid</td>\n",
       "      <td>95.400000</td>\n",
       "    </tr>\n",
       "    <tr>\n",
       "      <th>4</th>\n",
       "      <td>Manchester United</td>\n",
       "      <td>93.900000</td>\n",
       "    </tr>\n",
       "    <tr>\n",
       "      <th>5</th>\n",
       "      <td>Arsenal</td>\n",
       "      <td>93.800000</td>\n",
       "    </tr>\n",
       "    <tr>\n",
       "      <th>6</th>\n",
       "      <td>FC Porto</td>\n",
       "      <td>88.700000</td>\n",
       "    </tr>\n",
       "    <tr>\n",
       "      <th>7</th>\n",
       "      <td>Benfica</td>\n",
       "      <td>88.600000</td>\n",
       "    </tr>\n",
       "    <tr>\n",
       "      <th>8</th>\n",
       "      <td>AC Milan</td>\n",
       "      <td>85.900000</td>\n",
       "    </tr>\n",
       "    <tr>\n",
       "      <th>9</th>\n",
       "      <td>Olympique Lyon</td>\n",
       "      <td>85.900000</td>\n",
       "    </tr>\n",
       "    <tr>\n",
       "      <th>10</th>\n",
       "      <td>Valencia</td>\n",
       "      <td>85.800000</td>\n",
       "    </tr>\n",
       "    <tr>\n",
       "      <th>11</th>\n",
       "      <td>Internazionale</td>\n",
       "      <td>84.600000</td>\n",
       "    </tr>\n",
       "    <tr>\n",
       "      <th>12</th>\n",
       "      <td>Sevilla</td>\n",
       "      <td>84.500000</td>\n",
       "    </tr>\n",
       "    <tr>\n",
       "      <th>13</th>\n",
       "      <td>Liverpool</td>\n",
       "      <td>82.300000</td>\n",
       "    </tr>\n",
       "    <tr>\n",
       "      <th>14</th>\n",
       "      <td>Schalke 04</td>\n",
       "      <td>81.500000</td>\n",
       "    </tr>\n",
       "    <tr>\n",
       "      <th>15</th>\n",
       "      <td>Shakhtar Donetsk</td>\n",
       "      <td>81.400000</td>\n",
       "    </tr>\n",
       "    <tr>\n",
       "      <th>16</th>\n",
       "      <td>Atlético Madrid</td>\n",
       "      <td>81.300000</td>\n",
       "    </tr>\n",
       "    <tr>\n",
       "      <th>17</th>\n",
       "      <td>Zenit St. Petersburg</td>\n",
       "      <td>79.700000</td>\n",
       "    </tr>\n",
       "    <tr>\n",
       "      <th>18</th>\n",
       "      <td>Juventus</td>\n",
       "      <td>78.600000</td>\n",
       "    </tr>\n",
       "    <tr>\n",
       "      <th>19</th>\n",
       "      <td>Villarreal</td>\n",
       "      <td>77.900000</td>\n",
       "    </tr>\n",
       "    <tr>\n",
       "      <th>20</th>\n",
       "      <td>Tottenham Hotspur</td>\n",
       "      <td>76.600000</td>\n",
       "    </tr>\n",
       "    <tr>\n",
       "      <th>21</th>\n",
       "      <td>PSV Eindhoven</td>\n",
       "      <td>75.600000</td>\n",
       "    </tr>\n",
       "    <tr>\n",
       "      <th>22</th>\n",
       "      <td>CSKA Moscow</td>\n",
       "      <td>73.100000</td>\n",
       "    </tr>\n",
       "    <tr>\n",
       "      <th>23</th>\n",
       "      <td>Sporting CP Lisbon</td>\n",
       "      <td>71.300000</td>\n",
       "    </tr>\n",
       "    <tr>\n",
       "      <th>24</th>\n",
       "      <td>Bayer Leverkusen</td>\n",
       "      <td>71.200000</td>\n",
       "    </tr>\n",
       "    <tr>\n",
       "      <th>25</th>\n",
       "      <td>Paris Saint-Germain</td>\n",
       "      <td>70.900000</td>\n",
       "    </tr>\n",
       "    <tr>\n",
       "      <th>26</th>\n",
       "      <td>Hamburger SV</td>\n",
       "      <td>69.714286</td>\n",
       "    </tr>\n",
       "    <tr>\n",
       "      <th>27</th>\n",
       "      <td>Werder Bremen</td>\n",
       "      <td>69.625000</td>\n",
       "    </tr>\n",
       "    <tr>\n",
       "      <th>28</th>\n",
       "      <td>Ajax</td>\n",
       "      <td>69.600000</td>\n",
       "    </tr>\n",
       "    <tr>\n",
       "      <th>29</th>\n",
       "      <td>AS Roma</td>\n",
       "      <td>69.200000</td>\n",
       "    </tr>\n",
       "    <tr>\n",
       "      <th>...</th>\n",
       "      <td>...</td>\n",
       "      <td>...</td>\n",
       "    </tr>\n",
       "    <tr>\n",
       "      <th>128</th>\n",
       "      <td>FK Rostov</td>\n",
       "      <td>14.000000</td>\n",
       "    </tr>\n",
       "    <tr>\n",
       "      <th>129</th>\n",
       "      <td>RC Strasbourg</td>\n",
       "      <td>14.000000</td>\n",
       "    </tr>\n",
       "    <tr>\n",
       "      <th>130</th>\n",
       "      <td>AS Nancy Lorraine</td>\n",
       "      <td>13.600000</td>\n",
       "    </tr>\n",
       "    <tr>\n",
       "      <th>131</th>\n",
       "      <td>Slovan Liberec</td>\n",
       "      <td>12.000000</td>\n",
       "    </tr>\n",
       "    <tr>\n",
       "      <th>132</th>\n",
       "      <td>Birmingham City</td>\n",
       "      <td>12.000000</td>\n",
       "    </tr>\n",
       "    <tr>\n",
       "      <th>133</th>\n",
       "      <td>Lech Poznan</td>\n",
       "      <td>11.333333</td>\n",
       "    </tr>\n",
       "    <tr>\n",
       "      <th>134</th>\n",
       "      <td>Perugia</td>\n",
       "      <td>11.000000</td>\n",
       "    </tr>\n",
       "    <tr>\n",
       "      <th>135</th>\n",
       "      <td>FC Augsburg</td>\n",
       "      <td>11.000000</td>\n",
       "    </tr>\n",
       "    <tr>\n",
       "      <th>136</th>\n",
       "      <td>Portsmouth FC</td>\n",
       "      <td>10.600000</td>\n",
       "    </tr>\n",
       "    <tr>\n",
       "      <th>137</th>\n",
       "      <td>Swansea City</td>\n",
       "      <td>10.500000</td>\n",
       "    </tr>\n",
       "    <tr>\n",
       "      <th>138</th>\n",
       "      <td>Southampton FC</td>\n",
       "      <td>9.000000</td>\n",
       "    </tr>\n",
       "    <tr>\n",
       "      <th>139</th>\n",
       "      <td>Millwall FC</td>\n",
       "      <td>9.000000</td>\n",
       "    </tr>\n",
       "    <tr>\n",
       "      <th>140</th>\n",
       "      <td>Aris Thessaloniki</td>\n",
       "      <td>8.500000</td>\n",
       "    </tr>\n",
       "    <tr>\n",
       "      <th>141</th>\n",
       "      <td>Maccabi Tel-Aviv</td>\n",
       "      <td>8.000000</td>\n",
       "    </tr>\n",
       "    <tr>\n",
       "      <th>142</th>\n",
       "      <td>NK Maribor</td>\n",
       "      <td>7.666667</td>\n",
       "    </tr>\n",
       "    <tr>\n",
       "      <th>143</th>\n",
       "      <td>Partizan Belgrade</td>\n",
       "      <td>7.500000</td>\n",
       "    </tr>\n",
       "    <tr>\n",
       "      <th>144</th>\n",
       "      <td>1.FC Nürnberg</td>\n",
       "      <td>7.500000</td>\n",
       "    </tr>\n",
       "    <tr>\n",
       "      <th>145</th>\n",
       "      <td>FC Zürich</td>\n",
       "      <td>7.000000</td>\n",
       "    </tr>\n",
       "    <tr>\n",
       "      <th>146</th>\n",
       "      <td>SC Freiburg</td>\n",
       "      <td>5.750000</td>\n",
       "    </tr>\n",
       "    <tr>\n",
       "      <th>147</th>\n",
       "      <td>Livorno</td>\n",
       "      <td>5.250000</td>\n",
       "    </tr>\n",
       "    <tr>\n",
       "      <th>148</th>\n",
       "      <td>Stade Rennais</td>\n",
       "      <td>5.000000</td>\n",
       "    </tr>\n",
       "    <tr>\n",
       "      <th>149</th>\n",
       "      <td>Maccabi Haifa</td>\n",
       "      <td>4.500000</td>\n",
       "    </tr>\n",
       "    <tr>\n",
       "      <th>150</th>\n",
       "      <td>Wigan Athletic</td>\n",
       "      <td>3.333333</td>\n",
       "    </tr>\n",
       "    <tr>\n",
       "      <th>151</th>\n",
       "      <td>Toulouse FC</td>\n",
       "      <td>3.000000</td>\n",
       "    </tr>\n",
       "    <tr>\n",
       "      <th>152</th>\n",
       "      <td>Alemannia Aachen</td>\n",
       "      <td>3.000000</td>\n",
       "    </tr>\n",
       "    <tr>\n",
       "      <th>153</th>\n",
       "      <td>Molde FK</td>\n",
       "      <td>2.500000</td>\n",
       "    </tr>\n",
       "    <tr>\n",
       "      <th>154</th>\n",
       "      <td>En Avant Guingamp</td>\n",
       "      <td>2.000000</td>\n",
       "    </tr>\n",
       "    <tr>\n",
       "      <th>155</th>\n",
       "      <td>Montpellier</td>\n",
       "      <td>2.000000</td>\n",
       "    </tr>\n",
       "    <tr>\n",
       "      <th>156</th>\n",
       "      <td>Maritimo Funchal</td>\n",
       "      <td>2.000000</td>\n",
       "    </tr>\n",
       "    <tr>\n",
       "      <th>157</th>\n",
       "      <td>Gençlerbirligi</td>\n",
       "      <td>1.000000</td>\n",
       "    </tr>\n",
       "  </tbody>\n",
       "</table>\n",
       "<p>158 rows × 2 columns</p>\n",
       "</div>"
      ],
      "text/plain": [
       "                     FROM     Rating\n",
       "0            FC Barcelona  99.000000\n",
       "1                 Chelsea  97.200000\n",
       "2          Bayern München  96.500000\n",
       "3             Real Madrid  95.400000\n",
       "4       Manchester United  93.900000\n",
       "5                 Arsenal  93.800000\n",
       "6                FC Porto  88.700000\n",
       "7                 Benfica  88.600000\n",
       "8                AC Milan  85.900000\n",
       "9          Olympique Lyon  85.900000\n",
       "10               Valencia  85.800000\n",
       "11         Internazionale  84.600000\n",
       "12                Sevilla  84.500000\n",
       "13              Liverpool  82.300000\n",
       "14             Schalke 04  81.500000\n",
       "15       Shakhtar Donetsk  81.400000\n",
       "16        Atlético Madrid  81.300000\n",
       "17   Zenit St. Petersburg  79.700000\n",
       "18               Juventus  78.600000\n",
       "19             Villarreal  77.900000\n",
       "20      Tottenham Hotspur  76.600000\n",
       "21          PSV Eindhoven  75.600000\n",
       "22            CSKA Moscow  73.100000\n",
       "23     Sporting CP Lisbon  71.300000\n",
       "24       Bayer Leverkusen  71.200000\n",
       "25    Paris Saint-Germain  70.900000\n",
       "26           Hamburger SV  69.714286\n",
       "27          Werder Bremen  69.625000\n",
       "28                   Ajax  69.600000\n",
       "29                AS Roma  69.200000\n",
       "..                    ...        ...\n",
       "128             FK Rostov  14.000000\n",
       "129         RC Strasbourg  14.000000\n",
       "130     AS Nancy Lorraine  13.600000\n",
       "131        Slovan Liberec  12.000000\n",
       "132       Birmingham City  12.000000\n",
       "133           Lech Poznan  11.333333\n",
       "134               Perugia  11.000000\n",
       "135           FC Augsburg  11.000000\n",
       "136         Portsmouth FC  10.600000\n",
       "137          Swansea City  10.500000\n",
       "138        Southampton FC   9.000000\n",
       "139           Millwall FC   9.000000\n",
       "140     Aris Thessaloniki   8.500000\n",
       "141      Maccabi Tel-Aviv   8.000000\n",
       "142            NK Maribor   7.666667\n",
       "143     Partizan Belgrade   7.500000\n",
       "144         1.FC Nürnberg   7.500000\n",
       "145             FC Zürich   7.000000\n",
       "146           SC Freiburg   5.750000\n",
       "147               Livorno   5.250000\n",
       "148         Stade Rennais   5.000000\n",
       "149         Maccabi Haifa   4.500000\n",
       "150        Wigan Athletic   3.333333\n",
       "151           Toulouse FC   3.000000\n",
       "152      Alemannia Aachen   3.000000\n",
       "153              Molde FK   2.500000\n",
       "154     En Avant Guingamp   2.000000\n",
       "155           Montpellier   2.000000\n",
       "156      Maritimo Funchal   2.000000\n",
       "157        Gençlerbirligi   1.000000\n",
       "\n",
       "[158 rows x 2 columns]"
      ]
     },
     "execution_count": 210,
     "metadata": {},
     "output_type": "execute_result"
    }
   ],
   "source": [
    "#rat = rating.groupby(rating.TO)[\"Res_Rating\"].mean()\n",
    "\n",
    "rat = rating.groupby(by=\"TO\").mean().sort_values(by = \"Res_Rating\", ascending=False)\n",
    "rat1 = rat.drop('Rating', axis=1).reset_index()\n",
    "rat1.columns = [\"FROM\", \"Rating\"]\n",
    "rat1\n",
    "#rat1[rat1.FROM == \"FC Monaco\"]"
   ]
  },
  {
   "cell_type": "code",
   "execution_count": 203,
   "metadata": {},
   "outputs": [
    {
     "data": {
      "text/plain": [
       "SEASON\n",
       "07/08    257\n",
       "08/09    131\n",
       "09/10    537\n",
       "10/11    561\n",
       "11/12    661\n",
       "12/13    633\n",
       "13/14    823\n",
       "14/15    773\n",
       "15/16    866\n",
       "16/17    648\n",
       "Name: PLAYER, dtype: int64"
      ]
     },
     "execution_count": 203,
     "metadata": {},
     "output_type": "execute_result"
    }
   ],
   "source": [
    "data.groupby(data.SEASON)['PLAYER'].count()"
   ]
  },
  {
   "cell_type": "code",
   "execution_count": 189,
   "metadata": {},
   "outputs": [
    {
     "data": {
      "text/plain": [
       "LEAGUE\n",
       "Bundesliga     468\n",
       "EPL           1338\n",
       "La Liga       1138\n",
       "ROE           1171\n",
       "Serie A       1775\n",
       "Name: PLAYER, dtype: int64"
      ]
     },
     "execution_count": 189,
     "metadata": {},
     "output_type": "execute_result"
    }
   ],
   "source": [
    "data.groupby(data.LEAGUE)['PLAYER'].count()"
   ]
  },
  {
   "cell_type": "code",
   "execution_count": 190,
   "metadata": {},
   "outputs": [
    {
     "data": {
      "text/html": [
       "<div>\n",
       "<style scoped>\n",
       "    .dataframe tbody tr th:only-of-type {\n",
       "        vertical-align: middle;\n",
       "    }\n",
       "\n",
       "    .dataframe tbody tr th {\n",
       "        vertical-align: top;\n",
       "    }\n",
       "\n",
       "    .dataframe thead th {\n",
       "        text-align: right;\n",
       "    }\n",
       "</style>\n",
       "<table border=\"1\" class=\"dataframe\">\n",
       "  <thead>\n",
       "    <tr style=\"text-align: right;\">\n",
       "      <th></th>\n",
       "      <th>FROM</th>\n",
       "      <th>Sell</th>\n",
       "    </tr>\n",
       "  </thead>\n",
       "  <tbody>\n",
       "    <tr>\n",
       "      <th>0</th>\n",
       "      <td>Porto</td>\n",
       "      <td>503100000.0</td>\n",
       "    </tr>\n",
       "    <tr>\n",
       "      <th>1</th>\n",
       "      <td>Liverpool</td>\n",
       "      <td>490900000.0</td>\n",
       "    </tr>\n",
       "    <tr>\n",
       "      <th>2</th>\n",
       "      <td>Benfica</td>\n",
       "      <td>439000000.0</td>\n",
       "    </tr>\n",
       "  </tbody>\n",
       "</table>\n",
       "</div>"
      ],
      "text/plain": [
       "        FROM         Sell\n",
       "0      Porto  503100000.0\n",
       "1  Liverpool  490900000.0\n",
       "2    Benfica  439000000.0"
      ]
     },
     "execution_count": 190,
     "metadata": {},
     "output_type": "execute_result"
    }
   ],
   "source": [
    "#data_from = data.groupby(data.FROM)['PRICE'].sum().sort_values(ascending=False)\n",
    "#data_from.head(30)\n",
    "data_from = data.groupby(by=\"FROM\").sum().sort_values(by = \"PRICE\", ascending=False)\n",
    "data_from1 = data_from.reset_index()\n",
    "data_from1.columns = ['FROM', 'Sell']\n",
    "data_from1.head(3)"
   ]
  },
  {
   "cell_type": "code",
   "execution_count": 191,
   "metadata": {},
   "outputs": [
    {
     "data": {
      "text/html": [
       "<div>\n",
       "<style scoped>\n",
       "    .dataframe tbody tr th:only-of-type {\n",
       "        vertical-align: middle;\n",
       "    }\n",
       "\n",
       "    .dataframe tbody tr th {\n",
       "        vertical-align: top;\n",
       "    }\n",
       "\n",
       "    .dataframe thead th {\n",
       "        text-align: right;\n",
       "    }\n",
       "</style>\n",
       "<table border=\"1\" class=\"dataframe\">\n",
       "  <thead>\n",
       "    <tr style=\"text-align: right;\">\n",
       "      <th></th>\n",
       "      <th>FROM</th>\n",
       "      <th>Buy</th>\n",
       "    </tr>\n",
       "  </thead>\n",
       "  <tbody>\n",
       "    <tr>\n",
       "      <th>0</th>\n",
       "      <td>Manchester City</td>\n",
       "      <td>1.067575e+09</td>\n",
       "    </tr>\n",
       "    <tr>\n",
       "      <th>1</th>\n",
       "      <td>Real Madrid</td>\n",
       "      <td>1.005800e+09</td>\n",
       "    </tr>\n",
       "    <tr>\n",
       "      <th>2</th>\n",
       "      <td>Barcelona</td>\n",
       "      <td>8.769000e+08</td>\n",
       "    </tr>\n",
       "  </tbody>\n",
       "</table>\n",
       "</div>"
      ],
      "text/plain": [
       "              FROM           Buy\n",
       "0  Manchester City  1.067575e+09\n",
       "1      Real Madrid  1.005800e+09\n",
       "2        Barcelona  8.769000e+08"
      ]
     },
     "execution_count": 191,
     "metadata": {},
     "output_type": "execute_result"
    }
   ],
   "source": [
    "data_to = data.groupby(by=\"TO\").sum().sort_values(by = \"PRICE\", ascending=False)\n",
    "data_to1 = data_to.reset_index()\n",
    "data_to1.columns = ['FROM', 'Buy']\n",
    "data_to1.head(3)"
   ]
  },
  {
   "cell_type": "code",
   "execution_count": 192,
   "metadata": {},
   "outputs": [
    {
     "data": {
      "text/html": [
       "<div>\n",
       "<style scoped>\n",
       "    .dataframe tbody tr th:only-of-type {\n",
       "        vertical-align: middle;\n",
       "    }\n",
       "\n",
       "    .dataframe tbody tr th {\n",
       "        vertical-align: top;\n",
       "    }\n",
       "\n",
       "    .dataframe thead th {\n",
       "        text-align: right;\n",
       "    }\n",
       "</style>\n",
       "<table border=\"1\" class=\"dataframe\">\n",
       "  <thead>\n",
       "    <tr style=\"text-align: right;\">\n",
       "      <th></th>\n",
       "      <th>FROM</th>\n",
       "      <th>Sell</th>\n",
       "      <th>Buy</th>\n",
       "    </tr>\n",
       "  </thead>\n",
       "  <tbody>\n",
       "    <tr>\n",
       "      <th>0</th>\n",
       "      <td>Porto</td>\n",
       "      <td>503100000.0</td>\n",
       "      <td>1.543000e+08</td>\n",
       "    </tr>\n",
       "    <tr>\n",
       "      <th>1</th>\n",
       "      <td>Liverpool</td>\n",
       "      <td>490900000.0</td>\n",
       "      <td>6.356300e+08</td>\n",
       "    </tr>\n",
       "    <tr>\n",
       "      <th>2</th>\n",
       "      <td>Benfica</td>\n",
       "      <td>439000000.0</td>\n",
       "      <td>1.044000e+08</td>\n",
       "    </tr>\n",
       "    <tr>\n",
       "      <th>3</th>\n",
       "      <td>Real Madrid</td>\n",
       "      <td>424400000.0</td>\n",
       "      <td>1.005800e+09</td>\n",
       "    </tr>\n",
       "    <tr>\n",
       "      <th>4</th>\n",
       "      <td>Valencia</td>\n",
       "      <td>421250000.0</td>\n",
       "      <td>2.732000e+08</td>\n",
       "    </tr>\n",
       "  </tbody>\n",
       "</table>\n",
       "</div>"
      ],
      "text/plain": [
       "          FROM         Sell           Buy\n",
       "0        Porto  503100000.0  1.543000e+08\n",
       "1    Liverpool  490900000.0  6.356300e+08\n",
       "2      Benfica  439000000.0  1.044000e+08\n",
       "3  Real Madrid  424400000.0  1.005800e+09\n",
       "4     Valencia  421250000.0  2.732000e+08"
      ]
     },
     "execution_count": 192,
     "metadata": {},
     "output_type": "execute_result"
    }
   ],
   "source": [
    "res = pd.merge(data_from1, data_to1, how='left', on=['FROM'])\n",
    "res1 = res.head(30)\n",
    "res1.head(5)"
   ]
  },
  {
   "cell_type": "code",
   "execution_count": 193,
   "metadata": {},
   "outputs": [
    {
     "data": {
      "application/vnd.plotly.v1+json": {
       "config": {
        "linkText": "Export to plot.ly",
        "plotlyServerURL": "https://plot.ly",
        "showLink": true
       },
       "data": [
        {
         "marker": {
          "color": "rgba(0, 128, 0, 0.6)",
          "line": {
           "color": "rgba(0, 128, 0, 1.0)",
           "width": 1
          }
         },
         "name": "Sell",
         "orientation": "v",
         "text": "",
         "type": "bar",
         "x": [
          "Porto",
          "Liverpool",
          "Benfica",
          "Real Madrid",
          "Valencia",
          "Atletico Madrid",
          "Chelsea",
          "Sevilla",
          "Roma",
          "Tottenham",
          "Juventus",
          "Barcelona",
          "Monaco",
          "Inter Milan",
          "Manchester United",
          "Southampton",
          "Ajax",
          "Napoli",
          "AC Milan",
          "Arsenal",
          "Lille",
          "Manchester City",
          "Lyon",
          "Newcastle",
          "Villarreal",
          "Udinese",
          "Wolfsburg",
          "Bor. Dortmund",
          "Bayern Munich",
          "Fiorentina"
         ],
         "y": [
          503100000,
          490900000,
          439000000,
          424400000,
          421250000,
          368700000,
          353600000,
          348250000,
          337800000,
          331450000,
          319100000,
          280600000,
          272200000,
          270200000,
          264150000,
          242900000,
          238450000,
          238250000,
          238100000,
          231200000,
          219900000,
          218000000,
          208000000,
          203100000,
          200600000,
          198250000,
          190800000,
          189050000,
          187000000,
          182000000
         ]
        },
        {
         "marker": {
          "color": "rgba(55, 128, 191, 0.6)",
          "line": {
           "color": "rgba(55, 128, 191, 1.0)",
           "width": 1
          }
         },
         "name": "Buy",
         "orientation": "v",
         "text": "",
         "type": "bar",
         "x": [
          "Porto",
          "Liverpool",
          "Benfica",
          "Real Madrid",
          "Valencia",
          "Atletico Madrid",
          "Chelsea",
          "Sevilla",
          "Roma",
          "Tottenham",
          "Juventus",
          "Barcelona",
          "Monaco",
          "Inter Milan",
          "Manchester United",
          "Southampton",
          "Ajax",
          "Napoli",
          "AC Milan",
          "Arsenal",
          "Lille",
          "Manchester City",
          "Lyon",
          "Newcastle",
          "Villarreal",
          "Udinese",
          "Wolfsburg",
          "Bor. Dortmund",
          "Bayern Munich",
          "Fiorentina"
         ],
         "y": [
          154300000,
          635630000,
          104400000,
          1005800000,
          273200000,
          555400000,
          798650000,
          197900000,
          435150000,
          413600000,
          658300000,
          876900000,
          294450000,
          389500000,
          738750000,
          223850000,
          17500000,
          282700000,
          272400000,
          408800000,
          32000000,
          1067575000,
          127700000,
          211100000,
          132750000,
          48450000,
          241700000,
          266800000,
          410000000,
          166700000
         ]
        }
       ],
       "layout": {
        "legend": {
         "bgcolor": "#F5F6F9",
         "font": {
          "color": "#4D5663"
         }
        },
        "paper_bgcolor": "#F5F6F9",
        "plot_bgcolor": "#F5F6F9",
        "template": {
         "data": {
          "bar": [
           {
            "error_x": {
             "color": "#2a3f5f"
            },
            "error_y": {
             "color": "#2a3f5f"
            },
            "marker": {
             "line": {
              "color": "#E5ECF6",
              "width": 0.5
             }
            },
            "type": "bar"
           }
          ],
          "barpolar": [
           {
            "marker": {
             "line": {
              "color": "#E5ECF6",
              "width": 0.5
             }
            },
            "type": "barpolar"
           }
          ],
          "carpet": [
           {
            "aaxis": {
             "endlinecolor": "#2a3f5f",
             "gridcolor": "white",
             "linecolor": "white",
             "minorgridcolor": "white",
             "startlinecolor": "#2a3f5f"
            },
            "baxis": {
             "endlinecolor": "#2a3f5f",
             "gridcolor": "white",
             "linecolor": "white",
             "minorgridcolor": "white",
             "startlinecolor": "#2a3f5f"
            },
            "type": "carpet"
           }
          ],
          "choropleth": [
           {
            "colorbar": {
             "outlinewidth": 0,
             "ticks": ""
            },
            "type": "choropleth"
           }
          ],
          "contour": [
           {
            "colorbar": {
             "outlinewidth": 0,
             "ticks": ""
            },
            "colorscale": [
             [
              0,
              "#0d0887"
             ],
             [
              0.1111111111111111,
              "#46039f"
             ],
             [
              0.2222222222222222,
              "#7201a8"
             ],
             [
              0.3333333333333333,
              "#9c179e"
             ],
             [
              0.4444444444444444,
              "#bd3786"
             ],
             [
              0.5555555555555556,
              "#d8576b"
             ],
             [
              0.6666666666666666,
              "#ed7953"
             ],
             [
              0.7777777777777778,
              "#fb9f3a"
             ],
             [
              0.8888888888888888,
              "#fdca26"
             ],
             [
              1,
              "#f0f921"
             ]
            ],
            "type": "contour"
           }
          ],
          "contourcarpet": [
           {
            "colorbar": {
             "outlinewidth": 0,
             "ticks": ""
            },
            "type": "contourcarpet"
           }
          ],
          "heatmap": [
           {
            "colorbar": {
             "outlinewidth": 0,
             "ticks": ""
            },
            "colorscale": [
             [
              0,
              "#0d0887"
             ],
             [
              0.1111111111111111,
              "#46039f"
             ],
             [
              0.2222222222222222,
              "#7201a8"
             ],
             [
              0.3333333333333333,
              "#9c179e"
             ],
             [
              0.4444444444444444,
              "#bd3786"
             ],
             [
              0.5555555555555556,
              "#d8576b"
             ],
             [
              0.6666666666666666,
              "#ed7953"
             ],
             [
              0.7777777777777778,
              "#fb9f3a"
             ],
             [
              0.8888888888888888,
              "#fdca26"
             ],
             [
              1,
              "#f0f921"
             ]
            ],
            "type": "heatmap"
           }
          ],
          "heatmapgl": [
           {
            "colorbar": {
             "outlinewidth": 0,
             "ticks": ""
            },
            "colorscale": [
             [
              0,
              "#0d0887"
             ],
             [
              0.1111111111111111,
              "#46039f"
             ],
             [
              0.2222222222222222,
              "#7201a8"
             ],
             [
              0.3333333333333333,
              "#9c179e"
             ],
             [
              0.4444444444444444,
              "#bd3786"
             ],
             [
              0.5555555555555556,
              "#d8576b"
             ],
             [
              0.6666666666666666,
              "#ed7953"
             ],
             [
              0.7777777777777778,
              "#fb9f3a"
             ],
             [
              0.8888888888888888,
              "#fdca26"
             ],
             [
              1,
              "#f0f921"
             ]
            ],
            "type": "heatmapgl"
           }
          ],
          "histogram": [
           {
            "marker": {
             "colorbar": {
              "outlinewidth": 0,
              "ticks": ""
             }
            },
            "type": "histogram"
           }
          ],
          "histogram2d": [
           {
            "colorbar": {
             "outlinewidth": 0,
             "ticks": ""
            },
            "colorscale": [
             [
              0,
              "#0d0887"
             ],
             [
              0.1111111111111111,
              "#46039f"
             ],
             [
              0.2222222222222222,
              "#7201a8"
             ],
             [
              0.3333333333333333,
              "#9c179e"
             ],
             [
              0.4444444444444444,
              "#bd3786"
             ],
             [
              0.5555555555555556,
              "#d8576b"
             ],
             [
              0.6666666666666666,
              "#ed7953"
             ],
             [
              0.7777777777777778,
              "#fb9f3a"
             ],
             [
              0.8888888888888888,
              "#fdca26"
             ],
             [
              1,
              "#f0f921"
             ]
            ],
            "type": "histogram2d"
           }
          ],
          "histogram2dcontour": [
           {
            "colorbar": {
             "outlinewidth": 0,
             "ticks": ""
            },
            "colorscale": [
             [
              0,
              "#0d0887"
             ],
             [
              0.1111111111111111,
              "#46039f"
             ],
             [
              0.2222222222222222,
              "#7201a8"
             ],
             [
              0.3333333333333333,
              "#9c179e"
             ],
             [
              0.4444444444444444,
              "#bd3786"
             ],
             [
              0.5555555555555556,
              "#d8576b"
             ],
             [
              0.6666666666666666,
              "#ed7953"
             ],
             [
              0.7777777777777778,
              "#fb9f3a"
             ],
             [
              0.8888888888888888,
              "#fdca26"
             ],
             [
              1,
              "#f0f921"
             ]
            ],
            "type": "histogram2dcontour"
           }
          ],
          "mesh3d": [
           {
            "colorbar": {
             "outlinewidth": 0,
             "ticks": ""
            },
            "type": "mesh3d"
           }
          ],
          "parcoords": [
           {
            "line": {
             "colorbar": {
              "outlinewidth": 0,
              "ticks": ""
             }
            },
            "type": "parcoords"
           }
          ],
          "scatter": [
           {
            "marker": {
             "colorbar": {
              "outlinewidth": 0,
              "ticks": ""
             }
            },
            "type": "scatter"
           }
          ],
          "scatter3d": [
           {
            "line": {
             "colorbar": {
              "outlinewidth": 0,
              "ticks": ""
             }
            },
            "marker": {
             "colorbar": {
              "outlinewidth": 0,
              "ticks": ""
             }
            },
            "type": "scatter3d"
           }
          ],
          "scattercarpet": [
           {
            "marker": {
             "colorbar": {
              "outlinewidth": 0,
              "ticks": ""
             }
            },
            "type": "scattercarpet"
           }
          ],
          "scattergeo": [
           {
            "marker": {
             "colorbar": {
              "outlinewidth": 0,
              "ticks": ""
             }
            },
            "type": "scattergeo"
           }
          ],
          "scattergl": [
           {
            "marker": {
             "colorbar": {
              "outlinewidth": 0,
              "ticks": ""
             }
            },
            "type": "scattergl"
           }
          ],
          "scattermapbox": [
           {
            "marker": {
             "colorbar": {
              "outlinewidth": 0,
              "ticks": ""
             }
            },
            "type": "scattermapbox"
           }
          ],
          "scatterpolar": [
           {
            "marker": {
             "colorbar": {
              "outlinewidth": 0,
              "ticks": ""
             }
            },
            "type": "scatterpolar"
           }
          ],
          "scatterpolargl": [
           {
            "marker": {
             "colorbar": {
              "outlinewidth": 0,
              "ticks": ""
             }
            },
            "type": "scatterpolargl"
           }
          ],
          "scatterternary": [
           {
            "marker": {
             "colorbar": {
              "outlinewidth": 0,
              "ticks": ""
             }
            },
            "type": "scatterternary"
           }
          ],
          "surface": [
           {
            "colorbar": {
             "outlinewidth": 0,
             "ticks": ""
            },
            "colorscale": [
             [
              0,
              "#0d0887"
             ],
             [
              0.1111111111111111,
              "#46039f"
             ],
             [
              0.2222222222222222,
              "#7201a8"
             ],
             [
              0.3333333333333333,
              "#9c179e"
             ],
             [
              0.4444444444444444,
              "#bd3786"
             ],
             [
              0.5555555555555556,
              "#d8576b"
             ],
             [
              0.6666666666666666,
              "#ed7953"
             ],
             [
              0.7777777777777778,
              "#fb9f3a"
             ],
             [
              0.8888888888888888,
              "#fdca26"
             ],
             [
              1,
              "#f0f921"
             ]
            ],
            "type": "surface"
           }
          ],
          "table": [
           {
            "cells": {
             "fill": {
              "color": "#EBF0F8"
             },
             "line": {
              "color": "white"
             }
            },
            "header": {
             "fill": {
              "color": "#C8D4E3"
             },
             "line": {
              "color": "white"
             }
            },
            "type": "table"
           }
          ]
         },
         "layout": {
          "annotationdefaults": {
           "arrowcolor": "#2a3f5f",
           "arrowhead": 0,
           "arrowwidth": 1
          },
          "colorscale": {
           "diverging": [
            [
             0,
             "#8e0152"
            ],
            [
             0.1,
             "#c51b7d"
            ],
            [
             0.2,
             "#de77ae"
            ],
            [
             0.3,
             "#f1b6da"
            ],
            [
             0.4,
             "#fde0ef"
            ],
            [
             0.5,
             "#f7f7f7"
            ],
            [
             0.6,
             "#e6f5d0"
            ],
            [
             0.7,
             "#b8e186"
            ],
            [
             0.8,
             "#7fbc41"
            ],
            [
             0.9,
             "#4d9221"
            ],
            [
             1,
             "#276419"
            ]
           ],
           "sequential": [
            [
             0,
             "#0d0887"
            ],
            [
             0.1111111111111111,
             "#46039f"
            ],
            [
             0.2222222222222222,
             "#7201a8"
            ],
            [
             0.3333333333333333,
             "#9c179e"
            ],
            [
             0.4444444444444444,
             "#bd3786"
            ],
            [
             0.5555555555555556,
             "#d8576b"
            ],
            [
             0.6666666666666666,
             "#ed7953"
            ],
            [
             0.7777777777777778,
             "#fb9f3a"
            ],
            [
             0.8888888888888888,
             "#fdca26"
            ],
            [
             1,
             "#f0f921"
            ]
           ],
           "sequentialminus": [
            [
             0,
             "#0d0887"
            ],
            [
             0.1111111111111111,
             "#46039f"
            ],
            [
             0.2222222222222222,
             "#7201a8"
            ],
            [
             0.3333333333333333,
             "#9c179e"
            ],
            [
             0.4444444444444444,
             "#bd3786"
            ],
            [
             0.5555555555555556,
             "#d8576b"
            ],
            [
             0.6666666666666666,
             "#ed7953"
            ],
            [
             0.7777777777777778,
             "#fb9f3a"
            ],
            [
             0.8888888888888888,
             "#fdca26"
            ],
            [
             1,
             "#f0f921"
            ]
           ]
          },
          "colorway": [
           "#636efa",
           "#EF553B",
           "#00cc96",
           "#ab63fa",
           "#FFA15A",
           "#19d3f3",
           "#FF6692",
           "#B6E880",
           "#FF97FF",
           "#FECB52"
          ],
          "font": {
           "color": "#2a3f5f"
          },
          "geo": {
           "bgcolor": "white",
           "lakecolor": "white",
           "landcolor": "#E5ECF6",
           "showlakes": true,
           "showland": true,
           "subunitcolor": "white"
          },
          "hoverlabel": {
           "align": "left"
          },
          "hovermode": "closest",
          "mapbox": {
           "style": "light"
          },
          "paper_bgcolor": "white",
          "plot_bgcolor": "#E5ECF6",
          "polar": {
           "angularaxis": {
            "gridcolor": "white",
            "linecolor": "white",
            "ticks": ""
           },
           "bgcolor": "#E5ECF6",
           "radialaxis": {
            "gridcolor": "white",
            "linecolor": "white",
            "ticks": ""
           }
          },
          "scene": {
           "xaxis": {
            "backgroundcolor": "#E5ECF6",
            "gridcolor": "white",
            "gridwidth": 2,
            "linecolor": "white",
            "showbackground": true,
            "ticks": "",
            "zerolinecolor": "white"
           },
           "yaxis": {
            "backgroundcolor": "#E5ECF6",
            "gridcolor": "white",
            "gridwidth": 2,
            "linecolor": "white",
            "showbackground": true,
            "ticks": "",
            "zerolinecolor": "white"
           },
           "zaxis": {
            "backgroundcolor": "#E5ECF6",
            "gridcolor": "white",
            "gridwidth": 2,
            "linecolor": "white",
            "showbackground": true,
            "ticks": "",
            "zerolinecolor": "white"
           }
          },
          "shapedefaults": {
           "line": {
            "color": "#2a3f5f"
           }
          },
          "ternary": {
           "aaxis": {
            "gridcolor": "white",
            "linecolor": "white",
            "ticks": ""
           },
           "baxis": {
            "gridcolor": "white",
            "linecolor": "white",
            "ticks": ""
           },
           "bgcolor": "#E5ECF6",
           "caxis": {
            "gridcolor": "white",
            "linecolor": "white",
            "ticks": ""
           }
          },
          "title": {
           "x": 0.05
          },
          "xaxis": {
           "automargin": true,
           "gridcolor": "white",
           "linecolor": "white",
           "ticks": "",
           "zerolinecolor": "white",
           "zerolinewidth": 2
          },
          "yaxis": {
           "automargin": true,
           "gridcolor": "white",
           "linecolor": "white",
           "ticks": "",
           "zerolinecolor": "white",
           "zerolinewidth": 2
          }
         }
        },
        "title": {
         "font": {
          "color": "#4D5663"
         },
         "text": "Total sell and buy"
        },
        "xaxis": {
         "gridcolor": "#E1E5ED",
         "showgrid": true,
         "tickfont": {
          "color": "#4D5663"
         },
         "title": {
          "font": {
           "color": "#4D5663"
          },
          "text": "Club"
         },
         "zerolinecolor": "#E1E5ED"
        },
        "yaxis": {
         "gridcolor": "#E1E5ED",
         "showgrid": true,
         "tickfont": {
          "color": "#4D5663"
         },
         "title": {
          "font": {
           "color": "#4D5663"
          },
          "text": "Price"
         },
         "zerolinecolor": "#E1E5ED"
        }
       }
      },
      "text/html": [
       "<div>\n",
       "        \n",
       "        \n",
       "            <div id=\"a0b037c8-c0c7-4d12-a8a3-7af691033f00\" class=\"plotly-graph-div\" style=\"height:525px; width:100%;\"></div>\n",
       "            <script type=\"text/javascript\">\n",
       "                require([\"plotly\"], function(Plotly) {\n",
       "                    window.PLOTLYENV=window.PLOTLYENV || {};\n",
       "                    window.PLOTLYENV.BASE_URL='https://plot.ly';\n",
       "                    \n",
       "                if (document.getElementById(\"a0b037c8-c0c7-4d12-a8a3-7af691033f00\")) {\n",
       "                    Plotly.newPlot(\n",
       "                        'a0b037c8-c0c7-4d12-a8a3-7af691033f00',\n",
       "                        [{\"marker\": {\"color\": \"rgba(0, 128, 0, 0.6)\", \"line\": {\"color\": \"rgba(0, 128, 0, 1.0)\", \"width\": 1}}, \"name\": \"Sell\", \"orientation\": \"v\", \"text\": \"\", \"type\": \"bar\", \"x\": [\"Porto\", \"Liverpool\", \"Benfica\", \"Real Madrid\", \"Valencia\", \"Atletico Madrid\", \"Chelsea\", \"Sevilla\", \"Roma\", \"Tottenham\", \"Juventus\", \"Barcelona\", \"Monaco\", \"Inter Milan\", \"Manchester United\", \"Southampton\", \"Ajax\", \"Napoli\", \"AC Milan\", \"Arsenal\", \"Lille\", \"Manchester City\", \"Lyon\", \"Newcastle\", \"Villarreal\", \"Udinese\", \"Wolfsburg\", \"Bor. Dortmund\", \"Bayern Munich\", \"Fiorentina\"], \"y\": [503100000.0, 490900000.0, 439000000.0, 424400000.0, 421250000.0, 368700000.0, 353600000.0, 348250000.0, 337800000.0, 331450000.0, 319100000.0, 280600000.0, 272200000.0, 270200000.0, 264150000.0, 242900000.0, 238450000.0, 238250000.0, 238100000.0, 231200000.0, 219900000.0, 218000000.0, 208000000.0, 203100000.0, 200600000.0, 198250000.0, 190800000.0, 189050000.0, 187000000.0, 182000000.0]}, {\"marker\": {\"color\": \"rgba(55, 128, 191, 0.6)\", \"line\": {\"color\": \"rgba(55, 128, 191, 1.0)\", \"width\": 1}}, \"name\": \"Buy\", \"orientation\": \"v\", \"text\": \"\", \"type\": \"bar\", \"x\": [\"Porto\", \"Liverpool\", \"Benfica\", \"Real Madrid\", \"Valencia\", \"Atletico Madrid\", \"Chelsea\", \"Sevilla\", \"Roma\", \"Tottenham\", \"Juventus\", \"Barcelona\", \"Monaco\", \"Inter Milan\", \"Manchester United\", \"Southampton\", \"Ajax\", \"Napoli\", \"AC Milan\", \"Arsenal\", \"Lille\", \"Manchester City\", \"Lyon\", \"Newcastle\", \"Villarreal\", \"Udinese\", \"Wolfsburg\", \"Bor. Dortmund\", \"Bayern Munich\", \"Fiorentina\"], \"y\": [154300000.0, 635630000.0, 104400000.0, 1005800000.0, 273200000.0, 555400000.0, 798650000.0, 197900000.0, 435150000.0, 413600000.0, 658300000.0, 876900000.0, 294450000.0, 389500000.0, 738750000.0, 223850000.0, 17500000.0, 282700000.0, 272400000.0, 408800000.0, 32000000.0, 1067575000.0, 127700000.0, 211100000.0, 132750000.0, 48450000.0, 241700000.0, 266800000.0, 410000000.0, 166700000.0]}],\n",
       "                        {\"legend\": {\"bgcolor\": \"#F5F6F9\", \"font\": {\"color\": \"#4D5663\"}}, \"paper_bgcolor\": \"#F5F6F9\", \"plot_bgcolor\": \"#F5F6F9\", \"template\": {\"data\": {\"bar\": [{\"error_x\": {\"color\": \"#2a3f5f\"}, \"error_y\": {\"color\": \"#2a3f5f\"}, \"marker\": {\"line\": {\"color\": \"#E5ECF6\", \"width\": 0.5}}, \"type\": \"bar\"}], \"barpolar\": [{\"marker\": {\"line\": {\"color\": \"#E5ECF6\", \"width\": 0.5}}, \"type\": \"barpolar\"}], \"carpet\": [{\"aaxis\": {\"endlinecolor\": \"#2a3f5f\", \"gridcolor\": \"white\", \"linecolor\": \"white\", \"minorgridcolor\": \"white\", \"startlinecolor\": \"#2a3f5f\"}, \"baxis\": {\"endlinecolor\": \"#2a3f5f\", \"gridcolor\": \"white\", \"linecolor\": \"white\", \"minorgridcolor\": \"white\", \"startlinecolor\": \"#2a3f5f\"}, \"type\": \"carpet\"}], \"choropleth\": [{\"colorbar\": {\"outlinewidth\": 0, \"ticks\": \"\"}, \"type\": \"choropleth\"}], \"contour\": [{\"colorbar\": {\"outlinewidth\": 0, \"ticks\": \"\"}, \"colorscale\": [[0.0, \"#0d0887\"], [0.1111111111111111, \"#46039f\"], [0.2222222222222222, \"#7201a8\"], [0.3333333333333333, \"#9c179e\"], [0.4444444444444444, \"#bd3786\"], [0.5555555555555556, \"#d8576b\"], [0.6666666666666666, \"#ed7953\"], [0.7777777777777778, \"#fb9f3a\"], [0.8888888888888888, \"#fdca26\"], [1.0, \"#f0f921\"]], \"type\": \"contour\"}], \"contourcarpet\": [{\"colorbar\": {\"outlinewidth\": 0, \"ticks\": \"\"}, \"type\": \"contourcarpet\"}], \"heatmap\": [{\"colorbar\": {\"outlinewidth\": 0, \"ticks\": \"\"}, \"colorscale\": [[0.0, \"#0d0887\"], [0.1111111111111111, \"#46039f\"], [0.2222222222222222, \"#7201a8\"], [0.3333333333333333, \"#9c179e\"], [0.4444444444444444, \"#bd3786\"], [0.5555555555555556, \"#d8576b\"], [0.6666666666666666, \"#ed7953\"], [0.7777777777777778, \"#fb9f3a\"], [0.8888888888888888, \"#fdca26\"], [1.0, \"#f0f921\"]], \"type\": \"heatmap\"}], \"heatmapgl\": [{\"colorbar\": {\"outlinewidth\": 0, \"ticks\": \"\"}, \"colorscale\": [[0.0, \"#0d0887\"], [0.1111111111111111, \"#46039f\"], [0.2222222222222222, \"#7201a8\"], [0.3333333333333333, \"#9c179e\"], [0.4444444444444444, \"#bd3786\"], [0.5555555555555556, \"#d8576b\"], [0.6666666666666666, \"#ed7953\"], [0.7777777777777778, \"#fb9f3a\"], [0.8888888888888888, \"#fdca26\"], [1.0, \"#f0f921\"]], \"type\": \"heatmapgl\"}], \"histogram\": [{\"marker\": {\"colorbar\": {\"outlinewidth\": 0, \"ticks\": \"\"}}, \"type\": \"histogram\"}], \"histogram2d\": [{\"colorbar\": {\"outlinewidth\": 0, \"ticks\": \"\"}, \"colorscale\": [[0.0, \"#0d0887\"], [0.1111111111111111, \"#46039f\"], [0.2222222222222222, \"#7201a8\"], [0.3333333333333333, \"#9c179e\"], [0.4444444444444444, \"#bd3786\"], [0.5555555555555556, \"#d8576b\"], [0.6666666666666666, \"#ed7953\"], [0.7777777777777778, \"#fb9f3a\"], [0.8888888888888888, \"#fdca26\"], [1.0, \"#f0f921\"]], \"type\": \"histogram2d\"}], \"histogram2dcontour\": [{\"colorbar\": {\"outlinewidth\": 0, \"ticks\": \"\"}, \"colorscale\": [[0.0, \"#0d0887\"], [0.1111111111111111, \"#46039f\"], [0.2222222222222222, \"#7201a8\"], [0.3333333333333333, \"#9c179e\"], [0.4444444444444444, \"#bd3786\"], [0.5555555555555556, \"#d8576b\"], [0.6666666666666666, \"#ed7953\"], [0.7777777777777778, \"#fb9f3a\"], [0.8888888888888888, \"#fdca26\"], [1.0, \"#f0f921\"]], \"type\": \"histogram2dcontour\"}], \"mesh3d\": [{\"colorbar\": {\"outlinewidth\": 0, \"ticks\": \"\"}, \"type\": \"mesh3d\"}], \"parcoords\": [{\"line\": {\"colorbar\": {\"outlinewidth\": 0, \"ticks\": \"\"}}, \"type\": \"parcoords\"}], \"scatter\": [{\"marker\": {\"colorbar\": {\"outlinewidth\": 0, \"ticks\": \"\"}}, \"type\": \"scatter\"}], \"scatter3d\": [{\"line\": {\"colorbar\": {\"outlinewidth\": 0, \"ticks\": \"\"}}, \"marker\": {\"colorbar\": {\"outlinewidth\": 0, \"ticks\": \"\"}}, \"type\": \"scatter3d\"}], \"scattercarpet\": [{\"marker\": {\"colorbar\": {\"outlinewidth\": 0, \"ticks\": \"\"}}, \"type\": \"scattercarpet\"}], \"scattergeo\": [{\"marker\": {\"colorbar\": {\"outlinewidth\": 0, \"ticks\": \"\"}}, \"type\": \"scattergeo\"}], \"scattergl\": [{\"marker\": {\"colorbar\": {\"outlinewidth\": 0, \"ticks\": \"\"}}, \"type\": \"scattergl\"}], \"scattermapbox\": [{\"marker\": {\"colorbar\": {\"outlinewidth\": 0, \"ticks\": \"\"}}, \"type\": \"scattermapbox\"}], \"scatterpolar\": [{\"marker\": {\"colorbar\": {\"outlinewidth\": 0, \"ticks\": \"\"}}, \"type\": \"scatterpolar\"}], \"scatterpolargl\": [{\"marker\": {\"colorbar\": {\"outlinewidth\": 0, \"ticks\": \"\"}}, \"type\": \"scatterpolargl\"}], \"scatterternary\": [{\"marker\": {\"colorbar\": {\"outlinewidth\": 0, \"ticks\": \"\"}}, \"type\": \"scatterternary\"}], \"surface\": [{\"colorbar\": {\"outlinewidth\": 0, \"ticks\": \"\"}, \"colorscale\": [[0.0, \"#0d0887\"], [0.1111111111111111, \"#46039f\"], [0.2222222222222222, \"#7201a8\"], [0.3333333333333333, \"#9c179e\"], [0.4444444444444444, \"#bd3786\"], [0.5555555555555556, \"#d8576b\"], [0.6666666666666666, \"#ed7953\"], [0.7777777777777778, \"#fb9f3a\"], [0.8888888888888888, \"#fdca26\"], [1.0, \"#f0f921\"]], \"type\": \"surface\"}], \"table\": [{\"cells\": {\"fill\": {\"color\": \"#EBF0F8\"}, \"line\": {\"color\": \"white\"}}, \"header\": {\"fill\": {\"color\": \"#C8D4E3\"}, \"line\": {\"color\": \"white\"}}, \"type\": \"table\"}]}, \"layout\": {\"annotationdefaults\": {\"arrowcolor\": \"#2a3f5f\", \"arrowhead\": 0, \"arrowwidth\": 1}, \"colorscale\": {\"diverging\": [[0, \"#8e0152\"], [0.1, \"#c51b7d\"], [0.2, \"#de77ae\"], [0.3, \"#f1b6da\"], [0.4, \"#fde0ef\"], [0.5, \"#f7f7f7\"], [0.6, \"#e6f5d0\"], [0.7, \"#b8e186\"], [0.8, \"#7fbc41\"], [0.9, \"#4d9221\"], [1, \"#276419\"]], \"sequential\": [[0.0, \"#0d0887\"], [0.1111111111111111, \"#46039f\"], [0.2222222222222222, \"#7201a8\"], [0.3333333333333333, \"#9c179e\"], [0.4444444444444444, \"#bd3786\"], [0.5555555555555556, \"#d8576b\"], [0.6666666666666666, \"#ed7953\"], [0.7777777777777778, \"#fb9f3a\"], [0.8888888888888888, \"#fdca26\"], [1.0, \"#f0f921\"]], \"sequentialminus\": [[0.0, \"#0d0887\"], [0.1111111111111111, \"#46039f\"], [0.2222222222222222, \"#7201a8\"], [0.3333333333333333, \"#9c179e\"], [0.4444444444444444, \"#bd3786\"], [0.5555555555555556, \"#d8576b\"], [0.6666666666666666, \"#ed7953\"], [0.7777777777777778, \"#fb9f3a\"], [0.8888888888888888, \"#fdca26\"], [1.0, \"#f0f921\"]]}, \"colorway\": [\"#636efa\", \"#EF553B\", \"#00cc96\", \"#ab63fa\", \"#FFA15A\", \"#19d3f3\", \"#FF6692\", \"#B6E880\", \"#FF97FF\", \"#FECB52\"], \"font\": {\"color\": \"#2a3f5f\"}, \"geo\": {\"bgcolor\": \"white\", \"lakecolor\": \"white\", \"landcolor\": \"#E5ECF6\", \"showlakes\": true, \"showland\": true, \"subunitcolor\": \"white\"}, \"hoverlabel\": {\"align\": \"left\"}, \"hovermode\": \"closest\", \"mapbox\": {\"style\": \"light\"}, \"paper_bgcolor\": \"white\", \"plot_bgcolor\": \"#E5ECF6\", \"polar\": {\"angularaxis\": {\"gridcolor\": \"white\", \"linecolor\": \"white\", \"ticks\": \"\"}, \"bgcolor\": \"#E5ECF6\", \"radialaxis\": {\"gridcolor\": \"white\", \"linecolor\": \"white\", \"ticks\": \"\"}}, \"scene\": {\"xaxis\": {\"backgroundcolor\": \"#E5ECF6\", \"gridcolor\": \"white\", \"gridwidth\": 2, \"linecolor\": \"white\", \"showbackground\": true, \"ticks\": \"\", \"zerolinecolor\": \"white\"}, \"yaxis\": {\"backgroundcolor\": \"#E5ECF6\", \"gridcolor\": \"white\", \"gridwidth\": 2, \"linecolor\": \"white\", \"showbackground\": true, \"ticks\": \"\", \"zerolinecolor\": \"white\"}, \"zaxis\": {\"backgroundcolor\": \"#E5ECF6\", \"gridcolor\": \"white\", \"gridwidth\": 2, \"linecolor\": \"white\", \"showbackground\": true, \"ticks\": \"\", \"zerolinecolor\": \"white\"}}, \"shapedefaults\": {\"line\": {\"color\": \"#2a3f5f\"}}, \"ternary\": {\"aaxis\": {\"gridcolor\": \"white\", \"linecolor\": \"white\", \"ticks\": \"\"}, \"baxis\": {\"gridcolor\": \"white\", \"linecolor\": \"white\", \"ticks\": \"\"}, \"bgcolor\": \"#E5ECF6\", \"caxis\": {\"gridcolor\": \"white\", \"linecolor\": \"white\", \"ticks\": \"\"}}, \"title\": {\"x\": 0.05}, \"xaxis\": {\"automargin\": true, \"gridcolor\": \"white\", \"linecolor\": \"white\", \"ticks\": \"\", \"zerolinecolor\": \"white\", \"zerolinewidth\": 2}, \"yaxis\": {\"automargin\": true, \"gridcolor\": \"white\", \"linecolor\": \"white\", \"ticks\": \"\", \"zerolinecolor\": \"white\", \"zerolinewidth\": 2}}}, \"title\": {\"font\": {\"color\": \"#4D5663\"}, \"text\": \"Total sell and buy\"}, \"xaxis\": {\"gridcolor\": \"#E1E5ED\", \"showgrid\": true, \"tickfont\": {\"color\": \"#4D5663\"}, \"title\": {\"font\": {\"color\": \"#4D5663\"}, \"text\": \"Club\"}, \"zerolinecolor\": \"#E1E5ED\"}, \"yaxis\": {\"gridcolor\": \"#E1E5ED\", \"showgrid\": true, \"tickfont\": {\"color\": \"#4D5663\"}, \"title\": {\"font\": {\"color\": \"#4D5663\"}, \"text\": \"Price\"}, \"zerolinecolor\": \"#E1E5ED\"}},\n",
       "                        {\"showLink\": true, \"linkText\": \"Export to plot.ly\", \"plotlyServerURL\": \"https://plot.ly\", \"responsive\": true}\n",
       "                    ).then(function(){\n",
       "                            \n",
       "var gd = document.getElementById('a0b037c8-c0c7-4d12-a8a3-7af691033f00');\n",
       "var x = new MutationObserver(function (mutations, observer) {{\n",
       "        var display = window.getComputedStyle(gd).display;\n",
       "        if (!display || display === 'none') {{\n",
       "            console.log([gd, 'removed!']);\n",
       "            Plotly.purge(gd);\n",
       "            observer.disconnect();\n",
       "        }}\n",
       "}});\n",
       "\n",
       "// Listen for the removal of the full notebook cells\n",
       "var notebookContainer = gd.closest('#notebook-container');\n",
       "if (notebookContainer) {{\n",
       "    x.observe(notebookContainer, {childList: true});\n",
       "}}\n",
       "\n",
       "// Listen for the clearing of the current output cell\n",
       "var outputEl = gd.closest('.output');\n",
       "if (outputEl) {{\n",
       "    x.observe(outputEl, {childList: true});\n",
       "}}\n",
       "\n",
       "                        })\n",
       "                };\n",
       "                });\n",
       "            </script>\n",
       "        </div>"
      ]
     },
     "metadata": {},
     "output_type": "display_data"
    }
   ],
   "source": [
    "res1.iplot(kind='bar', x='FROM', xTitle='Club', color=['green', 'blue'], yTitle='Price', title='Total sell and buy')"
   ]
  },
  {
   "cell_type": "code",
   "execution_count": 194,
   "metadata": {},
   "outputs": [
    {
     "data": {
      "text/html": [
       "<div>\n",
       "<style scoped>\n",
       "    .dataframe tbody tr th:only-of-type {\n",
       "        vertical-align: middle;\n",
       "    }\n",
       "\n",
       "    .dataframe tbody tr th {\n",
       "        vertical-align: top;\n",
       "    }\n",
       "\n",
       "    .dataframe thead th {\n",
       "        text-align: right;\n",
       "    }\n",
       "</style>\n",
       "<table border=\"1\" class=\"dataframe\">\n",
       "  <thead>\n",
       "    <tr style=\"text-align: right;\">\n",
       "      <th></th>\n",
       "      <th>FROM</th>\n",
       "      <th>Sell</th>\n",
       "      <th>Buy</th>\n",
       "      <th>Strategy</th>\n",
       "    </tr>\n",
       "  </thead>\n",
       "  <tbody>\n",
       "    <tr>\n",
       "      <th>1</th>\n",
       "      <td>Liverpool</td>\n",
       "      <td>490900000.0</td>\n",
       "      <td>6.356300e+08</td>\n",
       "      <td>2</td>\n",
       "    </tr>\n",
       "    <tr>\n",
       "      <th>3</th>\n",
       "      <td>Real Madrid</td>\n",
       "      <td>424400000.0</td>\n",
       "      <td>1.005800e+09</td>\n",
       "      <td>2</td>\n",
       "    </tr>\n",
       "    <tr>\n",
       "      <th>5</th>\n",
       "      <td>Atletico Madrid</td>\n",
       "      <td>368700000.0</td>\n",
       "      <td>5.554000e+08</td>\n",
       "      <td>2</td>\n",
       "    </tr>\n",
       "    <tr>\n",
       "      <th>6</th>\n",
       "      <td>Chelsea</td>\n",
       "      <td>353600000.0</td>\n",
       "      <td>7.986500e+08</td>\n",
       "      <td>2</td>\n",
       "    </tr>\n",
       "    <tr>\n",
       "      <th>8</th>\n",
       "      <td>Roma</td>\n",
       "      <td>337800000.0</td>\n",
       "      <td>4.351500e+08</td>\n",
       "      <td>2</td>\n",
       "    </tr>\n",
       "    <tr>\n",
       "      <th>9</th>\n",
       "      <td>Tottenham</td>\n",
       "      <td>331450000.0</td>\n",
       "      <td>4.136000e+08</td>\n",
       "      <td>2</td>\n",
       "    </tr>\n",
       "    <tr>\n",
       "      <th>10</th>\n",
       "      <td>Juventus</td>\n",
       "      <td>319100000.0</td>\n",
       "      <td>6.583000e+08</td>\n",
       "      <td>2</td>\n",
       "    </tr>\n",
       "    <tr>\n",
       "      <th>11</th>\n",
       "      <td>Barcelona</td>\n",
       "      <td>280600000.0</td>\n",
       "      <td>8.769000e+08</td>\n",
       "      <td>2</td>\n",
       "    </tr>\n",
       "    <tr>\n",
       "      <th>12</th>\n",
       "      <td>Monaco</td>\n",
       "      <td>272200000.0</td>\n",
       "      <td>2.944500e+08</td>\n",
       "      <td>2</td>\n",
       "    </tr>\n",
       "    <tr>\n",
       "      <th>13</th>\n",
       "      <td>Inter Milan</td>\n",
       "      <td>270200000.0</td>\n",
       "      <td>3.895000e+08</td>\n",
       "      <td>2</td>\n",
       "    </tr>\n",
       "    <tr>\n",
       "      <th>14</th>\n",
       "      <td>Manchester United</td>\n",
       "      <td>264150000.0</td>\n",
       "      <td>7.387500e+08</td>\n",
       "      <td>2</td>\n",
       "    </tr>\n",
       "    <tr>\n",
       "      <th>17</th>\n",
       "      <td>Napoli</td>\n",
       "      <td>238250000.0</td>\n",
       "      <td>2.827000e+08</td>\n",
       "      <td>2</td>\n",
       "    </tr>\n",
       "    <tr>\n",
       "      <th>18</th>\n",
       "      <td>AC Milan</td>\n",
       "      <td>238100000.0</td>\n",
       "      <td>2.724000e+08</td>\n",
       "      <td>2</td>\n",
       "    </tr>\n",
       "    <tr>\n",
       "      <th>19</th>\n",
       "      <td>Arsenal</td>\n",
       "      <td>231200000.0</td>\n",
       "      <td>4.088000e+08</td>\n",
       "      <td>2</td>\n",
       "    </tr>\n",
       "    <tr>\n",
       "      <th>21</th>\n",
       "      <td>Manchester City</td>\n",
       "      <td>218000000.0</td>\n",
       "      <td>1.067575e+09</td>\n",
       "      <td>2</td>\n",
       "    </tr>\n",
       "    <tr>\n",
       "      <th>23</th>\n",
       "      <td>Newcastle</td>\n",
       "      <td>203100000.0</td>\n",
       "      <td>2.111000e+08</td>\n",
       "      <td>2</td>\n",
       "    </tr>\n",
       "    <tr>\n",
       "      <th>26</th>\n",
       "      <td>Wolfsburg</td>\n",
       "      <td>190800000.0</td>\n",
       "      <td>2.417000e+08</td>\n",
       "      <td>2</td>\n",
       "    </tr>\n",
       "    <tr>\n",
       "      <th>27</th>\n",
       "      <td>Bor. Dortmund</td>\n",
       "      <td>189050000.0</td>\n",
       "      <td>2.668000e+08</td>\n",
       "      <td>2</td>\n",
       "    </tr>\n",
       "    <tr>\n",
       "      <th>28</th>\n",
       "      <td>Bayern Munich</td>\n",
       "      <td>187000000.0</td>\n",
       "      <td>4.100000e+08</td>\n",
       "      <td>2</td>\n",
       "    </tr>\n",
       "  </tbody>\n",
       "</table>\n",
       "</div>"
      ],
      "text/plain": [
       "                 FROM         Sell           Buy  Strategy\n",
       "1           Liverpool  490900000.0  6.356300e+08         2\n",
       "3         Real Madrid  424400000.0  1.005800e+09         2\n",
       "5     Atletico Madrid  368700000.0  5.554000e+08         2\n",
       "6             Chelsea  353600000.0  7.986500e+08         2\n",
       "8                Roma  337800000.0  4.351500e+08         2\n",
       "9           Tottenham  331450000.0  4.136000e+08         2\n",
       "10           Juventus  319100000.0  6.583000e+08         2\n",
       "11          Barcelona  280600000.0  8.769000e+08         2\n",
       "12             Monaco  272200000.0  2.944500e+08         2\n",
       "13        Inter Milan  270200000.0  3.895000e+08         2\n",
       "14  Manchester United  264150000.0  7.387500e+08         2\n",
       "17             Napoli  238250000.0  2.827000e+08         2\n",
       "18           AC Milan  238100000.0  2.724000e+08         2\n",
       "19            Arsenal  231200000.0  4.088000e+08         2\n",
       "21    Manchester City  218000000.0  1.067575e+09         2\n",
       "23          Newcastle  203100000.0  2.111000e+08         2\n",
       "26          Wolfsburg  190800000.0  2.417000e+08         2\n",
       "27      Bor. Dortmund  189050000.0  2.668000e+08         2\n",
       "28      Bayern Munich  187000000.0  4.100000e+08         2"
      ]
     },
     "execution_count": 194,
     "metadata": {},
     "output_type": "execute_result"
    }
   ],
   "source": [
    "res1['Strategy'] = 1\n",
    "res1.Strategy.loc[(res1.Sell < res1.Buy)] = 2\n",
    "a = res1[res1.Strategy == 1]\n",
    "b = res1[res1.Strategy == 2]\n",
    "b"
   ]
  },
  {
   "cell_type": "code",
   "execution_count": 212,
   "metadata": {},
   "outputs": [
    {
     "data": {
      "text/html": [
       "<div>\n",
       "<style scoped>\n",
       "    .dataframe tbody tr th:only-of-type {\n",
       "        vertical-align: middle;\n",
       "    }\n",
       "\n",
       "    .dataframe tbody tr th {\n",
       "        vertical-align: top;\n",
       "    }\n",
       "\n",
       "    .dataframe thead th {\n",
       "        text-align: right;\n",
       "    }\n",
       "</style>\n",
       "<table border=\"1\" class=\"dataframe\">\n",
       "  <thead>\n",
       "    <tr style=\"text-align: right;\">\n",
       "      <th></th>\n",
       "      <th>FROM</th>\n",
       "      <th>Sell</th>\n",
       "      <th>Buy</th>\n",
       "      <th>Strategy</th>\n",
       "      <th>Rating</th>\n",
       "    </tr>\n",
       "  </thead>\n",
       "  <tbody>\n",
       "    <tr>\n",
       "      <th>0</th>\n",
       "      <td>Porto</td>\n",
       "      <td>503100000.0</td>\n",
       "      <td>1.543000e+08</td>\n",
       "      <td>1</td>\n",
       "      <td>1.000000</td>\n",
       "    </tr>\n",
       "    <tr>\n",
       "      <th>1</th>\n",
       "      <td>Liverpool</td>\n",
       "      <td>490900000.0</td>\n",
       "      <td>6.356300e+08</td>\n",
       "      <td>2</td>\n",
       "      <td>82.300000</td>\n",
       "    </tr>\n",
       "    <tr>\n",
       "      <th>2</th>\n",
       "      <td>Benfica</td>\n",
       "      <td>439000000.0</td>\n",
       "      <td>1.044000e+08</td>\n",
       "      <td>1</td>\n",
       "      <td>88.600000</td>\n",
       "    </tr>\n",
       "    <tr>\n",
       "      <th>3</th>\n",
       "      <td>Real Madrid</td>\n",
       "      <td>424400000.0</td>\n",
       "      <td>1.005800e+09</td>\n",
       "      <td>2</td>\n",
       "      <td>95.400000</td>\n",
       "    </tr>\n",
       "    <tr>\n",
       "      <th>4</th>\n",
       "      <td>Valencia</td>\n",
       "      <td>421250000.0</td>\n",
       "      <td>2.732000e+08</td>\n",
       "      <td>1</td>\n",
       "      <td>85.800000</td>\n",
       "    </tr>\n",
       "    <tr>\n",
       "      <th>5</th>\n",
       "      <td>Atletico Madrid</td>\n",
       "      <td>368700000.0</td>\n",
       "      <td>5.554000e+08</td>\n",
       "      <td>2</td>\n",
       "      <td>NaN</td>\n",
       "    </tr>\n",
       "    <tr>\n",
       "      <th>6</th>\n",
       "      <td>Chelsea</td>\n",
       "      <td>353600000.0</td>\n",
       "      <td>7.986500e+08</td>\n",
       "      <td>2</td>\n",
       "      <td>97.200000</td>\n",
       "    </tr>\n",
       "    <tr>\n",
       "      <th>7</th>\n",
       "      <td>Sevilla</td>\n",
       "      <td>348250000.0</td>\n",
       "      <td>1.979000e+08</td>\n",
       "      <td>1</td>\n",
       "      <td>84.500000</td>\n",
       "    </tr>\n",
       "    <tr>\n",
       "      <th>8</th>\n",
       "      <td>Roma</td>\n",
       "      <td>337800000.0</td>\n",
       "      <td>4.351500e+08</td>\n",
       "      <td>2</td>\n",
       "      <td>NaN</td>\n",
       "    </tr>\n",
       "    <tr>\n",
       "      <th>9</th>\n",
       "      <td>Tottenham</td>\n",
       "      <td>331450000.0</td>\n",
       "      <td>4.136000e+08</td>\n",
       "      <td>2</td>\n",
       "      <td>NaN</td>\n",
       "    </tr>\n",
       "    <tr>\n",
       "      <th>10</th>\n",
       "      <td>Juventus</td>\n",
       "      <td>319100000.0</td>\n",
       "      <td>6.583000e+08</td>\n",
       "      <td>2</td>\n",
       "      <td>78.600000</td>\n",
       "    </tr>\n",
       "    <tr>\n",
       "      <th>11</th>\n",
       "      <td>Barcelona</td>\n",
       "      <td>280600000.0</td>\n",
       "      <td>8.769000e+08</td>\n",
       "      <td>2</td>\n",
       "      <td>NaN</td>\n",
       "    </tr>\n",
       "    <tr>\n",
       "      <th>12</th>\n",
       "      <td>Monaco</td>\n",
       "      <td>272200000.0</td>\n",
       "      <td>2.944500e+08</td>\n",
       "      <td>2</td>\n",
       "      <td>NaN</td>\n",
       "    </tr>\n",
       "    <tr>\n",
       "      <th>13</th>\n",
       "      <td>Inter Milan</td>\n",
       "      <td>270200000.0</td>\n",
       "      <td>3.895000e+08</td>\n",
       "      <td>2</td>\n",
       "      <td>NaN</td>\n",
       "    </tr>\n",
       "    <tr>\n",
       "      <th>14</th>\n",
       "      <td>Manchester United</td>\n",
       "      <td>264150000.0</td>\n",
       "      <td>7.387500e+08</td>\n",
       "      <td>2</td>\n",
       "      <td>93.900000</td>\n",
       "    </tr>\n",
       "    <tr>\n",
       "      <th>15</th>\n",
       "      <td>Southampton</td>\n",
       "      <td>242900000.0</td>\n",
       "      <td>2.238500e+08</td>\n",
       "      <td>1</td>\n",
       "      <td>NaN</td>\n",
       "    </tr>\n",
       "    <tr>\n",
       "      <th>16</th>\n",
       "      <td>Ajax</td>\n",
       "      <td>238450000.0</td>\n",
       "      <td>1.750000e+07</td>\n",
       "      <td>1</td>\n",
       "      <td>69.600000</td>\n",
       "    </tr>\n",
       "    <tr>\n",
       "      <th>17</th>\n",
       "      <td>Napoli</td>\n",
       "      <td>238250000.0</td>\n",
       "      <td>2.827000e+08</td>\n",
       "      <td>2</td>\n",
       "      <td>60.857143</td>\n",
       "    </tr>\n",
       "    <tr>\n",
       "      <th>18</th>\n",
       "      <td>AC Milan</td>\n",
       "      <td>238100000.0</td>\n",
       "      <td>2.724000e+08</td>\n",
       "      <td>2</td>\n",
       "      <td>85.900000</td>\n",
       "    </tr>\n",
       "    <tr>\n",
       "      <th>19</th>\n",
       "      <td>Arsenal</td>\n",
       "      <td>231200000.0</td>\n",
       "      <td>4.088000e+08</td>\n",
       "      <td>2</td>\n",
       "      <td>93.800000</td>\n",
       "    </tr>\n",
       "    <tr>\n",
       "      <th>20</th>\n",
       "      <td>Lille</td>\n",
       "      <td>219900000.0</td>\n",
       "      <td>3.200000e+07</td>\n",
       "      <td>1</td>\n",
       "      <td>NaN</td>\n",
       "    </tr>\n",
       "    <tr>\n",
       "      <th>21</th>\n",
       "      <td>Manchester City</td>\n",
       "      <td>218000000.0</td>\n",
       "      <td>1.067575e+09</td>\n",
       "      <td>2</td>\n",
       "      <td>64.400000</td>\n",
       "    </tr>\n",
       "    <tr>\n",
       "      <th>22</th>\n",
       "      <td>Lyon</td>\n",
       "      <td>208000000.0</td>\n",
       "      <td>1.277000e+08</td>\n",
       "      <td>1</td>\n",
       "      <td>NaN</td>\n",
       "    </tr>\n",
       "    <tr>\n",
       "      <th>23</th>\n",
       "      <td>Newcastle</td>\n",
       "      <td>203100000.0</td>\n",
       "      <td>2.111000e+08</td>\n",
       "      <td>2</td>\n",
       "      <td>NaN</td>\n",
       "    </tr>\n",
       "    <tr>\n",
       "      <th>24</th>\n",
       "      <td>Villarreal</td>\n",
       "      <td>200600000.0</td>\n",
       "      <td>1.327500e+08</td>\n",
       "      <td>1</td>\n",
       "      <td>77.900000</td>\n",
       "    </tr>\n",
       "    <tr>\n",
       "      <th>25</th>\n",
       "      <td>Udinese</td>\n",
       "      <td>198250000.0</td>\n",
       "      <td>4.845000e+07</td>\n",
       "      <td>1</td>\n",
       "      <td>37.666667</td>\n",
       "    </tr>\n",
       "    <tr>\n",
       "      <th>26</th>\n",
       "      <td>Wolfsburg</td>\n",
       "      <td>190800000.0</td>\n",
       "      <td>2.417000e+08</td>\n",
       "      <td>2</td>\n",
       "      <td>NaN</td>\n",
       "    </tr>\n",
       "    <tr>\n",
       "      <th>27</th>\n",
       "      <td>Bor. Dortmund</td>\n",
       "      <td>189050000.0</td>\n",
       "      <td>2.668000e+08</td>\n",
       "      <td>2</td>\n",
       "      <td>NaN</td>\n",
       "    </tr>\n",
       "    <tr>\n",
       "      <th>28</th>\n",
       "      <td>Bayern Munich</td>\n",
       "      <td>187000000.0</td>\n",
       "      <td>4.100000e+08</td>\n",
       "      <td>2</td>\n",
       "      <td>NaN</td>\n",
       "    </tr>\n",
       "    <tr>\n",
       "      <th>29</th>\n",
       "      <td>Fiorentina</td>\n",
       "      <td>182000000.0</td>\n",
       "      <td>1.667000e+08</td>\n",
       "      <td>1</td>\n",
       "      <td>63.100000</td>\n",
       "    </tr>\n",
       "  </tbody>\n",
       "</table>\n",
       "</div>"
      ],
      "text/plain": [
       "                 FROM         Sell           Buy  Strategy     Rating\n",
       "0               Porto  503100000.0  1.543000e+08         1   1.000000\n",
       "1           Liverpool  490900000.0  6.356300e+08         2  82.300000\n",
       "2             Benfica  439000000.0  1.044000e+08         1  88.600000\n",
       "3         Real Madrid  424400000.0  1.005800e+09         2  95.400000\n",
       "4            Valencia  421250000.0  2.732000e+08         1  85.800000\n",
       "5     Atletico Madrid  368700000.0  5.554000e+08         2        NaN\n",
       "6             Chelsea  353600000.0  7.986500e+08         2  97.200000\n",
       "7             Sevilla  348250000.0  1.979000e+08         1  84.500000\n",
       "8                Roma  337800000.0  4.351500e+08         2        NaN\n",
       "9           Tottenham  331450000.0  4.136000e+08         2        NaN\n",
       "10           Juventus  319100000.0  6.583000e+08         2  78.600000\n",
       "11          Barcelona  280600000.0  8.769000e+08         2        NaN\n",
       "12             Monaco  272200000.0  2.944500e+08         2        NaN\n",
       "13        Inter Milan  270200000.0  3.895000e+08         2        NaN\n",
       "14  Manchester United  264150000.0  7.387500e+08         2  93.900000\n",
       "15        Southampton  242900000.0  2.238500e+08         1        NaN\n",
       "16               Ajax  238450000.0  1.750000e+07         1  69.600000\n",
       "17             Napoli  238250000.0  2.827000e+08         2  60.857143\n",
       "18           AC Milan  238100000.0  2.724000e+08         2  85.900000\n",
       "19            Arsenal  231200000.0  4.088000e+08         2  93.800000\n",
       "20              Lille  219900000.0  3.200000e+07         1        NaN\n",
       "21    Manchester City  218000000.0  1.067575e+09         2  64.400000\n",
       "22               Lyon  208000000.0  1.277000e+08         1        NaN\n",
       "23          Newcastle  203100000.0  2.111000e+08         2        NaN\n",
       "24         Villarreal  200600000.0  1.327500e+08         1  77.900000\n",
       "25            Udinese  198250000.0  4.845000e+07         1  37.666667\n",
       "26          Wolfsburg  190800000.0  2.417000e+08         2        NaN\n",
       "27      Bor. Dortmund  189050000.0  2.668000e+08         2        NaN\n",
       "28      Bayern Munich  187000000.0  4.100000e+08         2        NaN\n",
       "29         Fiorentina  182000000.0  1.667000e+08         1  63.100000"
      ]
     },
     "execution_count": 212,
     "metadata": {},
     "output_type": "execute_result"
    }
   ],
   "source": [
    "res2 = pd.merge(res1, rat1, how='left', on=['FROM'])\n",
    "res2.Rating[0] = 88.7\n",
    "res2.Rating[0] = 1\n",
    "res2.Rating[0] = 1\n",
    "res2.Rating[0] = 1\n",
    "res2.Rating[0] = 1\n",
    "res2.Rating[0] = 1\n",
    "res2"
   ]
  },
  {
   "cell_type": "code",
   "execution_count": 196,
   "metadata": {},
   "outputs": [
    {
     "data": {
      "text/plain": [
       "POSITION\n",
       "Attacker      1295\n",
       "Defender      1376\n",
       "Goalkeeper     336\n",
       "Midfielder    1756\n",
       "Name: PLAYER, dtype: int64"
      ]
     },
     "execution_count": 196,
     "metadata": {},
     "output_type": "execute_result"
    }
   ],
   "source": [
    "data.groupby(data.POSITION)['PLAYER'].count()"
   ]
  },
  {
   "cell_type": "code",
   "execution_count": 197,
   "metadata": {},
   "outputs": [
    {
     "data": {
      "text/plain": [
       "TO\n",
       "Roma               116\n",
       "Genoa              110\n",
       "Fiorentina         107\n",
       "Juventus           101\n",
       "Sampdoria           99\n",
       "AC Milan            99\n",
       "Sunderland          89\n",
       "Palermo             85\n",
       "Udinese             84\n",
       "Parma               82\n",
       "Sevilla             81\n",
       "Malaga              81\n",
       "Inter Milan         79\n",
       "West Ham            79\n",
       "Atletico Madrid     76\n",
       "Napoli              75\n",
       "Torino              70\n",
       "Valencia            69\n",
       "Chievo              68\n",
       "Liverpool           66\n",
       "Atalanta            64\n",
       "Lazio               63\n",
       "Manchester City     62\n",
       "Granada             62\n",
       "Bologna             61\n",
       "Chelsea             59\n",
       "Everton             54\n",
       "Espanyol            54\n",
       "Tottenham           54\n",
       "Real Madrid         53\n",
       "Name: PLAYER, dtype: int64"
      ]
     },
     "execution_count": 197,
     "metadata": {},
     "output_type": "execute_result"
    }
   ],
   "source": [
    "data_teams = data.groupby(data.TO)['PLAYER'].count().sort_values(ascending=False)\n",
    "data_teams[:30]"
   ]
  },
  {
   "cell_type": "code",
   "execution_count": null,
   "metadata": {},
   "outputs": [],
   "source": []
  },
  {
   "cell_type": "code",
   "execution_count": 133,
   "metadata": {},
   "outputs": [
    {
     "data": {
      "text/plain": [
       "17192435000.0"
      ]
     },
     "execution_count": 133,
     "metadata": {},
     "output_type": "execute_result"
    }
   ],
   "source": [
    "data.PRICE.sum()"
   ]
  },
  {
   "cell_type": "code",
   "execution_count": 134,
   "metadata": {},
   "outputs": [
    {
     "data": {
      "text/plain": [
       "COUNTRY\n",
       "Italy      523\n",
       "Spain      509\n",
       "France     395\n",
       "England    337\n",
       "Brazil     314\n",
       "Name: PLAYER, dtype: int64"
      ]
     },
     "execution_count": 134,
     "metadata": {},
     "output_type": "execute_result"
    }
   ],
   "source": [
    "data.groupby(data.COUNTRY)['PLAYER'].count().sort_values(ascending=False).head()"
   ]
  },
  {
   "cell_type": "code",
   "execution_count": null,
   "metadata": {},
   "outputs": [],
   "source": []
  },
  {
   "cell_type": "code",
   "execution_count": null,
   "metadata": {},
   "outputs": [],
   "source": []
  }
 ],
 "metadata": {
  "kernelspec": {
   "display_name": "Python 3",
   "language": "python",
   "name": "python3"
  },
  "language_info": {
   "codemirror_mode": {
    "name": "ipython",
    "version": 3
   },
   "file_extension": ".py",
   "mimetype": "text/x-python",
   "name": "python",
   "nbconvert_exporter": "python",
   "pygments_lexer": "ipython3",
   "version": "3.7.3"
  }
 },
 "nbformat": 4,
 "nbformat_minor": 2
}
