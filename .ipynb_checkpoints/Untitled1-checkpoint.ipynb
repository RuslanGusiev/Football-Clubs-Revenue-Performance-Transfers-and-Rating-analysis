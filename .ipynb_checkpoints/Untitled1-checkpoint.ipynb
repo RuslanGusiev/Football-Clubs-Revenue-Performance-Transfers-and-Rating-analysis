{
 "cells": [
  {
   "cell_type": "code",
   "execution_count": 1,
   "metadata": {},
   "outputs": [],
   "source": [
    "import requests\n",
    "from bs4 import BeautifulSoup\n",
    "import pandas as pd\n",
    "import numpy as np \n",
    "import re\n",
    "import json\n",
    "from pandas.io.json import json_normalize"
   ]
  },
  {
   "cell_type": "code",
   "execution_count": 19,
   "metadata": {},
   "outputs": [],
   "source": [
    "url = 'https://kassiesa.home.xs4all.nl/bert/uefa/data/method4/trank2017.html'\n",
    "data = requests.get(url).content\n",
    "soup = BeautifulSoup(data, \"html.parser\")"
   ]
  },
  {
   "cell_type": "code",
   "execution_count": 20,
   "metadata": {},
   "outputs": [
    {
     "data": {
      "text/plain": [
       "True"
      ]
     },
     "execution_count": 20,
     "metadata": {},
     "output_type": "execute_result"
    }
   ],
   "source": [
    "#checking can we scrap website or not \n",
    "import urllib.robotparser\n",
    "\n",
    "rp = urllib.robotparser.RobotFileParser()\n",
    "rp.set_url(\"https://www.uefa.com/memberassociations/uefarankings/club/#/yr/2017/robots.txt\")\n",
    "#rp.set_url(\"https://www.facebook.com/robots.txt\")\n",
    "rp.read()\n",
    "rp.can_fetch(\"*\", \"https://www.uefa.com/memberassociations/uefarankings/club/#/yr/2017\") # So we can scrap this site\n",
    "#rp.can_fetch(\"*\", \"https://www.facebook.com/\") # We can't scrap this site"
   ]
  },
  {
   "cell_type": "code",
   "execution_count": 51,
   "metadata": {},
   "outputs": [
    {
     "data": {
      "text/plain": [
       "['Real Madrid',\n",
       " 'Bayern München',\n",
       " 'FC Barcelona',\n",
       " 'Atlético Madrid',\n",
       " 'Juventus',\n",
       " 'Paris Saint-Germain',\n",
       " 'Borussia Dortmund',\n",
       " 'Sevilla',\n",
       " 'Benfica',\n",
       " 'Chelsea',\n",
       " 'Arsenal',\n",
       " 'Manchester City',\n",
       " 'FC Porto',\n",
       " 'Schalke 04',\n",
       " 'Manchester United',\n",
       " 'Bayer Leverkusen',\n",
       " 'Napoli',\n",
       " 'Shakhtar Donetsk',\n",
       " 'Zenit St. Petersburg',\n",
       " 'Tottenham Hotspur',\n",
       " 'Valencia',\n",
       " 'FC Basel',\n",
       " 'Olympique Lyon',\n",
       " 'Fiorentina',\n",
       " 'Dinamo Kiev',\n",
       " 'Ajax',\n",
       " 'Villarreal',\n",
       " 'Olympiakos Piraeus',\n",
       " 'AS Monaco',\n",
       " 'Athletic Bilbao',\n",
       " 'Galatasaray',\n",
       " 'Anderlecht',\n",
       " 'Lazio',\n",
       " 'Liverpool',\n",
       " 'VfL Wolfsburg',\n",
       " 'Borussia Mönchengladbach',\n",
       " 'AS Roma',\n",
       " 'Dnipro Dnipropetrovsk',\n",
       " 'Fenerbahçe',\n",
       " 'Sparta Praha',\n",
       " 'AC Milan',\n",
       " 'PSV Eindhoven',\n",
       " 'Besiktas',\n",
       " 'Racing Genk',\n",
       " 'Internazionale',\n",
       " 'Rubin Kazan',\n",
       " 'Málaga CF',\n",
       " 'Celtic',\n",
       " 'Viktoria Plzen',\n",
       " 'FC Salzburg']"
      ]
     },
     "execution_count": 51,
     "metadata": {},
     "output_type": "execute_result"
    }
   ],
   "source": [
    "#rows = soup.find_all(\"table\") #class_=\"table table--standings js-datatables dataTable no-footer\")\n",
    "#soup.find_all('table', class_=\"t1\")\n",
    "table = soup.find_all('td', align=\"left\")\n",
    "text = [t.text for t in table] \n",
    "text1617 = text[1:51]\n",
    "text1617"
   ]
  },
  {
   "cell_type": "code",
   "execution_count": null,
   "metadata": {},
   "outputs": [],
   "source": []
  }
 ],
 "metadata": {
  "kernelspec": {
   "display_name": "Python 3",
   "language": "python",
   "name": "python3"
  },
  "language_info": {
   "codemirror_mode": {
    "name": "ipython",
    "version": 3
   },
   "file_extension": ".py",
   "mimetype": "text/x-python",
   "name": "python",
   "nbconvert_exporter": "python",
   "pygments_lexer": "ipython3",
   "version": "3.7.3"
  }
 },
 "nbformat": 4,
 "nbformat_minor": 2
}
